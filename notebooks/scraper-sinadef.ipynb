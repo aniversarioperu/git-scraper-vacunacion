{
 "cells": [
  {
   "cell_type": "code",
   "execution_count": 34,
   "metadata": {},
   "outputs": [],
   "source": [
    "import numpy as np\n",
    "import pandas as pd\n",
    "import zipfile\n",
    "from urllib.request import urlopen, Request\n",
    "import io\n",
    "from datetime import date, timedelta"
   ]
  },
  {
   "cell_type": "code",
   "execution_count": 8,
   "metadata": {},
   "outputs": [
    {
     "output_type": "execute_result",
     "data": {
      "text/plain": [
       "       TIPO SEGURO       SEXO EDAD TIEMPO EDAD ESTADO CIVIL  \\\n",
       "Nº                                                            \n",
       "1              SIS   FEMENINO   15     MINUTOS      SOLTERO   \n",
       "2              SIS  MASCULINO    4        AÑOS      SOLTERO   \n",
       "3              SIS   FEMENINO   86        AÑOS      SOLTERO   \n",
       "4         IGNORADO  MASCULINO   59        AÑOS      SOLTERO   \n",
       "5              SIS  MASCULINO   51        AÑOS      SOLTERO   \n",
       "...            ...        ...  ...         ...          ...   \n",
       "697933         SIS  MASCULINO   77        AÑOS       CASADO   \n",
       "697934         SIS   FEMENINO   86        AÑOS      SOLTERO   \n",
       "697935         SIS  MASCULINO   63        AÑOS      SOLTERO   \n",
       "697936         SIS   FEMENINO   78        AÑOS       CASADO   \n",
       "697937         SIS  MASCULINO    1        AÑOS      SOLTERO   \n",
       "\n",
       "           NIVEL DE INSTRUCCIÓN COD# UBIGEO DOMICILIO PAIS DOMICILIO  \\\n",
       "Nº                                                                     \n",
       "1       SUPERIOR NO UNIV. COMP.    92-33-12-08-06-000           PERU   \n",
       "2                      IGNORADO    92-33-21-04-01-000           PERU   \n",
       "3           PRIMARIA INCOMPLETA    92-33-21-03-13-000           PERU   \n",
       "4                      IGNORADO    92-33-24-01-01-000           PERU   \n",
       "5       SUPERIOR NO UNIV. COMP.    92-33-14-10-01-106           PERU   \n",
       "...                         ...                   ...            ...   \n",
       "697933  NINGUN NIVEL / ILETRADO    92-33-05-07-02-101           PERU   \n",
       "697934  NINGUN NIVEL / ILETRADO    92-33-05-04-03-101           PERU   \n",
       "697935  NINGUN NIVEL / ILETRADO    92-33-02-10-03-102           PERU   \n",
       "697936        PRIMARIA COMPLETA    92-33-02-10-10-000           PERU   \n",
       "697937  NINGUN NIVEL / ILETRADO    92-33-01-04-04-000           PERU   \n",
       "\n",
       "       DEPARTAMENTO DOMICILIO PROVINCIA DOMICILIO  ...  \\\n",
       "Nº                                                 ...   \n",
       "1                 LA LIBERTAD              ASCOPE  ...   \n",
       "2                  SAN MARTIN    MARISCAL CACERES  ...   \n",
       "3                  SAN MARTIN               LAMAS  ...   \n",
       "4                      CALLAO              CALLAO  ...   \n",
       "5                        LIMA                OYON  ...   \n",
       "...                       ...                 ...  ...   \n",
       "697933               AYACUCHO      VICTOR FAJARDO  ...   \n",
       "697934               AYACUCHO              LA MAR  ...   \n",
       "697935                 ANCASH            PALLASCA  ...   \n",
       "697936                 ANCASH            PALLASCA  ...   \n",
       "697937               AMAZONAS                LUYA  ...   \n",
       "\n",
       "                               DEBIDO A (CAUSA B) CAUSA B (CIE-X)  \\\n",
       "Nº                                                                  \n",
       "1       DIFICULTAD RESPIRATORIA DEL RECIEN NACIDO            P229   \n",
       "2                                 NEUMONIA SEVERA            J159   \n",
       "3                  HIPERLIPIDEMIA NO ESPECIFICADA            E785   \n",
       "4                              SHOCK HIPOVOLEMICO    SIN REGISTRO   \n",
       "5                                    SIN REGISTRO    SIN REGISTRO   \n",
       "...                                           ...             ...   \n",
       "697933                               SIN REGISTRO    SIN REGISTRO   \n",
       "697934       ESTADO ASMATICO.  ASMA AGUDA SEVERA.            J46X   \n",
       "697935          CAIDA POR DESLIZAMIENTO EN CALLES            W014   \n",
       "697936                               SIN REGISTRO    SIN REGISTRO   \n",
       "697937                     HIDROCEFALIA CONGENITA            P835   \n",
       "\n",
       "                                       DEBIDO A (CAUSA C)  CAUSA C (CIE-X)  \\\n",
       "Nº                                                                           \n",
       "1                                     INMATURIDAD EXTREMA             P072   \n",
       "2                                            SIN REGISTRO     SIN REGISTRO   \n",
       "3        ATEROSCLEROSIS GENERALIZADA Y LA NO ESPECIFICADA             I709   \n",
       "4                                      SUCESO DE TRANSITO     SIN REGISTRO   \n",
       "5                                            SIN REGISTRO     SIN REGISTRO   \n",
       "...                                                   ...              ...   \n",
       "697933                                       SIN REGISTRO     SIN REGISTRO   \n",
       "697934  ASMA NO ESPECIFICADO. ASMA DE APARICION TARDIA...             J459   \n",
       "697935                                       SIN REGISTRO     SIN REGISTRO   \n",
       "697936                                       SIN REGISTRO     SIN REGISTRO   \n",
       "697937                                       SIN REGISTRO     SIN REGISTRO   \n",
       "\n",
       "           DEBIDO A (CAUSA D) CAUSA D (CIE-X)           DEBIDO A (CAUSA E)  \\\n",
       "Nº                                                                           \n",
       "1                SIN REGISTRO    SIN REGISTRO                 SIN REGISTRO   \n",
       "2                SIN REGISTRO    SIN REGISTRO  PARALISIS CEREBRAL INFANTIL   \n",
       "3       HIPERTENSION ESENCIAL            I10X                 SIN REGISTRO   \n",
       "4                SIN REGISTRO    SIN REGISTRO                 SIN REGISTRO   \n",
       "5                SIN REGISTRO    SIN REGISTRO                 SIN REGISTRO   \n",
       "...                       ...             ...                          ...   \n",
       "697933           SIN REGISTRO    SIN REGISTRO                 SIN REGISTRO   \n",
       "697934           SIN REGISTRO    SIN REGISTRO                 SIN REGISTRO   \n",
       "697935           SIN REGISTRO    SIN REGISTRO                 SIN REGISTRO   \n",
       "697936           SIN REGISTRO    SIN REGISTRO                 SIN REGISTRO   \n",
       "697937           SIN REGISTRO    SIN REGISTRO                 SIN REGISTRO   \n",
       "\n",
       "       CAUSA E (CIE-X) DEBIDO A (CAUSA F) CAUSA F (CIE-X)  \n",
       "Nº                                                         \n",
       "1         SIN REGISTRO       SIN REGISTRO    SIN REGISTRO  \n",
       "2                 G809       SIN REGISTRO    SIN REGISTRO  \n",
       "3         SIN REGISTRO       SIN REGISTRO    SIN REGISTRO  \n",
       "4         SIN REGISTRO       SIN REGISTRO    SIN REGISTRO  \n",
       "5         SIN REGISTRO       SIN REGISTRO    SIN REGISTRO  \n",
       "...                ...                ...             ...  \n",
       "697933    SIN REGISTRO       SIN REGISTRO    SIN REGISTRO  \n",
       "697934    SIN REGISTRO       SIN REGISTRO    SIN REGISTRO  \n",
       "697935    SIN REGISTRO       SIN REGISTRO    SIN REGISTRO  \n",
       "697936    SIN REGISTRO       SIN REGISTRO    SIN REGISTRO  \n",
       "697937    SIN REGISTRO       SIN REGISTRO    SIN REGISTRO  \n",
       "\n",
       "[697937 rows x 30 columns]"
      ],
      "text/html": "<div>\n<style scoped>\n    .dataframe tbody tr th:only-of-type {\n        vertical-align: middle;\n    }\n\n    .dataframe tbody tr th {\n        vertical-align: top;\n    }\n\n    .dataframe thead th {\n        text-align: right;\n    }\n</style>\n<table border=\"1\" class=\"dataframe\">\n  <thead>\n    <tr style=\"text-align: right;\">\n      <th></th>\n      <th>TIPO SEGURO</th>\n      <th>SEXO</th>\n      <th>EDAD</th>\n      <th>TIEMPO EDAD</th>\n      <th>ESTADO CIVIL</th>\n      <th>NIVEL DE INSTRUCCIÓN</th>\n      <th>COD# UBIGEO DOMICILIO</th>\n      <th>PAIS DOMICILIO</th>\n      <th>DEPARTAMENTO DOMICILIO</th>\n      <th>PROVINCIA DOMICILIO</th>\n      <th>...</th>\n      <th>DEBIDO A (CAUSA B)</th>\n      <th>CAUSA B (CIE-X)</th>\n      <th>DEBIDO A (CAUSA C)</th>\n      <th>CAUSA C (CIE-X)</th>\n      <th>DEBIDO A (CAUSA D)</th>\n      <th>CAUSA D (CIE-X)</th>\n      <th>DEBIDO A (CAUSA E)</th>\n      <th>CAUSA E (CIE-X)</th>\n      <th>DEBIDO A (CAUSA F)</th>\n      <th>CAUSA F (CIE-X)</th>\n    </tr>\n    <tr>\n      <th>Nº</th>\n      <th></th>\n      <th></th>\n      <th></th>\n      <th></th>\n      <th></th>\n      <th></th>\n      <th></th>\n      <th></th>\n      <th></th>\n      <th></th>\n      <th></th>\n      <th></th>\n      <th></th>\n      <th></th>\n      <th></th>\n      <th></th>\n      <th></th>\n      <th></th>\n      <th></th>\n      <th></th>\n      <th></th>\n    </tr>\n  </thead>\n  <tbody>\n    <tr>\n      <th>1</th>\n      <td>SIS</td>\n      <td>FEMENINO</td>\n      <td>15</td>\n      <td>MINUTOS</td>\n      <td>SOLTERO</td>\n      <td>SUPERIOR NO UNIV. COMP.</td>\n      <td>92-33-12-08-06-000</td>\n      <td>PERU</td>\n      <td>LA LIBERTAD</td>\n      <td>ASCOPE</td>\n      <td>...</td>\n      <td>DIFICULTAD RESPIRATORIA DEL RECIEN NACIDO</td>\n      <td>P229</td>\n      <td>INMATURIDAD EXTREMA</td>\n      <td>P072</td>\n      <td>SIN REGISTRO</td>\n      <td>SIN REGISTRO</td>\n      <td>SIN REGISTRO</td>\n      <td>SIN REGISTRO</td>\n      <td>SIN REGISTRO</td>\n      <td>SIN REGISTRO</td>\n    </tr>\n    <tr>\n      <th>2</th>\n      <td>SIS</td>\n      <td>MASCULINO</td>\n      <td>4</td>\n      <td>AÑOS</td>\n      <td>SOLTERO</td>\n      <td>IGNORADO</td>\n      <td>92-33-21-04-01-000</td>\n      <td>PERU</td>\n      <td>SAN MARTIN</td>\n      <td>MARISCAL CACERES</td>\n      <td>...</td>\n      <td>NEUMONIA SEVERA</td>\n      <td>J159</td>\n      <td>SIN REGISTRO</td>\n      <td>SIN REGISTRO</td>\n      <td>SIN REGISTRO</td>\n      <td>SIN REGISTRO</td>\n      <td>PARALISIS CEREBRAL INFANTIL</td>\n      <td>G809</td>\n      <td>SIN REGISTRO</td>\n      <td>SIN REGISTRO</td>\n    </tr>\n    <tr>\n      <th>3</th>\n      <td>SIS</td>\n      <td>FEMENINO</td>\n      <td>86</td>\n      <td>AÑOS</td>\n      <td>SOLTERO</td>\n      <td>PRIMARIA INCOMPLETA</td>\n      <td>92-33-21-03-13-000</td>\n      <td>PERU</td>\n      <td>SAN MARTIN</td>\n      <td>LAMAS</td>\n      <td>...</td>\n      <td>HIPERLIPIDEMIA NO ESPECIFICADA</td>\n      <td>E785</td>\n      <td>ATEROSCLEROSIS GENERALIZADA Y LA NO ESPECIFICADA</td>\n      <td>I709</td>\n      <td>HIPERTENSION ESENCIAL</td>\n      <td>I10X</td>\n      <td>SIN REGISTRO</td>\n      <td>SIN REGISTRO</td>\n      <td>SIN REGISTRO</td>\n      <td>SIN REGISTRO</td>\n    </tr>\n    <tr>\n      <th>4</th>\n      <td>IGNORADO</td>\n      <td>MASCULINO</td>\n      <td>59</td>\n      <td>AÑOS</td>\n      <td>SOLTERO</td>\n      <td>IGNORADO</td>\n      <td>92-33-24-01-01-000</td>\n      <td>PERU</td>\n      <td>CALLAO</td>\n      <td>CALLAO</td>\n      <td>...</td>\n      <td>SHOCK HIPOVOLEMICO</td>\n      <td>SIN REGISTRO</td>\n      <td>SUCESO DE TRANSITO</td>\n      <td>SIN REGISTRO</td>\n      <td>SIN REGISTRO</td>\n      <td>SIN REGISTRO</td>\n      <td>SIN REGISTRO</td>\n      <td>SIN REGISTRO</td>\n      <td>SIN REGISTRO</td>\n      <td>SIN REGISTRO</td>\n    </tr>\n    <tr>\n      <th>5</th>\n      <td>SIS</td>\n      <td>MASCULINO</td>\n      <td>51</td>\n      <td>AÑOS</td>\n      <td>SOLTERO</td>\n      <td>SUPERIOR NO UNIV. COMP.</td>\n      <td>92-33-14-10-01-106</td>\n      <td>PERU</td>\n      <td>LIMA</td>\n      <td>OYON</td>\n      <td>...</td>\n      <td>SIN REGISTRO</td>\n      <td>SIN REGISTRO</td>\n      <td>SIN REGISTRO</td>\n      <td>SIN REGISTRO</td>\n      <td>SIN REGISTRO</td>\n      <td>SIN REGISTRO</td>\n      <td>SIN REGISTRO</td>\n      <td>SIN REGISTRO</td>\n      <td>SIN REGISTRO</td>\n      <td>SIN REGISTRO</td>\n    </tr>\n    <tr>\n      <th>...</th>\n      <td>...</td>\n      <td>...</td>\n      <td>...</td>\n      <td>...</td>\n      <td>...</td>\n      <td>...</td>\n      <td>...</td>\n      <td>...</td>\n      <td>...</td>\n      <td>...</td>\n      <td>...</td>\n      <td>...</td>\n      <td>...</td>\n      <td>...</td>\n      <td>...</td>\n      <td>...</td>\n      <td>...</td>\n      <td>...</td>\n      <td>...</td>\n      <td>...</td>\n      <td>...</td>\n    </tr>\n    <tr>\n      <th>697933</th>\n      <td>SIS</td>\n      <td>MASCULINO</td>\n      <td>77</td>\n      <td>AÑOS</td>\n      <td>CASADO</td>\n      <td>NINGUN NIVEL / ILETRADO</td>\n      <td>92-33-05-07-02-101</td>\n      <td>PERU</td>\n      <td>AYACUCHO</td>\n      <td>VICTOR FAJARDO</td>\n      <td>...</td>\n      <td>SIN REGISTRO</td>\n      <td>SIN REGISTRO</td>\n      <td>SIN REGISTRO</td>\n      <td>SIN REGISTRO</td>\n      <td>SIN REGISTRO</td>\n      <td>SIN REGISTRO</td>\n      <td>SIN REGISTRO</td>\n      <td>SIN REGISTRO</td>\n      <td>SIN REGISTRO</td>\n      <td>SIN REGISTRO</td>\n    </tr>\n    <tr>\n      <th>697934</th>\n      <td>SIS</td>\n      <td>FEMENINO</td>\n      <td>86</td>\n      <td>AÑOS</td>\n      <td>SOLTERO</td>\n      <td>NINGUN NIVEL / ILETRADO</td>\n      <td>92-33-05-04-03-101</td>\n      <td>PERU</td>\n      <td>AYACUCHO</td>\n      <td>LA MAR</td>\n      <td>...</td>\n      <td>ESTADO ASMATICO.  ASMA AGUDA SEVERA.</td>\n      <td>J46X</td>\n      <td>ASMA NO ESPECIFICADO. ASMA DE APARICION TARDIA...</td>\n      <td>J459</td>\n      <td>SIN REGISTRO</td>\n      <td>SIN REGISTRO</td>\n      <td>SIN REGISTRO</td>\n      <td>SIN REGISTRO</td>\n      <td>SIN REGISTRO</td>\n      <td>SIN REGISTRO</td>\n    </tr>\n    <tr>\n      <th>697935</th>\n      <td>SIS</td>\n      <td>MASCULINO</td>\n      <td>63</td>\n      <td>AÑOS</td>\n      <td>SOLTERO</td>\n      <td>NINGUN NIVEL / ILETRADO</td>\n      <td>92-33-02-10-03-102</td>\n      <td>PERU</td>\n      <td>ANCASH</td>\n      <td>PALLASCA</td>\n      <td>...</td>\n      <td>CAIDA POR DESLIZAMIENTO EN CALLES</td>\n      <td>W014</td>\n      <td>SIN REGISTRO</td>\n      <td>SIN REGISTRO</td>\n      <td>SIN REGISTRO</td>\n      <td>SIN REGISTRO</td>\n      <td>SIN REGISTRO</td>\n      <td>SIN REGISTRO</td>\n      <td>SIN REGISTRO</td>\n      <td>SIN REGISTRO</td>\n    </tr>\n    <tr>\n      <th>697936</th>\n      <td>SIS</td>\n      <td>FEMENINO</td>\n      <td>78</td>\n      <td>AÑOS</td>\n      <td>CASADO</td>\n      <td>PRIMARIA COMPLETA</td>\n      <td>92-33-02-10-10-000</td>\n      <td>PERU</td>\n      <td>ANCASH</td>\n      <td>PALLASCA</td>\n      <td>...</td>\n      <td>SIN REGISTRO</td>\n      <td>SIN REGISTRO</td>\n      <td>SIN REGISTRO</td>\n      <td>SIN REGISTRO</td>\n      <td>SIN REGISTRO</td>\n      <td>SIN REGISTRO</td>\n      <td>SIN REGISTRO</td>\n      <td>SIN REGISTRO</td>\n      <td>SIN REGISTRO</td>\n      <td>SIN REGISTRO</td>\n    </tr>\n    <tr>\n      <th>697937</th>\n      <td>SIS</td>\n      <td>MASCULINO</td>\n      <td>1</td>\n      <td>AÑOS</td>\n      <td>SOLTERO</td>\n      <td>NINGUN NIVEL / ILETRADO</td>\n      <td>92-33-01-04-04-000</td>\n      <td>PERU</td>\n      <td>AMAZONAS</td>\n      <td>LUYA</td>\n      <td>...</td>\n      <td>HIDROCEFALIA CONGENITA</td>\n      <td>P835</td>\n      <td>SIN REGISTRO</td>\n      <td>SIN REGISTRO</td>\n      <td>SIN REGISTRO</td>\n      <td>SIN REGISTRO</td>\n      <td>SIN REGISTRO</td>\n      <td>SIN REGISTRO</td>\n      <td>SIN REGISTRO</td>\n      <td>SIN REGISTRO</td>\n    </tr>\n  </tbody>\n</table>\n<p>697937 rows × 30 columns</p>\n</div>"
     },
     "metadata": {},
     "execution_count": 8
    }
   ],
   "source": [
    "req = Request('https://cloud.minsa.gob.pe/s/NctBnHXDnocgWAg/download')\n",
    "req.add_header('User-Agent', 'Mozilla/5.0 (X11; Ubuntu; Linux x86_64; rv:77.0) Gecko/20100101 Firefox/77.0')\n",
    "\n",
    "# open and save the zip file onto computer\n",
    "#url = urlopen(req)\n",
    "\n",
    "file =zipfile.ZipFile((io.BytesIO(urlopen(req).read())))\n",
    "file_name = file.namelist()[1]\n",
    "#file_name\n",
    "xls = pd.read_excel(file.open(file_name).read(), engine='openpyxl', index_col=0)  # <-- add .read()\n",
    "xls"
   ]
  },
  {
   "cell_type": "code",
   "execution_count": 9,
   "metadata": {},
   "outputs": [
    {
     "output_type": "stream",
     "name": "stdout",
     "text": [
      "TIPO SEGURO\nSEXO\nEDAD\nTIEMPO EDAD\nESTADO CIVIL\nNIVEL DE INSTRUCCIÓN\nCOD# UBIGEO DOMICILIO\nPAIS DOMICILIO\nDEPARTAMENTO DOMICILIO\nPROVINCIA DOMICILIO\nDISTRITO DOMICILIO\nFECHA\nAÑO\nMES\nTIPO LUGAR\nINSTITUCION\nMUERTE VIOLENTA\nNECROPSIA\nDEBIDO A (CAUSA A)\nCAUSA A (CIE-X)\nDEBIDO A (CAUSA B)\nCAUSA B (CIE-X)\nDEBIDO A (CAUSA C)\nCAUSA C (CIE-X)\nDEBIDO A (CAUSA D)\nCAUSA D (CIE-X)\nDEBIDO A (CAUSA E)\nCAUSA E (CIE-X)\nDEBIDO A (CAUSA F)\nCAUSA F (CIE-X)\n"
     ]
    }
   ],
   "source": [
    "for col in xls.columns: \n",
    "    print(col) "
   ]
  },
  {
   "cell_type": "code",
   "execution_count": 10,
   "metadata": {},
   "outputs": [
    {
     "output_type": "execute_result",
     "data": {
      "text/plain": [
       "TIPO SEGURO               0\n",
       "SEXO                      0\n",
       "EDAD                      0\n",
       "TIEMPO EDAD               0\n",
       "ESTADO CIVIL              0\n",
       "NIVEL DE INSTRUCCIÓN      0\n",
       "COD# UBIGEO DOMICILIO     0\n",
       "PAIS DOMICILIO            0\n",
       "DEPARTAMENTO DOMICILIO    0\n",
       "PROVINCIA DOMICILIO       0\n",
       "DISTRITO DOMICILIO        0\n",
       "FECHA                     0\n",
       "AÑO                       0\n",
       "MES                       0\n",
       "TIPO LUGAR                0\n",
       "INSTITUCION               0\n",
       "MUERTE VIOLENTA           0\n",
       "NECROPSIA                 0\n",
       "DEBIDO A (CAUSA A)        0\n",
       "CAUSA A (CIE-X)           0\n",
       "DEBIDO A (CAUSA B)        0\n",
       "CAUSA B (CIE-X)           0\n",
       "DEBIDO A (CAUSA C)        0\n",
       "CAUSA C (CIE-X)           0\n",
       "DEBIDO A (CAUSA D)        0\n",
       "CAUSA D (CIE-X)           0\n",
       "DEBIDO A (CAUSA E)        0\n",
       "CAUSA E (CIE-X)           0\n",
       "DEBIDO A (CAUSA F)        0\n",
       "CAUSA F (CIE-X)           0\n",
       "dtype: int64"
      ]
     },
     "metadata": {},
     "execution_count": 10
    }
   ],
   "source": [
    "xls.isnull().sum()"
   ]
  },
  {
   "cell_type": "code",
   "execution_count": 11,
   "metadata": {},
   "outputs": [],
   "source": [
    "xls.drop(['DEBIDO A (CAUSA A)','CAUSA A (CIE-X)', 'DEBIDO A (CAUSA B)', 'CAUSA B (CIE-X)', 'DEBIDO A (CAUSA C)', 'CAUSA C (CIE-X)', 'DEBIDO A (CAUSA D)', 'CAUSA D (CIE-X)', 'DEBIDO A (CAUSA E)', 'CAUSA E (CIE-X)', 'DEBIDO A (CAUSA F)','CAUSA F (CIE-X)'], axis=1, inplace=True)"
   ]
  },
  {
   "cell_type": "code",
   "execution_count": 12,
   "metadata": {},
   "outputs": [
    {
     "output_type": "execute_result",
     "data": {
      "text/plain": [
       "       TIPO SEGURO       SEXO EDAD TIEMPO EDAD ESTADO CIVIL  \\\n",
       "Nº                                                            \n",
       "1              SIS   FEMENINO   15     MINUTOS      SOLTERO   \n",
       "2              SIS  MASCULINO    4        AÑOS      SOLTERO   \n",
       "3              SIS   FEMENINO   86        AÑOS      SOLTERO   \n",
       "4         IGNORADO  MASCULINO   59        AÑOS      SOLTERO   \n",
       "5              SIS  MASCULINO   51        AÑOS      SOLTERO   \n",
       "...            ...        ...  ...         ...          ...   \n",
       "697933         SIS  MASCULINO   77        AÑOS       CASADO   \n",
       "697934         SIS   FEMENINO   86        AÑOS      SOLTERO   \n",
       "697935         SIS  MASCULINO   63        AÑOS      SOLTERO   \n",
       "697936         SIS   FEMENINO   78        AÑOS       CASADO   \n",
       "697937         SIS  MASCULINO    1        AÑOS      SOLTERO   \n",
       "\n",
       "           NIVEL DE INSTRUCCIÓN COD# UBIGEO DOMICILIO PAIS DOMICILIO  \\\n",
       "Nº                                                                     \n",
       "1       SUPERIOR NO UNIV. COMP.    92-33-12-08-06-000           PERU   \n",
       "2                      IGNORADO    92-33-21-04-01-000           PERU   \n",
       "3           PRIMARIA INCOMPLETA    92-33-21-03-13-000           PERU   \n",
       "4                      IGNORADO    92-33-24-01-01-000           PERU   \n",
       "5       SUPERIOR NO UNIV. COMP.    92-33-14-10-01-106           PERU   \n",
       "...                         ...                   ...            ...   \n",
       "697933  NINGUN NIVEL / ILETRADO    92-33-05-07-02-101           PERU   \n",
       "697934  NINGUN NIVEL / ILETRADO    92-33-05-04-03-101           PERU   \n",
       "697935  NINGUN NIVEL / ILETRADO    92-33-02-10-03-102           PERU   \n",
       "697936        PRIMARIA COMPLETA    92-33-02-10-10-000           PERU   \n",
       "697937  NINGUN NIVEL / ILETRADO    92-33-01-04-04-000           PERU   \n",
       "\n",
       "       DEPARTAMENTO DOMICILIO PROVINCIA DOMICILIO DISTRITO DOMICILIO  \\\n",
       "Nº                                                                     \n",
       "1                 LA LIBERTAD              ASCOPE             PAIJAN   \n",
       "2                  SAN MARTIN    MARISCAL CACERES            JUANJUI   \n",
       "3                  SAN MARTIN               LAMAS          TABALOSOS   \n",
       "4                      CALLAO              CALLAO             CALLAO   \n",
       "5                        LIMA                OYON               OYON   \n",
       "...                       ...                 ...                ...   \n",
       "697933               AYACUCHO      VICTOR FAJARDO          ALCAMENCA   \n",
       "697934               AYACUCHO              LA MAR               AYNA   \n",
       "697935                 ANCASH            PALLASCA          CONCHUCOS   \n",
       "697936                 ANCASH            PALLASCA         SANTA ROSA   \n",
       "697937               AMAZONAS                LUYA           COLCAMAR   \n",
       "\n",
       "            FECHA   AÑO  MES   TIPO LUGAR        INSTITUCION MUERTE VIOLENTA  \\\n",
       "Nº                                                                             \n",
       "1      2021-01-19  2021    1         EESS            ESSALUD    SIN REGISTRO   \n",
       "2      2020-01-17  2020    1         EESS  GOBIERNO REGIONAL    SIN REGISTRO   \n",
       "3      2020-01-03  2020    1    DOMICILIO       SIN REGISTRO    SIN REGISTRO   \n",
       "4      2021-01-30  2021    1  VIA PUBLICA       SIN REGISTRO    NO SE CONOCE   \n",
       "5      2021-01-10  2021    1  VIA PUBLICA       SIN REGISTRO    SIN REGISTRO   \n",
       "...           ...   ...  ...          ...                ...             ...   \n",
       "697933 2020-12-07  2020   12    DOMICILIO       SIN REGISTRO    SIN REGISTRO   \n",
       "697934 2020-12-17  2020   12    DOMICILIO       SIN REGISTRO    SIN REGISTRO   \n",
       "697935 2020-12-22  2020   12    DOMICILIO       SIN REGISTRO    SIN REGISTRO   \n",
       "697936 2020-12-11  2020   12    DOMICILIO       SIN REGISTRO    SIN REGISTRO   \n",
       "697937 2020-12-23  2020   12    DOMICILIO       SIN REGISTRO    SIN REGISTRO   \n",
       "\n",
       "                      NECROPSIA  \n",
       "Nº                               \n",
       "1       NO SE REALIZÓ NECROPSIA  \n",
       "2       NO SE REALIZÓ NECROPSIA  \n",
       "3       NO SE REALIZÓ NECROPSIA  \n",
       "4       SI SE REALIZÓ NECROPSIA  \n",
       "5       NO SE REALIZÓ NECROPSIA  \n",
       "...                         ...  \n",
       "697933  NO SE REALIZÓ NECROPSIA  \n",
       "697934  NO SE REALIZÓ NECROPSIA  \n",
       "697935  NO SE REALIZÓ NECROPSIA  \n",
       "697936  NO SE REALIZÓ NECROPSIA  \n",
       "697937  NO SE REALIZÓ NECROPSIA  \n",
       "\n",
       "[697937 rows x 18 columns]"
      ],
      "text/html": "<div>\n<style scoped>\n    .dataframe tbody tr th:only-of-type {\n        vertical-align: middle;\n    }\n\n    .dataframe tbody tr th {\n        vertical-align: top;\n    }\n\n    .dataframe thead th {\n        text-align: right;\n    }\n</style>\n<table border=\"1\" class=\"dataframe\">\n  <thead>\n    <tr style=\"text-align: right;\">\n      <th></th>\n      <th>TIPO SEGURO</th>\n      <th>SEXO</th>\n      <th>EDAD</th>\n      <th>TIEMPO EDAD</th>\n      <th>ESTADO CIVIL</th>\n      <th>NIVEL DE INSTRUCCIÓN</th>\n      <th>COD# UBIGEO DOMICILIO</th>\n      <th>PAIS DOMICILIO</th>\n      <th>DEPARTAMENTO DOMICILIO</th>\n      <th>PROVINCIA DOMICILIO</th>\n      <th>DISTRITO DOMICILIO</th>\n      <th>FECHA</th>\n      <th>AÑO</th>\n      <th>MES</th>\n      <th>TIPO LUGAR</th>\n      <th>INSTITUCION</th>\n      <th>MUERTE VIOLENTA</th>\n      <th>NECROPSIA</th>\n    </tr>\n    <tr>\n      <th>Nº</th>\n      <th></th>\n      <th></th>\n      <th></th>\n      <th></th>\n      <th></th>\n      <th></th>\n      <th></th>\n      <th></th>\n      <th></th>\n      <th></th>\n      <th></th>\n      <th></th>\n      <th></th>\n      <th></th>\n      <th></th>\n      <th></th>\n      <th></th>\n      <th></th>\n    </tr>\n  </thead>\n  <tbody>\n    <tr>\n      <th>1</th>\n      <td>SIS</td>\n      <td>FEMENINO</td>\n      <td>15</td>\n      <td>MINUTOS</td>\n      <td>SOLTERO</td>\n      <td>SUPERIOR NO UNIV. COMP.</td>\n      <td>92-33-12-08-06-000</td>\n      <td>PERU</td>\n      <td>LA LIBERTAD</td>\n      <td>ASCOPE</td>\n      <td>PAIJAN</td>\n      <td>2021-01-19</td>\n      <td>2021</td>\n      <td>1</td>\n      <td>EESS</td>\n      <td>ESSALUD</td>\n      <td>SIN REGISTRO</td>\n      <td>NO SE REALIZÓ NECROPSIA</td>\n    </tr>\n    <tr>\n      <th>2</th>\n      <td>SIS</td>\n      <td>MASCULINO</td>\n      <td>4</td>\n      <td>AÑOS</td>\n      <td>SOLTERO</td>\n      <td>IGNORADO</td>\n      <td>92-33-21-04-01-000</td>\n      <td>PERU</td>\n      <td>SAN MARTIN</td>\n      <td>MARISCAL CACERES</td>\n      <td>JUANJUI</td>\n      <td>2020-01-17</td>\n      <td>2020</td>\n      <td>1</td>\n      <td>EESS</td>\n      <td>GOBIERNO REGIONAL</td>\n      <td>SIN REGISTRO</td>\n      <td>NO SE REALIZÓ NECROPSIA</td>\n    </tr>\n    <tr>\n      <th>3</th>\n      <td>SIS</td>\n      <td>FEMENINO</td>\n      <td>86</td>\n      <td>AÑOS</td>\n      <td>SOLTERO</td>\n      <td>PRIMARIA INCOMPLETA</td>\n      <td>92-33-21-03-13-000</td>\n      <td>PERU</td>\n      <td>SAN MARTIN</td>\n      <td>LAMAS</td>\n      <td>TABALOSOS</td>\n      <td>2020-01-03</td>\n      <td>2020</td>\n      <td>1</td>\n      <td>DOMICILIO</td>\n      <td>SIN REGISTRO</td>\n      <td>SIN REGISTRO</td>\n      <td>NO SE REALIZÓ NECROPSIA</td>\n    </tr>\n    <tr>\n      <th>4</th>\n      <td>IGNORADO</td>\n      <td>MASCULINO</td>\n      <td>59</td>\n      <td>AÑOS</td>\n      <td>SOLTERO</td>\n      <td>IGNORADO</td>\n      <td>92-33-24-01-01-000</td>\n      <td>PERU</td>\n      <td>CALLAO</td>\n      <td>CALLAO</td>\n      <td>CALLAO</td>\n      <td>2021-01-30</td>\n      <td>2021</td>\n      <td>1</td>\n      <td>VIA PUBLICA</td>\n      <td>SIN REGISTRO</td>\n      <td>NO SE CONOCE</td>\n      <td>SI SE REALIZÓ NECROPSIA</td>\n    </tr>\n    <tr>\n      <th>5</th>\n      <td>SIS</td>\n      <td>MASCULINO</td>\n      <td>51</td>\n      <td>AÑOS</td>\n      <td>SOLTERO</td>\n      <td>SUPERIOR NO UNIV. COMP.</td>\n      <td>92-33-14-10-01-106</td>\n      <td>PERU</td>\n      <td>LIMA</td>\n      <td>OYON</td>\n      <td>OYON</td>\n      <td>2021-01-10</td>\n      <td>2021</td>\n      <td>1</td>\n      <td>VIA PUBLICA</td>\n      <td>SIN REGISTRO</td>\n      <td>SIN REGISTRO</td>\n      <td>NO SE REALIZÓ NECROPSIA</td>\n    </tr>\n    <tr>\n      <th>...</th>\n      <td>...</td>\n      <td>...</td>\n      <td>...</td>\n      <td>...</td>\n      <td>...</td>\n      <td>...</td>\n      <td>...</td>\n      <td>...</td>\n      <td>...</td>\n      <td>...</td>\n      <td>...</td>\n      <td>...</td>\n      <td>...</td>\n      <td>...</td>\n      <td>...</td>\n      <td>...</td>\n      <td>...</td>\n      <td>...</td>\n    </tr>\n    <tr>\n      <th>697933</th>\n      <td>SIS</td>\n      <td>MASCULINO</td>\n      <td>77</td>\n      <td>AÑOS</td>\n      <td>CASADO</td>\n      <td>NINGUN NIVEL / ILETRADO</td>\n      <td>92-33-05-07-02-101</td>\n      <td>PERU</td>\n      <td>AYACUCHO</td>\n      <td>VICTOR FAJARDO</td>\n      <td>ALCAMENCA</td>\n      <td>2020-12-07</td>\n      <td>2020</td>\n      <td>12</td>\n      <td>DOMICILIO</td>\n      <td>SIN REGISTRO</td>\n      <td>SIN REGISTRO</td>\n      <td>NO SE REALIZÓ NECROPSIA</td>\n    </tr>\n    <tr>\n      <th>697934</th>\n      <td>SIS</td>\n      <td>FEMENINO</td>\n      <td>86</td>\n      <td>AÑOS</td>\n      <td>SOLTERO</td>\n      <td>NINGUN NIVEL / ILETRADO</td>\n      <td>92-33-05-04-03-101</td>\n      <td>PERU</td>\n      <td>AYACUCHO</td>\n      <td>LA MAR</td>\n      <td>AYNA</td>\n      <td>2020-12-17</td>\n      <td>2020</td>\n      <td>12</td>\n      <td>DOMICILIO</td>\n      <td>SIN REGISTRO</td>\n      <td>SIN REGISTRO</td>\n      <td>NO SE REALIZÓ NECROPSIA</td>\n    </tr>\n    <tr>\n      <th>697935</th>\n      <td>SIS</td>\n      <td>MASCULINO</td>\n      <td>63</td>\n      <td>AÑOS</td>\n      <td>SOLTERO</td>\n      <td>NINGUN NIVEL / ILETRADO</td>\n      <td>92-33-02-10-03-102</td>\n      <td>PERU</td>\n      <td>ANCASH</td>\n      <td>PALLASCA</td>\n      <td>CONCHUCOS</td>\n      <td>2020-12-22</td>\n      <td>2020</td>\n      <td>12</td>\n      <td>DOMICILIO</td>\n      <td>SIN REGISTRO</td>\n      <td>SIN REGISTRO</td>\n      <td>NO SE REALIZÓ NECROPSIA</td>\n    </tr>\n    <tr>\n      <th>697936</th>\n      <td>SIS</td>\n      <td>FEMENINO</td>\n      <td>78</td>\n      <td>AÑOS</td>\n      <td>CASADO</td>\n      <td>PRIMARIA COMPLETA</td>\n      <td>92-33-02-10-10-000</td>\n      <td>PERU</td>\n      <td>ANCASH</td>\n      <td>PALLASCA</td>\n      <td>SANTA ROSA</td>\n      <td>2020-12-11</td>\n      <td>2020</td>\n      <td>12</td>\n      <td>DOMICILIO</td>\n      <td>SIN REGISTRO</td>\n      <td>SIN REGISTRO</td>\n      <td>NO SE REALIZÓ NECROPSIA</td>\n    </tr>\n    <tr>\n      <th>697937</th>\n      <td>SIS</td>\n      <td>MASCULINO</td>\n      <td>1</td>\n      <td>AÑOS</td>\n      <td>SOLTERO</td>\n      <td>NINGUN NIVEL / ILETRADO</td>\n      <td>92-33-01-04-04-000</td>\n      <td>PERU</td>\n      <td>AMAZONAS</td>\n      <td>LUYA</td>\n      <td>COLCAMAR</td>\n      <td>2020-12-23</td>\n      <td>2020</td>\n      <td>12</td>\n      <td>DOMICILIO</td>\n      <td>SIN REGISTRO</td>\n      <td>SIN REGISTRO</td>\n      <td>NO SE REALIZÓ NECROPSIA</td>\n    </tr>\n  </tbody>\n</table>\n<p>697937 rows × 18 columns</p>\n</div>"
     },
     "metadata": {},
     "execution_count": 12
    }
   ],
   "source": [
    "xls"
   ]
  },
  {
   "cell_type": "code",
   "execution_count": 13,
   "metadata": {},
   "outputs": [
    {
     "output_type": "stream",
     "name": "stdout",
     "text": [
      "<class 'pandas.core.frame.DataFrame'>\nInt64Index: 697937 entries, 1 to 697937\nData columns (total 18 columns):\n #   Column                  Non-Null Count   Dtype         \n---  ------                  --------------   -----         \n 0   TIPO SEGURO             697937 non-null  object        \n 1   SEXO                    697937 non-null  object        \n 2   EDAD                    697937 non-null  object        \n 3   TIEMPO EDAD             697937 non-null  object        \n 4   ESTADO CIVIL            697937 non-null  object        \n 5   NIVEL DE INSTRUCCIÓN    697937 non-null  object        \n 6   COD# UBIGEO DOMICILIO   697937 non-null  object        \n 7   PAIS DOMICILIO          697937 non-null  object        \n 8   DEPARTAMENTO DOMICILIO  697937 non-null  object        \n 9   PROVINCIA DOMICILIO     697937 non-null  object        \n 10  DISTRITO DOMICILIO      697937 non-null  object        \n 11  FECHA                   697937 non-null  datetime64[ns]\n 12  AÑO                     697937 non-null  int64         \n 13  MES                     697937 non-null  int64         \n 14  TIPO LUGAR              697937 non-null  object        \n 15  INSTITUCION             697937 non-null  object        \n 16  MUERTE VIOLENTA         697937 non-null  object        \n 17  NECROPSIA               697937 non-null  object        \ndtypes: datetime64[ns](1), int64(2), object(15)\nmemory usage: 101.2+ MB\n"
     ]
    }
   ],
   "source": [
    "xls.info()"
   ]
  },
  {
   "cell_type": "code",
   "execution_count": 14,
   "metadata": {},
   "outputs": [
    {
     "output_type": "execute_result",
     "data": {
      "text/plain": [
       "                 AÑO            MES\n",
       "count  697937.000000  697937.000000\n",
       "mean     2019.314355       5.907390\n",
       "std         1.358362       3.244948\n",
       "min      2017.000000       1.000000\n",
       "25%      2018.000000       3.000000\n",
       "50%      2020.000000       6.000000\n",
       "75%      2020.000000       8.000000\n",
       "max      2021.000000      12.000000"
      ],
      "text/html": "<div>\n<style scoped>\n    .dataframe tbody tr th:only-of-type {\n        vertical-align: middle;\n    }\n\n    .dataframe tbody tr th {\n        vertical-align: top;\n    }\n\n    .dataframe thead th {\n        text-align: right;\n    }\n</style>\n<table border=\"1\" class=\"dataframe\">\n  <thead>\n    <tr style=\"text-align: right;\">\n      <th></th>\n      <th>AÑO</th>\n      <th>MES</th>\n    </tr>\n  </thead>\n  <tbody>\n    <tr>\n      <th>count</th>\n      <td>697937.000000</td>\n      <td>697937.000000</td>\n    </tr>\n    <tr>\n      <th>mean</th>\n      <td>2019.314355</td>\n      <td>5.907390</td>\n    </tr>\n    <tr>\n      <th>std</th>\n      <td>1.358362</td>\n      <td>3.244948</td>\n    </tr>\n    <tr>\n      <th>min</th>\n      <td>2017.000000</td>\n      <td>1.000000</td>\n    </tr>\n    <tr>\n      <th>25%</th>\n      <td>2018.000000</td>\n      <td>3.000000</td>\n    </tr>\n    <tr>\n      <th>50%</th>\n      <td>2020.000000</td>\n      <td>6.000000</td>\n    </tr>\n    <tr>\n      <th>75%</th>\n      <td>2020.000000</td>\n      <td>8.000000</td>\n    </tr>\n    <tr>\n      <th>max</th>\n      <td>2021.000000</td>\n      <td>12.000000</td>\n    </tr>\n  </tbody>\n</table>\n</div>"
     },
     "metadata": {},
     "execution_count": 14
    }
   ],
   "source": [
    "xls.describe()"
   ]
  },
  {
   "cell_type": "code",
   "execution_count": 15,
   "metadata": {},
   "outputs": [],
   "source": [
    "#pd.xls.replace('SIN REGISTRO', np.nan)\n",
    "xls = xls.rename(columns={\"COD# UBIGEO DOMICILIO\": \"UBIGEO\",\"PAIS DOMICILIO\": \"PAIS\",\"DEPARTAMENTO DOMICILIO\": \"DEPARTAMENTO\", \"PROVINCIA DOMICILIO\": \"PROVINCIA\", \"DISTRITO DOMICILIO\": \"DISTRITO\"})\n"
   ]
  },
  {
   "cell_type": "code",
   "execution_count": 16,
   "metadata": {},
   "outputs": [
    {
     "output_type": "execute_result",
     "data": {
      "text/plain": [
       "       TIPO SEGURO       SEXO EDAD TIEMPO EDAD ESTADO CIVIL  \\\n",
       "Nº                                                            \n",
       "1              SIS   FEMENINO   15     MINUTOS      SOLTERO   \n",
       "2              SIS  MASCULINO    4        AÑOS      SOLTERO   \n",
       "3              SIS   FEMENINO   86        AÑOS      SOLTERO   \n",
       "4         IGNORADO  MASCULINO   59        AÑOS      SOLTERO   \n",
       "5              SIS  MASCULINO   51        AÑOS      SOLTERO   \n",
       "...            ...        ...  ...         ...          ...   \n",
       "697933         SIS  MASCULINO   77        AÑOS       CASADO   \n",
       "697934         SIS   FEMENINO   86        AÑOS      SOLTERO   \n",
       "697935         SIS  MASCULINO   63        AÑOS      SOLTERO   \n",
       "697936         SIS   FEMENINO   78        AÑOS       CASADO   \n",
       "697937         SIS  MASCULINO    1        AÑOS      SOLTERO   \n",
       "\n",
       "           NIVEL DE INSTRUCCIÓN              UBIGEO  PAIS DEPARTAMENTO  \\\n",
       "Nº                                                                       \n",
       "1       SUPERIOR NO UNIV. COMP.  92-33-12-08-06-000  PERU  LA LIBERTAD   \n",
       "2                      IGNORADO  92-33-21-04-01-000  PERU   SAN MARTIN   \n",
       "3           PRIMARIA INCOMPLETA  92-33-21-03-13-000  PERU   SAN MARTIN   \n",
       "4                      IGNORADO  92-33-24-01-01-000  PERU       CALLAO   \n",
       "5       SUPERIOR NO UNIV. COMP.  92-33-14-10-01-106  PERU         LIMA   \n",
       "...                         ...                 ...   ...          ...   \n",
       "697933  NINGUN NIVEL / ILETRADO  92-33-05-07-02-101  PERU     AYACUCHO   \n",
       "697934  NINGUN NIVEL / ILETRADO  92-33-05-04-03-101  PERU     AYACUCHO   \n",
       "697935  NINGUN NIVEL / ILETRADO  92-33-02-10-03-102  PERU       ANCASH   \n",
       "697936        PRIMARIA COMPLETA  92-33-02-10-10-000  PERU       ANCASH   \n",
       "697937  NINGUN NIVEL / ILETRADO  92-33-01-04-04-000  PERU     AMAZONAS   \n",
       "\n",
       "               PROVINCIA    DISTRITO      FECHA   AÑO  MES   TIPO LUGAR  \\\n",
       "Nº                                                                        \n",
       "1                 ASCOPE      PAIJAN 2021-01-19  2021    1         EESS   \n",
       "2       MARISCAL CACERES     JUANJUI 2020-01-17  2020    1         EESS   \n",
       "3                  LAMAS   TABALOSOS 2020-01-03  2020    1    DOMICILIO   \n",
       "4                 CALLAO      CALLAO 2021-01-30  2021    1  VIA PUBLICA   \n",
       "5                   OYON        OYON 2021-01-10  2021    1  VIA PUBLICA   \n",
       "...                  ...         ...        ...   ...  ...          ...   \n",
       "697933    VICTOR FAJARDO   ALCAMENCA 2020-12-07  2020   12    DOMICILIO   \n",
       "697934            LA MAR        AYNA 2020-12-17  2020   12    DOMICILIO   \n",
       "697935          PALLASCA   CONCHUCOS 2020-12-22  2020   12    DOMICILIO   \n",
       "697936          PALLASCA  SANTA ROSA 2020-12-11  2020   12    DOMICILIO   \n",
       "697937              LUYA    COLCAMAR 2020-12-23  2020   12    DOMICILIO   \n",
       "\n",
       "              INSTITUCION MUERTE VIOLENTA                NECROPSIA  \n",
       "Nº                                                                  \n",
       "1                 ESSALUD    SIN REGISTRO  NO SE REALIZÓ NECROPSIA  \n",
       "2       GOBIERNO REGIONAL    SIN REGISTRO  NO SE REALIZÓ NECROPSIA  \n",
       "3            SIN REGISTRO    SIN REGISTRO  NO SE REALIZÓ NECROPSIA  \n",
       "4            SIN REGISTRO    NO SE CONOCE  SI SE REALIZÓ NECROPSIA  \n",
       "5            SIN REGISTRO    SIN REGISTRO  NO SE REALIZÓ NECROPSIA  \n",
       "...                   ...             ...                      ...  \n",
       "697933       SIN REGISTRO    SIN REGISTRO  NO SE REALIZÓ NECROPSIA  \n",
       "697934       SIN REGISTRO    SIN REGISTRO  NO SE REALIZÓ NECROPSIA  \n",
       "697935       SIN REGISTRO    SIN REGISTRO  NO SE REALIZÓ NECROPSIA  \n",
       "697936       SIN REGISTRO    SIN REGISTRO  NO SE REALIZÓ NECROPSIA  \n",
       "697937       SIN REGISTRO    SIN REGISTRO  NO SE REALIZÓ NECROPSIA  \n",
       "\n",
       "[697937 rows x 18 columns]"
      ],
      "text/html": "<div>\n<style scoped>\n    .dataframe tbody tr th:only-of-type {\n        vertical-align: middle;\n    }\n\n    .dataframe tbody tr th {\n        vertical-align: top;\n    }\n\n    .dataframe thead th {\n        text-align: right;\n    }\n</style>\n<table border=\"1\" class=\"dataframe\">\n  <thead>\n    <tr style=\"text-align: right;\">\n      <th></th>\n      <th>TIPO SEGURO</th>\n      <th>SEXO</th>\n      <th>EDAD</th>\n      <th>TIEMPO EDAD</th>\n      <th>ESTADO CIVIL</th>\n      <th>NIVEL DE INSTRUCCIÓN</th>\n      <th>UBIGEO</th>\n      <th>PAIS</th>\n      <th>DEPARTAMENTO</th>\n      <th>PROVINCIA</th>\n      <th>DISTRITO</th>\n      <th>FECHA</th>\n      <th>AÑO</th>\n      <th>MES</th>\n      <th>TIPO LUGAR</th>\n      <th>INSTITUCION</th>\n      <th>MUERTE VIOLENTA</th>\n      <th>NECROPSIA</th>\n    </tr>\n    <tr>\n      <th>Nº</th>\n      <th></th>\n      <th></th>\n      <th></th>\n      <th></th>\n      <th></th>\n      <th></th>\n      <th></th>\n      <th></th>\n      <th></th>\n      <th></th>\n      <th></th>\n      <th></th>\n      <th></th>\n      <th></th>\n      <th></th>\n      <th></th>\n      <th></th>\n      <th></th>\n    </tr>\n  </thead>\n  <tbody>\n    <tr>\n      <th>1</th>\n      <td>SIS</td>\n      <td>FEMENINO</td>\n      <td>15</td>\n      <td>MINUTOS</td>\n      <td>SOLTERO</td>\n      <td>SUPERIOR NO UNIV. COMP.</td>\n      <td>92-33-12-08-06-000</td>\n      <td>PERU</td>\n      <td>LA LIBERTAD</td>\n      <td>ASCOPE</td>\n      <td>PAIJAN</td>\n      <td>2021-01-19</td>\n      <td>2021</td>\n      <td>1</td>\n      <td>EESS</td>\n      <td>ESSALUD</td>\n      <td>SIN REGISTRO</td>\n      <td>NO SE REALIZÓ NECROPSIA</td>\n    </tr>\n    <tr>\n      <th>2</th>\n      <td>SIS</td>\n      <td>MASCULINO</td>\n      <td>4</td>\n      <td>AÑOS</td>\n      <td>SOLTERO</td>\n      <td>IGNORADO</td>\n      <td>92-33-21-04-01-000</td>\n      <td>PERU</td>\n      <td>SAN MARTIN</td>\n      <td>MARISCAL CACERES</td>\n      <td>JUANJUI</td>\n      <td>2020-01-17</td>\n      <td>2020</td>\n      <td>1</td>\n      <td>EESS</td>\n      <td>GOBIERNO REGIONAL</td>\n      <td>SIN REGISTRO</td>\n      <td>NO SE REALIZÓ NECROPSIA</td>\n    </tr>\n    <tr>\n      <th>3</th>\n      <td>SIS</td>\n      <td>FEMENINO</td>\n      <td>86</td>\n      <td>AÑOS</td>\n      <td>SOLTERO</td>\n      <td>PRIMARIA INCOMPLETA</td>\n      <td>92-33-21-03-13-000</td>\n      <td>PERU</td>\n      <td>SAN MARTIN</td>\n      <td>LAMAS</td>\n      <td>TABALOSOS</td>\n      <td>2020-01-03</td>\n      <td>2020</td>\n      <td>1</td>\n      <td>DOMICILIO</td>\n      <td>SIN REGISTRO</td>\n      <td>SIN REGISTRO</td>\n      <td>NO SE REALIZÓ NECROPSIA</td>\n    </tr>\n    <tr>\n      <th>4</th>\n      <td>IGNORADO</td>\n      <td>MASCULINO</td>\n      <td>59</td>\n      <td>AÑOS</td>\n      <td>SOLTERO</td>\n      <td>IGNORADO</td>\n      <td>92-33-24-01-01-000</td>\n      <td>PERU</td>\n      <td>CALLAO</td>\n      <td>CALLAO</td>\n      <td>CALLAO</td>\n      <td>2021-01-30</td>\n      <td>2021</td>\n      <td>1</td>\n      <td>VIA PUBLICA</td>\n      <td>SIN REGISTRO</td>\n      <td>NO SE CONOCE</td>\n      <td>SI SE REALIZÓ NECROPSIA</td>\n    </tr>\n    <tr>\n      <th>5</th>\n      <td>SIS</td>\n      <td>MASCULINO</td>\n      <td>51</td>\n      <td>AÑOS</td>\n      <td>SOLTERO</td>\n      <td>SUPERIOR NO UNIV. COMP.</td>\n      <td>92-33-14-10-01-106</td>\n      <td>PERU</td>\n      <td>LIMA</td>\n      <td>OYON</td>\n      <td>OYON</td>\n      <td>2021-01-10</td>\n      <td>2021</td>\n      <td>1</td>\n      <td>VIA PUBLICA</td>\n      <td>SIN REGISTRO</td>\n      <td>SIN REGISTRO</td>\n      <td>NO SE REALIZÓ NECROPSIA</td>\n    </tr>\n    <tr>\n      <th>...</th>\n      <td>...</td>\n      <td>...</td>\n      <td>...</td>\n      <td>...</td>\n      <td>...</td>\n      <td>...</td>\n      <td>...</td>\n      <td>...</td>\n      <td>...</td>\n      <td>...</td>\n      <td>...</td>\n      <td>...</td>\n      <td>...</td>\n      <td>...</td>\n      <td>...</td>\n      <td>...</td>\n      <td>...</td>\n      <td>...</td>\n    </tr>\n    <tr>\n      <th>697933</th>\n      <td>SIS</td>\n      <td>MASCULINO</td>\n      <td>77</td>\n      <td>AÑOS</td>\n      <td>CASADO</td>\n      <td>NINGUN NIVEL / ILETRADO</td>\n      <td>92-33-05-07-02-101</td>\n      <td>PERU</td>\n      <td>AYACUCHO</td>\n      <td>VICTOR FAJARDO</td>\n      <td>ALCAMENCA</td>\n      <td>2020-12-07</td>\n      <td>2020</td>\n      <td>12</td>\n      <td>DOMICILIO</td>\n      <td>SIN REGISTRO</td>\n      <td>SIN REGISTRO</td>\n      <td>NO SE REALIZÓ NECROPSIA</td>\n    </tr>\n    <tr>\n      <th>697934</th>\n      <td>SIS</td>\n      <td>FEMENINO</td>\n      <td>86</td>\n      <td>AÑOS</td>\n      <td>SOLTERO</td>\n      <td>NINGUN NIVEL / ILETRADO</td>\n      <td>92-33-05-04-03-101</td>\n      <td>PERU</td>\n      <td>AYACUCHO</td>\n      <td>LA MAR</td>\n      <td>AYNA</td>\n      <td>2020-12-17</td>\n      <td>2020</td>\n      <td>12</td>\n      <td>DOMICILIO</td>\n      <td>SIN REGISTRO</td>\n      <td>SIN REGISTRO</td>\n      <td>NO SE REALIZÓ NECROPSIA</td>\n    </tr>\n    <tr>\n      <th>697935</th>\n      <td>SIS</td>\n      <td>MASCULINO</td>\n      <td>63</td>\n      <td>AÑOS</td>\n      <td>SOLTERO</td>\n      <td>NINGUN NIVEL / ILETRADO</td>\n      <td>92-33-02-10-03-102</td>\n      <td>PERU</td>\n      <td>ANCASH</td>\n      <td>PALLASCA</td>\n      <td>CONCHUCOS</td>\n      <td>2020-12-22</td>\n      <td>2020</td>\n      <td>12</td>\n      <td>DOMICILIO</td>\n      <td>SIN REGISTRO</td>\n      <td>SIN REGISTRO</td>\n      <td>NO SE REALIZÓ NECROPSIA</td>\n    </tr>\n    <tr>\n      <th>697936</th>\n      <td>SIS</td>\n      <td>FEMENINO</td>\n      <td>78</td>\n      <td>AÑOS</td>\n      <td>CASADO</td>\n      <td>PRIMARIA COMPLETA</td>\n      <td>92-33-02-10-10-000</td>\n      <td>PERU</td>\n      <td>ANCASH</td>\n      <td>PALLASCA</td>\n      <td>SANTA ROSA</td>\n      <td>2020-12-11</td>\n      <td>2020</td>\n      <td>12</td>\n      <td>DOMICILIO</td>\n      <td>SIN REGISTRO</td>\n      <td>SIN REGISTRO</td>\n      <td>NO SE REALIZÓ NECROPSIA</td>\n    </tr>\n    <tr>\n      <th>697937</th>\n      <td>SIS</td>\n      <td>MASCULINO</td>\n      <td>1</td>\n      <td>AÑOS</td>\n      <td>SOLTERO</td>\n      <td>NINGUN NIVEL / ILETRADO</td>\n      <td>92-33-01-04-04-000</td>\n      <td>PERU</td>\n      <td>AMAZONAS</td>\n      <td>LUYA</td>\n      <td>COLCAMAR</td>\n      <td>2020-12-23</td>\n      <td>2020</td>\n      <td>12</td>\n      <td>DOMICILIO</td>\n      <td>SIN REGISTRO</td>\n      <td>SIN REGISTRO</td>\n      <td>NO SE REALIZÓ NECROPSIA</td>\n    </tr>\n  </tbody>\n</table>\n<p>697937 rows × 18 columns</p>\n</div>"
     },
     "metadata": {},
     "execution_count": 16
    }
   ],
   "source": [
    "xls"
   ]
  },
  {
   "cell_type": "code",
   "execution_count": 17,
   "metadata": {
    "scrolled": true
   },
   "outputs": [
    {
     "output_type": "execute_result",
     "data": {
      "text/plain": [
       "        TIPO SEGURO       SEXO EDAD TIEMPO EDAD ESTADO CIVIL  \\\n",
       "Nº                                                             \n",
       "468102     IGNORADO  MASCULINO   65        AÑOS       CASADO   \n",
       "467989     IGNORADO  MASCULINO   75        AÑOS       CASADO   \n",
       "464393      ESSALUD  MASCULINO   86        AÑOS       CASADO   \n",
       "466354        OTROS  MASCULINO   38        AÑOS      SOLTERO   \n",
       "528757     PRIVADOS   FEMENINO   66        AÑOS       CASADO   \n",
       "...             ...        ...  ...         ...          ...   \n",
       "298502          SIS   FEMENINO   88        AÑOS       CASADO   \n",
       "298504      ESSALUD  MASCULINO   85        AÑOS        VIUDO   \n",
       "298507      ESSALUD  MASCULINO   83        AÑOS       CASADO   \n",
       "298510  SANIDAD PNP  MASCULINO   74        AÑOS       CASADO   \n",
       "298368          SIS  MASCULINO   50        AÑOS      SOLTERO   \n",
       "\n",
       "           NIVEL DE INSTRUCCIÓN              UBIGEO  PAIS DEPARTAMENTO  \\\n",
       "Nº                                                                       \n",
       "468102      SECUNDARIA COMPLETA  92-33-14-01-03-000  PERU         LIMA   \n",
       "467989        PRIMARIA COMPLETA  92-33-14-01-41-000  PERU         LIMA   \n",
       "464393                 IGNORADO  92-33-04-01-09-000  PERU     AREQUIPA   \n",
       "466354   SUPERIOR NO UNIV. INC.  92-33-24-01-01-000  PERU       CALLAO   \n",
       "528757        PRIMARIA COMPLETA  92-33-15-01-13-000  PERU       LORETO   \n",
       "...                         ...                 ...   ...          ...   \n",
       "298502  NINGUN NIVEL / ILETRADO  92-33-04-02-20-000  PERU     AREQUIPA   \n",
       "298504                 IGNORADO  92-33-04-01-01-000  PERU     AREQUIPA   \n",
       "298507        PRIMARIA COMPLETA  92-33-12-05-01-000  PERU  LA LIBERTAD   \n",
       "298510                 IGNORADO  92-33-04-01-29-000  PERU     AREQUIPA   \n",
       "298368                 IGNORADO  92-33-25-01-02-000  PERU      UCAYALI   \n",
       "\n",
       "               PROVINCIA                       DISTRITO      FECHA   AÑO  MES  \\\n",
       "Nº                                                                              \n",
       "468102              LIMA                            ATE 2017-01-01  2017    1   \n",
       "467989              LIMA              VILLA EL SALVADOR 2017-01-01  2017    1   \n",
       "464393          AREQUIPA                     PAUCARPATA 2017-01-01  2017    1   \n",
       "466354            CALLAO                         CALLAO 2017-01-01  2017    1   \n",
       "528757            MAYNAS              SAN JUAN BAUTISTA 2017-01-01  2017    1   \n",
       "...                  ...                            ...        ...   ...  ...   \n",
       "298502          CAYLLOMA                          MAJES 2021-06-16  2021    6   \n",
       "298504          AREQUIPA                       AREQUIPA 2021-06-16  2021    6   \n",
       "298507         PACASMAYO              SAN PEDRO DE LLOC 2021-06-16  2021    6   \n",
       "298510          AREQUIPA  JOSE LUIS BUSTAMANTE Y RIVERO 2021-06-16  2021    6   \n",
       "298368  CORONEL PORTILLO                    YARINACOCHA 2021-06-16  2021    6   \n",
       "\n",
       "       TIPO LUGAR                              INSTITUCION MUERTE VIOLENTA  \\\n",
       "Nº                                                                           \n",
       "468102       EESS                                  ESSALUD    SIN REGISTRO   \n",
       "467989  DOMICILIO                             SIN REGISTRO    SIN REGISTRO   \n",
       "464393       EESS                                  ESSALUD    SIN REGISTRO   \n",
       "466354       EESS                                  PRIVADO    SIN REGISTRO   \n",
       "528757       EESS                                  PRIVADO    SIN REGISTRO   \n",
       "...           ...                                      ...             ...   \n",
       "298502  DOMICILIO                             SIN REGISTRO    SIN REGISTRO   \n",
       "298504       EESS                                  ESSALUD    SIN REGISTRO   \n",
       "298507       EESS                                  ESSALUD    SIN REGISTRO   \n",
       "298510       EESS  SANIDAD DE LA POLICIA NACIONAL DEL PERU    SIN REGISTRO   \n",
       "298368       EESS                        GOBIERNO REGIONAL    SIN REGISTRO   \n",
       "\n",
       "                      NECROPSIA  \n",
       "Nº                               \n",
       "468102             SIN REGISTRO  \n",
       "467989             SIN REGISTRO  \n",
       "464393             SIN REGISTRO  \n",
       "466354             SIN REGISTRO  \n",
       "528757  NO SE REALIZÓ NECROPSIA  \n",
       "...                         ...  \n",
       "298502  NO SE REALIZÓ NECROPSIA  \n",
       "298504  NO SE REALIZÓ NECROPSIA  \n",
       "298507  NO SE REALIZÓ NECROPSIA  \n",
       "298510  NO SE REALIZÓ NECROPSIA  \n",
       "298368  NO SE REALIZÓ NECROPSIA  \n",
       "\n",
       "[697937 rows x 18 columns]"
      ],
      "text/html": "<div>\n<style scoped>\n    .dataframe tbody tr th:only-of-type {\n        vertical-align: middle;\n    }\n\n    .dataframe tbody tr th {\n        vertical-align: top;\n    }\n\n    .dataframe thead th {\n        text-align: right;\n    }\n</style>\n<table border=\"1\" class=\"dataframe\">\n  <thead>\n    <tr style=\"text-align: right;\">\n      <th></th>\n      <th>TIPO SEGURO</th>\n      <th>SEXO</th>\n      <th>EDAD</th>\n      <th>TIEMPO EDAD</th>\n      <th>ESTADO CIVIL</th>\n      <th>NIVEL DE INSTRUCCIÓN</th>\n      <th>UBIGEO</th>\n      <th>PAIS</th>\n      <th>DEPARTAMENTO</th>\n      <th>PROVINCIA</th>\n      <th>DISTRITO</th>\n      <th>FECHA</th>\n      <th>AÑO</th>\n      <th>MES</th>\n      <th>TIPO LUGAR</th>\n      <th>INSTITUCION</th>\n      <th>MUERTE VIOLENTA</th>\n      <th>NECROPSIA</th>\n    </tr>\n    <tr>\n      <th>Nº</th>\n      <th></th>\n      <th></th>\n      <th></th>\n      <th></th>\n      <th></th>\n      <th></th>\n      <th></th>\n      <th></th>\n      <th></th>\n      <th></th>\n      <th></th>\n      <th></th>\n      <th></th>\n      <th></th>\n      <th></th>\n      <th></th>\n      <th></th>\n      <th></th>\n    </tr>\n  </thead>\n  <tbody>\n    <tr>\n      <th>468102</th>\n      <td>IGNORADO</td>\n      <td>MASCULINO</td>\n      <td>65</td>\n      <td>AÑOS</td>\n      <td>CASADO</td>\n      <td>SECUNDARIA COMPLETA</td>\n      <td>92-33-14-01-03-000</td>\n      <td>PERU</td>\n      <td>LIMA</td>\n      <td>LIMA</td>\n      <td>ATE</td>\n      <td>2017-01-01</td>\n      <td>2017</td>\n      <td>1</td>\n      <td>EESS</td>\n      <td>ESSALUD</td>\n      <td>SIN REGISTRO</td>\n      <td>SIN REGISTRO</td>\n    </tr>\n    <tr>\n      <th>467989</th>\n      <td>IGNORADO</td>\n      <td>MASCULINO</td>\n      <td>75</td>\n      <td>AÑOS</td>\n      <td>CASADO</td>\n      <td>PRIMARIA COMPLETA</td>\n      <td>92-33-14-01-41-000</td>\n      <td>PERU</td>\n      <td>LIMA</td>\n      <td>LIMA</td>\n      <td>VILLA EL SALVADOR</td>\n      <td>2017-01-01</td>\n      <td>2017</td>\n      <td>1</td>\n      <td>DOMICILIO</td>\n      <td>SIN REGISTRO</td>\n      <td>SIN REGISTRO</td>\n      <td>SIN REGISTRO</td>\n    </tr>\n    <tr>\n      <th>464393</th>\n      <td>ESSALUD</td>\n      <td>MASCULINO</td>\n      <td>86</td>\n      <td>AÑOS</td>\n      <td>CASADO</td>\n      <td>IGNORADO</td>\n      <td>92-33-04-01-09-000</td>\n      <td>PERU</td>\n      <td>AREQUIPA</td>\n      <td>AREQUIPA</td>\n      <td>PAUCARPATA</td>\n      <td>2017-01-01</td>\n      <td>2017</td>\n      <td>1</td>\n      <td>EESS</td>\n      <td>ESSALUD</td>\n      <td>SIN REGISTRO</td>\n      <td>SIN REGISTRO</td>\n    </tr>\n    <tr>\n      <th>466354</th>\n      <td>OTROS</td>\n      <td>MASCULINO</td>\n      <td>38</td>\n      <td>AÑOS</td>\n      <td>SOLTERO</td>\n      <td>SUPERIOR NO UNIV. INC.</td>\n      <td>92-33-24-01-01-000</td>\n      <td>PERU</td>\n      <td>CALLAO</td>\n      <td>CALLAO</td>\n      <td>CALLAO</td>\n      <td>2017-01-01</td>\n      <td>2017</td>\n      <td>1</td>\n      <td>EESS</td>\n      <td>PRIVADO</td>\n      <td>SIN REGISTRO</td>\n      <td>SIN REGISTRO</td>\n    </tr>\n    <tr>\n      <th>528757</th>\n      <td>PRIVADOS</td>\n      <td>FEMENINO</td>\n      <td>66</td>\n      <td>AÑOS</td>\n      <td>CASADO</td>\n      <td>PRIMARIA COMPLETA</td>\n      <td>92-33-15-01-13-000</td>\n      <td>PERU</td>\n      <td>LORETO</td>\n      <td>MAYNAS</td>\n      <td>SAN JUAN BAUTISTA</td>\n      <td>2017-01-01</td>\n      <td>2017</td>\n      <td>1</td>\n      <td>EESS</td>\n      <td>PRIVADO</td>\n      <td>SIN REGISTRO</td>\n      <td>NO SE REALIZÓ NECROPSIA</td>\n    </tr>\n    <tr>\n      <th>...</th>\n      <td>...</td>\n      <td>...</td>\n      <td>...</td>\n      <td>...</td>\n      <td>...</td>\n      <td>...</td>\n      <td>...</td>\n      <td>...</td>\n      <td>...</td>\n      <td>...</td>\n      <td>...</td>\n      <td>...</td>\n      <td>...</td>\n      <td>...</td>\n      <td>...</td>\n      <td>...</td>\n      <td>...</td>\n      <td>...</td>\n    </tr>\n    <tr>\n      <th>298502</th>\n      <td>SIS</td>\n      <td>FEMENINO</td>\n      <td>88</td>\n      <td>AÑOS</td>\n      <td>CASADO</td>\n      <td>NINGUN NIVEL / ILETRADO</td>\n      <td>92-33-04-02-20-000</td>\n      <td>PERU</td>\n      <td>AREQUIPA</td>\n      <td>CAYLLOMA</td>\n      <td>MAJES</td>\n      <td>2021-06-16</td>\n      <td>2021</td>\n      <td>6</td>\n      <td>DOMICILIO</td>\n      <td>SIN REGISTRO</td>\n      <td>SIN REGISTRO</td>\n      <td>NO SE REALIZÓ NECROPSIA</td>\n    </tr>\n    <tr>\n      <th>298504</th>\n      <td>ESSALUD</td>\n      <td>MASCULINO</td>\n      <td>85</td>\n      <td>AÑOS</td>\n      <td>VIUDO</td>\n      <td>IGNORADO</td>\n      <td>92-33-04-01-01-000</td>\n      <td>PERU</td>\n      <td>AREQUIPA</td>\n      <td>AREQUIPA</td>\n      <td>AREQUIPA</td>\n      <td>2021-06-16</td>\n      <td>2021</td>\n      <td>6</td>\n      <td>EESS</td>\n      <td>ESSALUD</td>\n      <td>SIN REGISTRO</td>\n      <td>NO SE REALIZÓ NECROPSIA</td>\n    </tr>\n    <tr>\n      <th>298507</th>\n      <td>ESSALUD</td>\n      <td>MASCULINO</td>\n      <td>83</td>\n      <td>AÑOS</td>\n      <td>CASADO</td>\n      <td>PRIMARIA COMPLETA</td>\n      <td>92-33-12-05-01-000</td>\n      <td>PERU</td>\n      <td>LA LIBERTAD</td>\n      <td>PACASMAYO</td>\n      <td>SAN PEDRO DE LLOC</td>\n      <td>2021-06-16</td>\n      <td>2021</td>\n      <td>6</td>\n      <td>EESS</td>\n      <td>ESSALUD</td>\n      <td>SIN REGISTRO</td>\n      <td>NO SE REALIZÓ NECROPSIA</td>\n    </tr>\n    <tr>\n      <th>298510</th>\n      <td>SANIDAD PNP</td>\n      <td>MASCULINO</td>\n      <td>74</td>\n      <td>AÑOS</td>\n      <td>CASADO</td>\n      <td>IGNORADO</td>\n      <td>92-33-04-01-29-000</td>\n      <td>PERU</td>\n      <td>AREQUIPA</td>\n      <td>AREQUIPA</td>\n      <td>JOSE LUIS BUSTAMANTE Y RIVERO</td>\n      <td>2021-06-16</td>\n      <td>2021</td>\n      <td>6</td>\n      <td>EESS</td>\n      <td>SANIDAD DE LA POLICIA NACIONAL DEL PERU</td>\n      <td>SIN REGISTRO</td>\n      <td>NO SE REALIZÓ NECROPSIA</td>\n    </tr>\n    <tr>\n      <th>298368</th>\n      <td>SIS</td>\n      <td>MASCULINO</td>\n      <td>50</td>\n      <td>AÑOS</td>\n      <td>SOLTERO</td>\n      <td>IGNORADO</td>\n      <td>92-33-25-01-02-000</td>\n      <td>PERU</td>\n      <td>UCAYALI</td>\n      <td>CORONEL PORTILLO</td>\n      <td>YARINACOCHA</td>\n      <td>2021-06-16</td>\n      <td>2021</td>\n      <td>6</td>\n      <td>EESS</td>\n      <td>GOBIERNO REGIONAL</td>\n      <td>SIN REGISTRO</td>\n      <td>NO SE REALIZÓ NECROPSIA</td>\n    </tr>\n  </tbody>\n</table>\n<p>697937 rows × 18 columns</p>\n</div>"
     },
     "metadata": {},
     "execution_count": 17
    }
   ],
   "source": [
    "xls = xls.sort_values(by = 'FECHA')\n",
    "xls['FECHA'] = pd.to_datetime(xls['FECHA'], errors='coerce', dayfirst=True)\n",
    "xls['FECHA'] = pd.to_datetime(xls['FECHA'], format='%y-%m-%d', errors='ignore')\n",
    "xls"
   ]
  },
  {
   "cell_type": "code",
   "execution_count": 18,
   "metadata": {},
   "outputs": [
    {
     "output_type": "execute_result",
     "data": {
      "text/plain": [
       "Nº\n",
       "468102    65\n",
       "467989    75\n",
       "464393    86\n",
       "466354    38\n",
       "528757    66\n",
       "          ..\n",
       "298502    88\n",
       "298504    85\n",
       "298507    83\n",
       "298510    74\n",
       "298368    50\n",
       "Name: EDAD, Length: 697937, dtype: object"
      ]
     },
     "metadata": {},
     "execution_count": 18
    }
   ],
   "source": [
    "xls['FECHA'].replace('SIN REGISTRO', np.nan)\n",
    "xls['EDAD'].replace('SIN REGISTRO', np.nan)\n",
    "xls['FECHA'].dropna()\n",
    "xls['EDAD'].dropna()"
   ]
  },
  {
   "cell_type": "code",
   "execution_count": 19,
   "metadata": {},
   "outputs": [
    {
     "output_type": "execute_result",
     "data": {
      "text/plain": [
       "        TIPO SEGURO       SEXO EDAD TIEMPO EDAD ESTADO CIVIL  \\\n",
       "Nº                                                             \n",
       "468102     IGNORADO  MASCULINO   65        AÑOS       CASADO   \n",
       "467989     IGNORADO  MASCULINO   75        AÑOS       CASADO   \n",
       "464393      ESSALUD  MASCULINO   86        AÑOS       CASADO   \n",
       "466354        OTROS  MASCULINO   38        AÑOS      SOLTERO   \n",
       "528757     PRIVADOS   FEMENINO   66        AÑOS       CASADO   \n",
       "...             ...        ...  ...         ...          ...   \n",
       "298502          SIS   FEMENINO   88        AÑOS       CASADO   \n",
       "298504      ESSALUD  MASCULINO   85        AÑOS        VIUDO   \n",
       "298507      ESSALUD  MASCULINO   83        AÑOS       CASADO   \n",
       "298510  SANIDAD PNP  MASCULINO   74        AÑOS       CASADO   \n",
       "298368          SIS  MASCULINO   50        AÑOS      SOLTERO   \n",
       "\n",
       "           NIVEL DE INSTRUCCIÓN              UBIGEO  PAIS DEPARTAMENTO  \\\n",
       "Nº                                                                       \n",
       "468102      SECUNDARIA COMPLETA  92-33-14-01-03-000  PERU         LIMA   \n",
       "467989        PRIMARIA COMPLETA  92-33-14-01-41-000  PERU         LIMA   \n",
       "464393                 IGNORADO  92-33-04-01-09-000  PERU     AREQUIPA   \n",
       "466354   SUPERIOR NO UNIV. INC.  92-33-24-01-01-000  PERU       CALLAO   \n",
       "528757        PRIMARIA COMPLETA  92-33-15-01-13-000  PERU       LORETO   \n",
       "...                         ...                 ...   ...          ...   \n",
       "298502  NINGUN NIVEL / ILETRADO  92-33-04-02-20-000  PERU     AREQUIPA   \n",
       "298504                 IGNORADO  92-33-04-01-01-000  PERU     AREQUIPA   \n",
       "298507        PRIMARIA COMPLETA  92-33-12-05-01-000  PERU  LA LIBERTAD   \n",
       "298510                 IGNORADO  92-33-04-01-29-000  PERU     AREQUIPA   \n",
       "298368                 IGNORADO  92-33-25-01-02-000  PERU      UCAYALI   \n",
       "\n",
       "               PROVINCIA                       DISTRITO      FECHA   AÑO  MES  \\\n",
       "Nº                                                                              \n",
       "468102              LIMA                            ATE 2017-01-01  2017    1   \n",
       "467989              LIMA              VILLA EL SALVADOR 2017-01-01  2017    1   \n",
       "464393          AREQUIPA                     PAUCARPATA 2017-01-01  2017    1   \n",
       "466354            CALLAO                         CALLAO 2017-01-01  2017    1   \n",
       "528757            MAYNAS              SAN JUAN BAUTISTA 2017-01-01  2017    1   \n",
       "...                  ...                            ...        ...   ...  ...   \n",
       "298502          CAYLLOMA                          MAJES 2021-06-16  2021    6   \n",
       "298504          AREQUIPA                       AREQUIPA 2021-06-16  2021    6   \n",
       "298507         PACASMAYO              SAN PEDRO DE LLOC 2021-06-16  2021    6   \n",
       "298510          AREQUIPA  JOSE LUIS BUSTAMANTE Y RIVERO 2021-06-16  2021    6   \n",
       "298368  CORONEL PORTILLO                    YARINACOCHA 2021-06-16  2021    6   \n",
       "\n",
       "       TIPO LUGAR                              INSTITUCION MUERTE VIOLENTA  \\\n",
       "Nº                                                                           \n",
       "468102       EESS                                  ESSALUD    SIN REGISTRO   \n",
       "467989  DOMICILIO                             SIN REGISTRO    SIN REGISTRO   \n",
       "464393       EESS                                  ESSALUD    SIN REGISTRO   \n",
       "466354       EESS                                  PRIVADO    SIN REGISTRO   \n",
       "528757       EESS                                  PRIVADO    SIN REGISTRO   \n",
       "...           ...                                      ...             ...   \n",
       "298502  DOMICILIO                             SIN REGISTRO    SIN REGISTRO   \n",
       "298504       EESS                                  ESSALUD    SIN REGISTRO   \n",
       "298507       EESS                                  ESSALUD    SIN REGISTRO   \n",
       "298510       EESS  SANIDAD DE LA POLICIA NACIONAL DEL PERU    SIN REGISTRO   \n",
       "298368       EESS                        GOBIERNO REGIONAL    SIN REGISTRO   \n",
       "\n",
       "                      NECROPSIA  \n",
       "Nº                               \n",
       "468102             SIN REGISTRO  \n",
       "467989             SIN REGISTRO  \n",
       "464393             SIN REGISTRO  \n",
       "466354             SIN REGISTRO  \n",
       "528757  NO SE REALIZÓ NECROPSIA  \n",
       "...                         ...  \n",
       "298502  NO SE REALIZÓ NECROPSIA  \n",
       "298504  NO SE REALIZÓ NECROPSIA  \n",
       "298507  NO SE REALIZÓ NECROPSIA  \n",
       "298510  NO SE REALIZÓ NECROPSIA  \n",
       "298368  NO SE REALIZÓ NECROPSIA  \n",
       "\n",
       "[697937 rows x 18 columns]"
      ],
      "text/html": "<div>\n<style scoped>\n    .dataframe tbody tr th:only-of-type {\n        vertical-align: middle;\n    }\n\n    .dataframe tbody tr th {\n        vertical-align: top;\n    }\n\n    .dataframe thead th {\n        text-align: right;\n    }\n</style>\n<table border=\"1\" class=\"dataframe\">\n  <thead>\n    <tr style=\"text-align: right;\">\n      <th></th>\n      <th>TIPO SEGURO</th>\n      <th>SEXO</th>\n      <th>EDAD</th>\n      <th>TIEMPO EDAD</th>\n      <th>ESTADO CIVIL</th>\n      <th>NIVEL DE INSTRUCCIÓN</th>\n      <th>UBIGEO</th>\n      <th>PAIS</th>\n      <th>DEPARTAMENTO</th>\n      <th>PROVINCIA</th>\n      <th>DISTRITO</th>\n      <th>FECHA</th>\n      <th>AÑO</th>\n      <th>MES</th>\n      <th>TIPO LUGAR</th>\n      <th>INSTITUCION</th>\n      <th>MUERTE VIOLENTA</th>\n      <th>NECROPSIA</th>\n    </tr>\n    <tr>\n      <th>Nº</th>\n      <th></th>\n      <th></th>\n      <th></th>\n      <th></th>\n      <th></th>\n      <th></th>\n      <th></th>\n      <th></th>\n      <th></th>\n      <th></th>\n      <th></th>\n      <th></th>\n      <th></th>\n      <th></th>\n      <th></th>\n      <th></th>\n      <th></th>\n      <th></th>\n    </tr>\n  </thead>\n  <tbody>\n    <tr>\n      <th>468102</th>\n      <td>IGNORADO</td>\n      <td>MASCULINO</td>\n      <td>65</td>\n      <td>AÑOS</td>\n      <td>CASADO</td>\n      <td>SECUNDARIA COMPLETA</td>\n      <td>92-33-14-01-03-000</td>\n      <td>PERU</td>\n      <td>LIMA</td>\n      <td>LIMA</td>\n      <td>ATE</td>\n      <td>2017-01-01</td>\n      <td>2017</td>\n      <td>1</td>\n      <td>EESS</td>\n      <td>ESSALUD</td>\n      <td>SIN REGISTRO</td>\n      <td>SIN REGISTRO</td>\n    </tr>\n    <tr>\n      <th>467989</th>\n      <td>IGNORADO</td>\n      <td>MASCULINO</td>\n      <td>75</td>\n      <td>AÑOS</td>\n      <td>CASADO</td>\n      <td>PRIMARIA COMPLETA</td>\n      <td>92-33-14-01-41-000</td>\n      <td>PERU</td>\n      <td>LIMA</td>\n      <td>LIMA</td>\n      <td>VILLA EL SALVADOR</td>\n      <td>2017-01-01</td>\n      <td>2017</td>\n      <td>1</td>\n      <td>DOMICILIO</td>\n      <td>SIN REGISTRO</td>\n      <td>SIN REGISTRO</td>\n      <td>SIN REGISTRO</td>\n    </tr>\n    <tr>\n      <th>464393</th>\n      <td>ESSALUD</td>\n      <td>MASCULINO</td>\n      <td>86</td>\n      <td>AÑOS</td>\n      <td>CASADO</td>\n      <td>IGNORADO</td>\n      <td>92-33-04-01-09-000</td>\n      <td>PERU</td>\n      <td>AREQUIPA</td>\n      <td>AREQUIPA</td>\n      <td>PAUCARPATA</td>\n      <td>2017-01-01</td>\n      <td>2017</td>\n      <td>1</td>\n      <td>EESS</td>\n      <td>ESSALUD</td>\n      <td>SIN REGISTRO</td>\n      <td>SIN REGISTRO</td>\n    </tr>\n    <tr>\n      <th>466354</th>\n      <td>OTROS</td>\n      <td>MASCULINO</td>\n      <td>38</td>\n      <td>AÑOS</td>\n      <td>SOLTERO</td>\n      <td>SUPERIOR NO UNIV. INC.</td>\n      <td>92-33-24-01-01-000</td>\n      <td>PERU</td>\n      <td>CALLAO</td>\n      <td>CALLAO</td>\n      <td>CALLAO</td>\n      <td>2017-01-01</td>\n      <td>2017</td>\n      <td>1</td>\n      <td>EESS</td>\n      <td>PRIVADO</td>\n      <td>SIN REGISTRO</td>\n      <td>SIN REGISTRO</td>\n    </tr>\n    <tr>\n      <th>528757</th>\n      <td>PRIVADOS</td>\n      <td>FEMENINO</td>\n      <td>66</td>\n      <td>AÑOS</td>\n      <td>CASADO</td>\n      <td>PRIMARIA COMPLETA</td>\n      <td>92-33-15-01-13-000</td>\n      <td>PERU</td>\n      <td>LORETO</td>\n      <td>MAYNAS</td>\n      <td>SAN JUAN BAUTISTA</td>\n      <td>2017-01-01</td>\n      <td>2017</td>\n      <td>1</td>\n      <td>EESS</td>\n      <td>PRIVADO</td>\n      <td>SIN REGISTRO</td>\n      <td>NO SE REALIZÓ NECROPSIA</td>\n    </tr>\n    <tr>\n      <th>...</th>\n      <td>...</td>\n      <td>...</td>\n      <td>...</td>\n      <td>...</td>\n      <td>...</td>\n      <td>...</td>\n      <td>...</td>\n      <td>...</td>\n      <td>...</td>\n      <td>...</td>\n      <td>...</td>\n      <td>...</td>\n      <td>...</td>\n      <td>...</td>\n      <td>...</td>\n      <td>...</td>\n      <td>...</td>\n      <td>...</td>\n    </tr>\n    <tr>\n      <th>298502</th>\n      <td>SIS</td>\n      <td>FEMENINO</td>\n      <td>88</td>\n      <td>AÑOS</td>\n      <td>CASADO</td>\n      <td>NINGUN NIVEL / ILETRADO</td>\n      <td>92-33-04-02-20-000</td>\n      <td>PERU</td>\n      <td>AREQUIPA</td>\n      <td>CAYLLOMA</td>\n      <td>MAJES</td>\n      <td>2021-06-16</td>\n      <td>2021</td>\n      <td>6</td>\n      <td>DOMICILIO</td>\n      <td>SIN REGISTRO</td>\n      <td>SIN REGISTRO</td>\n      <td>NO SE REALIZÓ NECROPSIA</td>\n    </tr>\n    <tr>\n      <th>298504</th>\n      <td>ESSALUD</td>\n      <td>MASCULINO</td>\n      <td>85</td>\n      <td>AÑOS</td>\n      <td>VIUDO</td>\n      <td>IGNORADO</td>\n      <td>92-33-04-01-01-000</td>\n      <td>PERU</td>\n      <td>AREQUIPA</td>\n      <td>AREQUIPA</td>\n      <td>AREQUIPA</td>\n      <td>2021-06-16</td>\n      <td>2021</td>\n      <td>6</td>\n      <td>EESS</td>\n      <td>ESSALUD</td>\n      <td>SIN REGISTRO</td>\n      <td>NO SE REALIZÓ NECROPSIA</td>\n    </tr>\n    <tr>\n      <th>298507</th>\n      <td>ESSALUD</td>\n      <td>MASCULINO</td>\n      <td>83</td>\n      <td>AÑOS</td>\n      <td>CASADO</td>\n      <td>PRIMARIA COMPLETA</td>\n      <td>92-33-12-05-01-000</td>\n      <td>PERU</td>\n      <td>LA LIBERTAD</td>\n      <td>PACASMAYO</td>\n      <td>SAN PEDRO DE LLOC</td>\n      <td>2021-06-16</td>\n      <td>2021</td>\n      <td>6</td>\n      <td>EESS</td>\n      <td>ESSALUD</td>\n      <td>SIN REGISTRO</td>\n      <td>NO SE REALIZÓ NECROPSIA</td>\n    </tr>\n    <tr>\n      <th>298510</th>\n      <td>SANIDAD PNP</td>\n      <td>MASCULINO</td>\n      <td>74</td>\n      <td>AÑOS</td>\n      <td>CASADO</td>\n      <td>IGNORADO</td>\n      <td>92-33-04-01-29-000</td>\n      <td>PERU</td>\n      <td>AREQUIPA</td>\n      <td>AREQUIPA</td>\n      <td>JOSE LUIS BUSTAMANTE Y RIVERO</td>\n      <td>2021-06-16</td>\n      <td>2021</td>\n      <td>6</td>\n      <td>EESS</td>\n      <td>SANIDAD DE LA POLICIA NACIONAL DEL PERU</td>\n      <td>SIN REGISTRO</td>\n      <td>NO SE REALIZÓ NECROPSIA</td>\n    </tr>\n    <tr>\n      <th>298368</th>\n      <td>SIS</td>\n      <td>MASCULINO</td>\n      <td>50</td>\n      <td>AÑOS</td>\n      <td>SOLTERO</td>\n      <td>IGNORADO</td>\n      <td>92-33-25-01-02-000</td>\n      <td>PERU</td>\n      <td>UCAYALI</td>\n      <td>CORONEL PORTILLO</td>\n      <td>YARINACOCHA</td>\n      <td>2021-06-16</td>\n      <td>2021</td>\n      <td>6</td>\n      <td>EESS</td>\n      <td>GOBIERNO REGIONAL</td>\n      <td>SIN REGISTRO</td>\n      <td>NO SE REALIZÓ NECROPSIA</td>\n    </tr>\n  </tbody>\n</table>\n<p>697937 rows × 18 columns</p>\n</div>"
     },
     "metadata": {},
     "execution_count": 19
    }
   ],
   "source": [
    "xls"
   ]
  },
  {
   "cell_type": "code",
   "execution_count": 35,
   "metadata": {
    "scrolled": true
   },
   "outputs": [
    {
     "output_type": "execute_result",
     "data": {
      "text/plain": [
       "       TIPO SEGURO       SEXO EDAD TIEMPO EDAD ESTADO CIVIL  \\\n",
       "Nº                                                            \n",
       "660397     ESSALUD  MASCULINO   86        AÑOS       CASADO   \n",
       "570438     ESSALUD   FEMENINO   56        AÑOS       CASADO   \n",
       "658523    IGNORADO  MASCULINO   79        AÑOS       CASADO   \n",
       "569605         SIS   FEMENINO   45        AÑOS       CASADO   \n",
       "660294         SIS  MASCULINO   89        AÑOS       CASADO   \n",
       "...            ...        ...  ...         ...          ...   \n",
       "299713     ESSALUD  MASCULINO   83        AÑOS       CASADO   \n",
       "299717     ESSALUD  MASCULINO   63        AÑOS      SOLTERO   \n",
       "299630     ESSALUD   FEMENINO   54        AÑOS      SOLTERO   \n",
       "299718         SIS  MASCULINO   67        AÑOS       CASADO   \n",
       "299728    PRIVADOS  MASCULINO   81        AÑOS      SOLTERO   \n",
       "\n",
       "           NIVEL DE INSTRUCCIÓN              UBIGEO  PAIS DEPARTAMENTO  \\\n",
       "Nº                                                                       \n",
       "660397        PRIMARIA COMPLETA  92-33-02-03-17-000  PERU       ANCASH   \n",
       "570438     SUPERIOR UNIV. COMP.  92-33-14-01-36-000  PERU         LIMA   \n",
       "658523        PRIMARIA COMPLETA  92-33-14-01-41-000  PERU         LIMA   \n",
       "569605      PRIMARIA INCOMPLETA  92-33-11-01-08-000  PERU        JUNIN   \n",
       "660294  NINGUN NIVEL / ILETRADO  92-33-05-04-06-000  PERU     AYACUCHO   \n",
       "...                         ...                 ...   ...          ...   \n",
       "299713        PRIMARIA COMPLETA  92-33-12-01-01-000  PERU  LA LIBERTAD   \n",
       "299717      SECUNDARIA COMPLETA  92-33-20-01-01-000  PERU         PUNO   \n",
       "299630      SECUNDARIA COMPLETA  92-33-13-01-01-000  PERU   LAMBAYEQUE   \n",
       "299718      SECUNDARIA COMPLETA  92-33-14-01-43-000  PERU         LIMA   \n",
       "299728                 IGNORADO  92-33-04-02-01-000  PERU     AREQUIPA   \n",
       "\n",
       "        PROVINCIA                 DISTRITO      FECHA   AÑO  MES   TIPO LUGAR  \\\n",
       "Nº                                                                              \n",
       "660397  BOLOGNESI  SAN MIGUEL DE CORPANQUI 2019-01-01  2019    1  EN TRANSITO   \n",
       "570438       LIMA   SAN JUAN DE MIRAFLORES 2019-01-01  2019    1         EESS   \n",
       "658523       LIMA        VILLA EL SALVADOR 2019-01-01  2019    1    DOMICILIO   \n",
       "569605   HUANCAYO                   CHILCA 2019-01-01  2019    1    DOMICILIO   \n",
       "660294     LA MAR                    TAMBO 2019-01-01  2019    1    DOMICILIO   \n",
       "...           ...                      ...        ...   ...  ...          ...   \n",
       "299713   TRUJILLO                 TRUJILLO 2021-06-15  2021    6    DOMICILIO   \n",
       "299717       PUNO                     PUNO 2021-06-15  2021    6         EESS   \n",
       "299630   CHICLAYO                 CHICLAYO 2021-06-15  2021    6         EESS   \n",
       "299718       LIMA              SANTA ANITA 2021-06-15  2021    6         EESS   \n",
       "299728   CAYLLOMA                   CHIVAY 2021-06-15  2021    6         EESS   \n",
       "\n",
       "         INSTITUCION MUERTE VIOLENTA                NECROPSIA  \n",
       "Nº                                                             \n",
       "660397  SIN REGISTRO    SIN REGISTRO  NO SE REALIZÓ NECROPSIA  \n",
       "570438       ESSALUD    SIN REGISTRO  NO SE REALIZÓ NECROPSIA  \n",
       "658523  SIN REGISTRO    SIN REGISTRO  NO SE REALIZÓ NECROPSIA  \n",
       "569605  SIN REGISTRO    NO SE CONOCE  SI SE REALIZÓ NECROPSIA  \n",
       "660294  SIN REGISTRO    SIN REGISTRO             SIN REGISTRO  \n",
       "...              ...             ...                      ...  \n",
       "299713  SIN REGISTRO    SIN REGISTRO  NO SE REALIZÓ NECROPSIA  \n",
       "299717       ESSALUD    SIN REGISTRO  NO SE REALIZÓ NECROPSIA  \n",
       "299630       ESSALUD    SIN REGISTRO  NO SE REALIZÓ NECROPSIA  \n",
       "299718         MINSA    SIN REGISTRO  NO SE REALIZÓ NECROPSIA  \n",
       "299728       PRIVADO    SIN REGISTRO  NO SE REALIZÓ NECROPSIA  \n",
       "\n",
       "[474960 rows x 18 columns]"
      ],
      "text/html": "<div>\n<style scoped>\n    .dataframe tbody tr th:only-of-type {\n        vertical-align: middle;\n    }\n\n    .dataframe tbody tr th {\n        vertical-align: top;\n    }\n\n    .dataframe thead th {\n        text-align: right;\n    }\n</style>\n<table border=\"1\" class=\"dataframe\">\n  <thead>\n    <tr style=\"text-align: right;\">\n      <th></th>\n      <th>TIPO SEGURO</th>\n      <th>SEXO</th>\n      <th>EDAD</th>\n      <th>TIEMPO EDAD</th>\n      <th>ESTADO CIVIL</th>\n      <th>NIVEL DE INSTRUCCIÓN</th>\n      <th>UBIGEO</th>\n      <th>PAIS</th>\n      <th>DEPARTAMENTO</th>\n      <th>PROVINCIA</th>\n      <th>DISTRITO</th>\n      <th>FECHA</th>\n      <th>AÑO</th>\n      <th>MES</th>\n      <th>TIPO LUGAR</th>\n      <th>INSTITUCION</th>\n      <th>MUERTE VIOLENTA</th>\n      <th>NECROPSIA</th>\n    </tr>\n    <tr>\n      <th>Nº</th>\n      <th></th>\n      <th></th>\n      <th></th>\n      <th></th>\n      <th></th>\n      <th></th>\n      <th></th>\n      <th></th>\n      <th></th>\n      <th></th>\n      <th></th>\n      <th></th>\n      <th></th>\n      <th></th>\n      <th></th>\n      <th></th>\n      <th></th>\n      <th></th>\n    </tr>\n  </thead>\n  <tbody>\n    <tr>\n      <th>660397</th>\n      <td>ESSALUD</td>\n      <td>MASCULINO</td>\n      <td>86</td>\n      <td>AÑOS</td>\n      <td>CASADO</td>\n      <td>PRIMARIA COMPLETA</td>\n      <td>92-33-02-03-17-000</td>\n      <td>PERU</td>\n      <td>ANCASH</td>\n      <td>BOLOGNESI</td>\n      <td>SAN MIGUEL DE CORPANQUI</td>\n      <td>2019-01-01</td>\n      <td>2019</td>\n      <td>1</td>\n      <td>EN TRANSITO</td>\n      <td>SIN REGISTRO</td>\n      <td>SIN REGISTRO</td>\n      <td>NO SE REALIZÓ NECROPSIA</td>\n    </tr>\n    <tr>\n      <th>570438</th>\n      <td>ESSALUD</td>\n      <td>FEMENINO</td>\n      <td>56</td>\n      <td>AÑOS</td>\n      <td>CASADO</td>\n      <td>SUPERIOR UNIV. COMP.</td>\n      <td>92-33-14-01-36-000</td>\n      <td>PERU</td>\n      <td>LIMA</td>\n      <td>LIMA</td>\n      <td>SAN JUAN DE MIRAFLORES</td>\n      <td>2019-01-01</td>\n      <td>2019</td>\n      <td>1</td>\n      <td>EESS</td>\n      <td>ESSALUD</td>\n      <td>SIN REGISTRO</td>\n      <td>NO SE REALIZÓ NECROPSIA</td>\n    </tr>\n    <tr>\n      <th>658523</th>\n      <td>IGNORADO</td>\n      <td>MASCULINO</td>\n      <td>79</td>\n      <td>AÑOS</td>\n      <td>CASADO</td>\n      <td>PRIMARIA COMPLETA</td>\n      <td>92-33-14-01-41-000</td>\n      <td>PERU</td>\n      <td>LIMA</td>\n      <td>LIMA</td>\n      <td>VILLA EL SALVADOR</td>\n      <td>2019-01-01</td>\n      <td>2019</td>\n      <td>1</td>\n      <td>DOMICILIO</td>\n      <td>SIN REGISTRO</td>\n      <td>SIN REGISTRO</td>\n      <td>NO SE REALIZÓ NECROPSIA</td>\n    </tr>\n    <tr>\n      <th>569605</th>\n      <td>SIS</td>\n      <td>FEMENINO</td>\n      <td>45</td>\n      <td>AÑOS</td>\n      <td>CASADO</td>\n      <td>PRIMARIA INCOMPLETA</td>\n      <td>92-33-11-01-08-000</td>\n      <td>PERU</td>\n      <td>JUNIN</td>\n      <td>HUANCAYO</td>\n      <td>CHILCA</td>\n      <td>2019-01-01</td>\n      <td>2019</td>\n      <td>1</td>\n      <td>DOMICILIO</td>\n      <td>SIN REGISTRO</td>\n      <td>NO SE CONOCE</td>\n      <td>SI SE REALIZÓ NECROPSIA</td>\n    </tr>\n    <tr>\n      <th>660294</th>\n      <td>SIS</td>\n      <td>MASCULINO</td>\n      <td>89</td>\n      <td>AÑOS</td>\n      <td>CASADO</td>\n      <td>NINGUN NIVEL / ILETRADO</td>\n      <td>92-33-05-04-06-000</td>\n      <td>PERU</td>\n      <td>AYACUCHO</td>\n      <td>LA MAR</td>\n      <td>TAMBO</td>\n      <td>2019-01-01</td>\n      <td>2019</td>\n      <td>1</td>\n      <td>DOMICILIO</td>\n      <td>SIN REGISTRO</td>\n      <td>SIN REGISTRO</td>\n      <td>SIN REGISTRO</td>\n    </tr>\n    <tr>\n      <th>...</th>\n      <td>...</td>\n      <td>...</td>\n      <td>...</td>\n      <td>...</td>\n      <td>...</td>\n      <td>...</td>\n      <td>...</td>\n      <td>...</td>\n      <td>...</td>\n      <td>...</td>\n      <td>...</td>\n      <td>...</td>\n      <td>...</td>\n      <td>...</td>\n      <td>...</td>\n      <td>...</td>\n      <td>...</td>\n      <td>...</td>\n    </tr>\n    <tr>\n      <th>299713</th>\n      <td>ESSALUD</td>\n      <td>MASCULINO</td>\n      <td>83</td>\n      <td>AÑOS</td>\n      <td>CASADO</td>\n      <td>PRIMARIA COMPLETA</td>\n      <td>92-33-12-01-01-000</td>\n      <td>PERU</td>\n      <td>LA LIBERTAD</td>\n      <td>TRUJILLO</td>\n      <td>TRUJILLO</td>\n      <td>2021-06-15</td>\n      <td>2021</td>\n      <td>6</td>\n      <td>DOMICILIO</td>\n      <td>SIN REGISTRO</td>\n      <td>SIN REGISTRO</td>\n      <td>NO SE REALIZÓ NECROPSIA</td>\n    </tr>\n    <tr>\n      <th>299717</th>\n      <td>ESSALUD</td>\n      <td>MASCULINO</td>\n      <td>63</td>\n      <td>AÑOS</td>\n      <td>SOLTERO</td>\n      <td>SECUNDARIA COMPLETA</td>\n      <td>92-33-20-01-01-000</td>\n      <td>PERU</td>\n      <td>PUNO</td>\n      <td>PUNO</td>\n      <td>PUNO</td>\n      <td>2021-06-15</td>\n      <td>2021</td>\n      <td>6</td>\n      <td>EESS</td>\n      <td>ESSALUD</td>\n      <td>SIN REGISTRO</td>\n      <td>NO SE REALIZÓ NECROPSIA</td>\n    </tr>\n    <tr>\n      <th>299630</th>\n      <td>ESSALUD</td>\n      <td>FEMENINO</td>\n      <td>54</td>\n      <td>AÑOS</td>\n      <td>SOLTERO</td>\n      <td>SECUNDARIA COMPLETA</td>\n      <td>92-33-13-01-01-000</td>\n      <td>PERU</td>\n      <td>LAMBAYEQUE</td>\n      <td>CHICLAYO</td>\n      <td>CHICLAYO</td>\n      <td>2021-06-15</td>\n      <td>2021</td>\n      <td>6</td>\n      <td>EESS</td>\n      <td>ESSALUD</td>\n      <td>SIN REGISTRO</td>\n      <td>NO SE REALIZÓ NECROPSIA</td>\n    </tr>\n    <tr>\n      <th>299718</th>\n      <td>SIS</td>\n      <td>MASCULINO</td>\n      <td>67</td>\n      <td>AÑOS</td>\n      <td>CASADO</td>\n      <td>SECUNDARIA COMPLETA</td>\n      <td>92-33-14-01-43-000</td>\n      <td>PERU</td>\n      <td>LIMA</td>\n      <td>LIMA</td>\n      <td>SANTA ANITA</td>\n      <td>2021-06-15</td>\n      <td>2021</td>\n      <td>6</td>\n      <td>EESS</td>\n      <td>MINSA</td>\n      <td>SIN REGISTRO</td>\n      <td>NO SE REALIZÓ NECROPSIA</td>\n    </tr>\n    <tr>\n      <th>299728</th>\n      <td>PRIVADOS</td>\n      <td>MASCULINO</td>\n      <td>81</td>\n      <td>AÑOS</td>\n      <td>SOLTERO</td>\n      <td>IGNORADO</td>\n      <td>92-33-04-02-01-000</td>\n      <td>PERU</td>\n      <td>AREQUIPA</td>\n      <td>CAYLLOMA</td>\n      <td>CHIVAY</td>\n      <td>2021-06-15</td>\n      <td>2021</td>\n      <td>6</td>\n      <td>EESS</td>\n      <td>PRIVADO</td>\n      <td>SIN REGISTRO</td>\n      <td>NO SE REALIZÓ NECROPSIA</td>\n    </tr>\n  </tbody>\n</table>\n<p>474960 rows × 18 columns</p>\n</div>"
     },
     "metadata": {},
     "execution_count": 35
    }
   ],
   "source": [
    "start_date = \"2019-01-01\"\n",
    "yesterday = date.today() - timedelta(days=1)\n",
    "end_date = yesterday.strftime(\"%Y-%m-%d\")\n",
    "after_start_date = (xls[\"FECHA\"] >= start_date) & (xls[\"FECHA\"] < end_date)\n",
    "filtered_dates = xls.loc[after_start_date]\n",
    "\n",
    "xls_edad_anos = filtered_dates[filtered_dates['TIEMPO EDAD']=='AÑOS']\n",
    "xls_edad_anos"
   ]
  },
  {
   "cell_type": "code",
   "execution_count": 21,
   "metadata": {
    "scrolled": false
   },
   "outputs": [
    {
     "output_type": "stream",
     "name": "stderr",
     "text": [
      "/home/annaabsi/.local/lib/python3.8/site-packages/pandas/core/generic.py:5494: SettingWithCopyWarning: \nA value is trying to be set on a copy of a slice from a DataFrame.\nTry using .loc[row_indexer,col_indexer] = value instead\n\nSee the caveats in the documentation: https://pandas.pydata.org/pandas-docs/stable/user_guide/indexing.html#returning-a-view-versus-a-copy\n  self[name] = value\n"
     ]
    },
    {
     "output_type": "execute_result",
     "data": {
      "text/plain": [
       "        TIPO SEGURO       SEXO  EDAD TIEMPO EDAD ESTADO CIVIL  \\\n",
       "Nº                                                              \n",
       "570183      ESSALUD   FEMENINO    83        AÑOS      SOLTERO   \n",
       "659986          SIS  MASCULINO    81        AÑOS       CASADO   \n",
       "570154      ESSALUD   FEMENINO    60        AÑOS      SOLTERO   \n",
       "658488     IGNORADO  MASCULINO    73        AÑOS       CASADO   \n",
       "570277          SIS   FEMENINO    95        AÑOS       CASADO   \n",
       "...             ...        ...   ...         ...          ...   \n",
       "298502          SIS   FEMENINO    88        AÑOS       CASADO   \n",
       "298504      ESSALUD  MASCULINO    85        AÑOS        VIUDO   \n",
       "298507      ESSALUD  MASCULINO    83        AÑOS       CASADO   \n",
       "298510  SANIDAD PNP  MASCULINO    74        AÑOS       CASADO   \n",
       "298368          SIS  MASCULINO    50        AÑOS      SOLTERO   \n",
       "\n",
       "           NIVEL DE INSTRUCCIÓN              UBIGEO  PAIS DEPARTAMENTO  \\\n",
       "Nº                                                                       \n",
       "570183     SUPERIOR UNIV. COMP.  92-33-14-01-32-000  PERU         LIMA   \n",
       "659986        PRIMARIA COMPLETA  92-33-11-07-07-000  PERU        JUNIN   \n",
       "570154  NINGUN NIVEL / ILETRADO  92-33-24-01-06-000  PERU       CALLAO   \n",
       "658488        PRIMARIA COMPLETA  92-33-14-01-13-000  PERU         LIMA   \n",
       "570277                 IGNORADO  92-33-14-01-26-000  PERU         LIMA   \n",
       "...                         ...                 ...   ...          ...   \n",
       "298502  NINGUN NIVEL / ILETRADO  92-33-04-02-20-000  PERU     AREQUIPA   \n",
       "298504                 IGNORADO  92-33-04-01-01-000  PERU     AREQUIPA   \n",
       "298507        PRIMARIA COMPLETA  92-33-12-05-01-000  PERU  LA LIBERTAD   \n",
       "298510                 IGNORADO  92-33-04-01-29-000  PERU     AREQUIPA   \n",
       "298368                 IGNORADO  92-33-25-01-02-000  PERU      UCAYALI   \n",
       "\n",
       "               PROVINCIA                       DISTRITO      FECHA   AÑO  MES  \\\n",
       "Nº                                                                              \n",
       "570183              LIMA        VILLA MARIA DEL TRIUNFO 2019-01-02  2019    1   \n",
       "659986            SATIPO                      RIO NEGRO 2019-01-02  2019    1   \n",
       "570154            CALLAO                     VENTANILLA 2019-01-02  2019    1   \n",
       "658488              LIMA                          LURIN 2019-01-02  2019    1   \n",
       "570277              LIMA           SAN MARTIN DE PORRES 2019-01-02  2019    1   \n",
       "...                  ...                            ...        ...   ...  ...   \n",
       "298502          CAYLLOMA                          MAJES 2021-06-16  2021    6   \n",
       "298504          AREQUIPA                       AREQUIPA 2021-06-16  2021    6   \n",
       "298507         PACASMAYO              SAN PEDRO DE LLOC 2021-06-16  2021    6   \n",
       "298510          AREQUIPA  JOSE LUIS BUSTAMANTE Y RIVERO 2021-06-16  2021    6   \n",
       "298368  CORONEL PORTILLO                    YARINACOCHA 2021-06-16  2021    6   \n",
       "\n",
       "       TIPO LUGAR                              INSTITUCION MUERTE VIOLENTA  \\\n",
       "Nº                                                                           \n",
       "570183       EESS                                  ESSALUD    SIN REGISTRO   \n",
       "659986  DOMICILIO                             SIN REGISTRO    SIN REGISTRO   \n",
       "570154       EESS                                  ESSALUD    SIN REGISTRO   \n",
       "658488  DOMICILIO                             SIN REGISTRO    SIN REGISTRO   \n",
       "570277       EESS                                    MINSA    SIN REGISTRO   \n",
       "...           ...                                      ...             ...   \n",
       "298502  DOMICILIO                             SIN REGISTRO    SIN REGISTRO   \n",
       "298504       EESS                                  ESSALUD    SIN REGISTRO   \n",
       "298507       EESS                                  ESSALUD    SIN REGISTRO   \n",
       "298510       EESS  SANIDAD DE LA POLICIA NACIONAL DEL PERU    SIN REGISTRO   \n",
       "298368       EESS                        GOBIERNO REGIONAL    SIN REGISTRO   \n",
       "\n",
       "                      NECROPSIA  \n",
       "Nº                               \n",
       "570183  NO SE REALIZÓ NECROPSIA  \n",
       "659986  NO SE REALIZÓ NECROPSIA  \n",
       "570154  NO SE REALIZÓ NECROPSIA  \n",
       "658488  NO SE REALIZÓ NECROPSIA  \n",
       "570277  NO SE REALIZÓ NECROPSIA  \n",
       "...                         ...  \n",
       "298502  NO SE REALIZÓ NECROPSIA  \n",
       "298504  NO SE REALIZÓ NECROPSIA  \n",
       "298507  NO SE REALIZÓ NECROPSIA  \n",
       "298510  NO SE REALIZÓ NECROPSIA  \n",
       "298368  NO SE REALIZÓ NECROPSIA  \n",
       "\n",
       "[474953 rows x 18 columns]"
      ],
      "text/html": "<div>\n<style scoped>\n    .dataframe tbody tr th:only-of-type {\n        vertical-align: middle;\n    }\n\n    .dataframe tbody tr th {\n        vertical-align: top;\n    }\n\n    .dataframe thead th {\n        text-align: right;\n    }\n</style>\n<table border=\"1\" class=\"dataframe\">\n  <thead>\n    <tr style=\"text-align: right;\">\n      <th></th>\n      <th>TIPO SEGURO</th>\n      <th>SEXO</th>\n      <th>EDAD</th>\n      <th>TIEMPO EDAD</th>\n      <th>ESTADO CIVIL</th>\n      <th>NIVEL DE INSTRUCCIÓN</th>\n      <th>UBIGEO</th>\n      <th>PAIS</th>\n      <th>DEPARTAMENTO</th>\n      <th>PROVINCIA</th>\n      <th>DISTRITO</th>\n      <th>FECHA</th>\n      <th>AÑO</th>\n      <th>MES</th>\n      <th>TIPO LUGAR</th>\n      <th>INSTITUCION</th>\n      <th>MUERTE VIOLENTA</th>\n      <th>NECROPSIA</th>\n    </tr>\n    <tr>\n      <th>Nº</th>\n      <th></th>\n      <th></th>\n      <th></th>\n      <th></th>\n      <th></th>\n      <th></th>\n      <th></th>\n      <th></th>\n      <th></th>\n      <th></th>\n      <th></th>\n      <th></th>\n      <th></th>\n      <th></th>\n      <th></th>\n      <th></th>\n      <th></th>\n      <th></th>\n    </tr>\n  </thead>\n  <tbody>\n    <tr>\n      <th>570183</th>\n      <td>ESSALUD</td>\n      <td>FEMENINO</td>\n      <td>83</td>\n      <td>AÑOS</td>\n      <td>SOLTERO</td>\n      <td>SUPERIOR UNIV. COMP.</td>\n      <td>92-33-14-01-32-000</td>\n      <td>PERU</td>\n      <td>LIMA</td>\n      <td>LIMA</td>\n      <td>VILLA MARIA DEL TRIUNFO</td>\n      <td>2019-01-02</td>\n      <td>2019</td>\n      <td>1</td>\n      <td>EESS</td>\n      <td>ESSALUD</td>\n      <td>SIN REGISTRO</td>\n      <td>NO SE REALIZÓ NECROPSIA</td>\n    </tr>\n    <tr>\n      <th>659986</th>\n      <td>SIS</td>\n      <td>MASCULINO</td>\n      <td>81</td>\n      <td>AÑOS</td>\n      <td>CASADO</td>\n      <td>PRIMARIA COMPLETA</td>\n      <td>92-33-11-07-07-000</td>\n      <td>PERU</td>\n      <td>JUNIN</td>\n      <td>SATIPO</td>\n      <td>RIO NEGRO</td>\n      <td>2019-01-02</td>\n      <td>2019</td>\n      <td>1</td>\n      <td>DOMICILIO</td>\n      <td>SIN REGISTRO</td>\n      <td>SIN REGISTRO</td>\n      <td>NO SE REALIZÓ NECROPSIA</td>\n    </tr>\n    <tr>\n      <th>570154</th>\n      <td>ESSALUD</td>\n      <td>FEMENINO</td>\n      <td>60</td>\n      <td>AÑOS</td>\n      <td>SOLTERO</td>\n      <td>NINGUN NIVEL / ILETRADO</td>\n      <td>92-33-24-01-06-000</td>\n      <td>PERU</td>\n      <td>CALLAO</td>\n      <td>CALLAO</td>\n      <td>VENTANILLA</td>\n      <td>2019-01-02</td>\n      <td>2019</td>\n      <td>1</td>\n      <td>EESS</td>\n      <td>ESSALUD</td>\n      <td>SIN REGISTRO</td>\n      <td>NO SE REALIZÓ NECROPSIA</td>\n    </tr>\n    <tr>\n      <th>658488</th>\n      <td>IGNORADO</td>\n      <td>MASCULINO</td>\n      <td>73</td>\n      <td>AÑOS</td>\n      <td>CASADO</td>\n      <td>PRIMARIA COMPLETA</td>\n      <td>92-33-14-01-13-000</td>\n      <td>PERU</td>\n      <td>LIMA</td>\n      <td>LIMA</td>\n      <td>LURIN</td>\n      <td>2019-01-02</td>\n      <td>2019</td>\n      <td>1</td>\n      <td>DOMICILIO</td>\n      <td>SIN REGISTRO</td>\n      <td>SIN REGISTRO</td>\n      <td>NO SE REALIZÓ NECROPSIA</td>\n    </tr>\n    <tr>\n      <th>570277</th>\n      <td>SIS</td>\n      <td>FEMENINO</td>\n      <td>95</td>\n      <td>AÑOS</td>\n      <td>CASADO</td>\n      <td>IGNORADO</td>\n      <td>92-33-14-01-26-000</td>\n      <td>PERU</td>\n      <td>LIMA</td>\n      <td>LIMA</td>\n      <td>SAN MARTIN DE PORRES</td>\n      <td>2019-01-02</td>\n      <td>2019</td>\n      <td>1</td>\n      <td>EESS</td>\n      <td>MINSA</td>\n      <td>SIN REGISTRO</td>\n      <td>NO SE REALIZÓ NECROPSIA</td>\n    </tr>\n    <tr>\n      <th>...</th>\n      <td>...</td>\n      <td>...</td>\n      <td>...</td>\n      <td>...</td>\n      <td>...</td>\n      <td>...</td>\n      <td>...</td>\n      <td>...</td>\n      <td>...</td>\n      <td>...</td>\n      <td>...</td>\n      <td>...</td>\n      <td>...</td>\n      <td>...</td>\n      <td>...</td>\n      <td>...</td>\n      <td>...</td>\n      <td>...</td>\n    </tr>\n    <tr>\n      <th>298502</th>\n      <td>SIS</td>\n      <td>FEMENINO</td>\n      <td>88</td>\n      <td>AÑOS</td>\n      <td>CASADO</td>\n      <td>NINGUN NIVEL / ILETRADO</td>\n      <td>92-33-04-02-20-000</td>\n      <td>PERU</td>\n      <td>AREQUIPA</td>\n      <td>CAYLLOMA</td>\n      <td>MAJES</td>\n      <td>2021-06-16</td>\n      <td>2021</td>\n      <td>6</td>\n      <td>DOMICILIO</td>\n      <td>SIN REGISTRO</td>\n      <td>SIN REGISTRO</td>\n      <td>NO SE REALIZÓ NECROPSIA</td>\n    </tr>\n    <tr>\n      <th>298504</th>\n      <td>ESSALUD</td>\n      <td>MASCULINO</td>\n      <td>85</td>\n      <td>AÑOS</td>\n      <td>VIUDO</td>\n      <td>IGNORADO</td>\n      <td>92-33-04-01-01-000</td>\n      <td>PERU</td>\n      <td>AREQUIPA</td>\n      <td>AREQUIPA</td>\n      <td>AREQUIPA</td>\n      <td>2021-06-16</td>\n      <td>2021</td>\n      <td>6</td>\n      <td>EESS</td>\n      <td>ESSALUD</td>\n      <td>SIN REGISTRO</td>\n      <td>NO SE REALIZÓ NECROPSIA</td>\n    </tr>\n    <tr>\n      <th>298507</th>\n      <td>ESSALUD</td>\n      <td>MASCULINO</td>\n      <td>83</td>\n      <td>AÑOS</td>\n      <td>CASADO</td>\n      <td>PRIMARIA COMPLETA</td>\n      <td>92-33-12-05-01-000</td>\n      <td>PERU</td>\n      <td>LA LIBERTAD</td>\n      <td>PACASMAYO</td>\n      <td>SAN PEDRO DE LLOC</td>\n      <td>2021-06-16</td>\n      <td>2021</td>\n      <td>6</td>\n      <td>EESS</td>\n      <td>ESSALUD</td>\n      <td>SIN REGISTRO</td>\n      <td>NO SE REALIZÓ NECROPSIA</td>\n    </tr>\n    <tr>\n      <th>298510</th>\n      <td>SANIDAD PNP</td>\n      <td>MASCULINO</td>\n      <td>74</td>\n      <td>AÑOS</td>\n      <td>CASADO</td>\n      <td>IGNORADO</td>\n      <td>92-33-04-01-29-000</td>\n      <td>PERU</td>\n      <td>AREQUIPA</td>\n      <td>AREQUIPA</td>\n      <td>JOSE LUIS BUSTAMANTE Y RIVERO</td>\n      <td>2021-06-16</td>\n      <td>2021</td>\n      <td>6</td>\n      <td>EESS</td>\n      <td>SANIDAD DE LA POLICIA NACIONAL DEL PERU</td>\n      <td>SIN REGISTRO</td>\n      <td>NO SE REALIZÓ NECROPSIA</td>\n    </tr>\n    <tr>\n      <th>298368</th>\n      <td>SIS</td>\n      <td>MASCULINO</td>\n      <td>50</td>\n      <td>AÑOS</td>\n      <td>SOLTERO</td>\n      <td>IGNORADO</td>\n      <td>92-33-25-01-02-000</td>\n      <td>PERU</td>\n      <td>UCAYALI</td>\n      <td>CORONEL PORTILLO</td>\n      <td>YARINACOCHA</td>\n      <td>2021-06-16</td>\n      <td>2021</td>\n      <td>6</td>\n      <td>EESS</td>\n      <td>GOBIERNO REGIONAL</td>\n      <td>SIN REGISTRO</td>\n      <td>NO SE REALIZÓ NECROPSIA</td>\n    </tr>\n  </tbody>\n</table>\n<p>474953 rows × 18 columns</p>\n</div>"
     },
     "metadata": {},
     "execution_count": 21
    }
   ],
   "source": [
    "xls_edad_anos.EDAD = pd.to_numeric(xls_edad_anos.EDAD, errors='coerce')\n",
    "xls_edad_anos\n",
    "#xls_edad_anos['EDAD'].astype(str).astype(int)\n",
    "#xls_edad_anos['EDAD']"
   ]
  },
  {
   "cell_type": "code",
   "execution_count": 22,
   "metadata": {},
   "outputs": [
    {
     "output_type": "execute_result",
     "data": {
      "text/plain": [
       "AÑO      FECHA   2019  2020   2021\n",
       "0   2019-01-02  306.0   NaN    NaN\n",
       "1   2019-01-03  314.0   NaN    NaN\n",
       "2   2019-01-04  290.0   NaN    NaN\n",
       "3   2019-01-05  303.0   NaN    NaN\n",
       "4   2019-01-06  314.0   NaN    NaN\n",
       "..         ...    ...   ...    ...\n",
       "892 2021-06-12    NaN   NaN  567.0\n",
       "893 2021-06-13    NaN   NaN  606.0\n",
       "894 2021-06-14    NaN   NaN  576.0\n",
       "895 2021-06-15    NaN   NaN  590.0\n",
       "896 2021-06-16    NaN   NaN  322.0\n",
       "\n",
       "[897 rows x 4 columns]"
      ],
      "text/html": "<div>\n<style scoped>\n    .dataframe tbody tr th:only-of-type {\n        vertical-align: middle;\n    }\n\n    .dataframe tbody tr th {\n        vertical-align: top;\n    }\n\n    .dataframe thead th {\n        text-align: right;\n    }\n</style>\n<table border=\"1\" class=\"dataframe\">\n  <thead>\n    <tr style=\"text-align: right;\">\n      <th>AÑO</th>\n      <th>FECHA</th>\n      <th>2019</th>\n      <th>2020</th>\n      <th>2021</th>\n    </tr>\n  </thead>\n  <tbody>\n    <tr>\n      <th>0</th>\n      <td>2019-01-02</td>\n      <td>306.0</td>\n      <td>NaN</td>\n      <td>NaN</td>\n    </tr>\n    <tr>\n      <th>1</th>\n      <td>2019-01-03</td>\n      <td>314.0</td>\n      <td>NaN</td>\n      <td>NaN</td>\n    </tr>\n    <tr>\n      <th>2</th>\n      <td>2019-01-04</td>\n      <td>290.0</td>\n      <td>NaN</td>\n      <td>NaN</td>\n    </tr>\n    <tr>\n      <th>3</th>\n      <td>2019-01-05</td>\n      <td>303.0</td>\n      <td>NaN</td>\n      <td>NaN</td>\n    </tr>\n    <tr>\n      <th>4</th>\n      <td>2019-01-06</td>\n      <td>314.0</td>\n      <td>NaN</td>\n      <td>NaN</td>\n    </tr>\n    <tr>\n      <th>...</th>\n      <td>...</td>\n      <td>...</td>\n      <td>...</td>\n      <td>...</td>\n    </tr>\n    <tr>\n      <th>892</th>\n      <td>2021-06-12</td>\n      <td>NaN</td>\n      <td>NaN</td>\n      <td>567.0</td>\n    </tr>\n    <tr>\n      <th>893</th>\n      <td>2021-06-13</td>\n      <td>NaN</td>\n      <td>NaN</td>\n      <td>606.0</td>\n    </tr>\n    <tr>\n      <th>894</th>\n      <td>2021-06-14</td>\n      <td>NaN</td>\n      <td>NaN</td>\n      <td>576.0</td>\n    </tr>\n    <tr>\n      <th>895</th>\n      <td>2021-06-15</td>\n      <td>NaN</td>\n      <td>NaN</td>\n      <td>590.0</td>\n    </tr>\n    <tr>\n      <th>896</th>\n      <td>2021-06-16</td>\n      <td>NaN</td>\n      <td>NaN</td>\n      <td>322.0</td>\n    </tr>\n  </tbody>\n</table>\n<p>897 rows × 4 columns</p>\n</div>"
     },
     "metadata": {},
     "execution_count": 22
    }
   ],
   "source": [
    "#bins = [17, 59, 69, 79, 130]\n",
    "\n",
    "#rs = pd.cut(xls_edad_anos['EDAD'], bins)\n",
    "#rs\n",
    "\n",
    "df_total = xls_edad_anos.groupby(['FECHA', 'AÑO']).size().unstack()\n",
    "df_total = df_total.rename(columns=str).reset_index()\n",
    "# df.drop(columns=df.columns[0], \n",
    "#         axis=1, \n",
    "#         inplace=True)\n",
    "df_total"
   ]
  },
  {
   "cell_type": "code",
   "execution_count": 24,
   "metadata": {
    "scrolled": false
   },
   "outputs": [
    {
     "output_type": "execute_result",
     "data": {
      "text/plain": [
       "EDAD      FECHA  18-59  60-69  70-79  80+\n",
       "0    2019-01-02     85     44     64  103\n",
       "1    2019-01-03     83     35     62  123\n",
       "2    2019-01-04     69     36     66  110\n",
       "3    2019-01-05     77     46     58  118\n",
       "4    2019-01-06     89     52     59  100\n",
       "..          ...    ...    ...    ...  ...\n",
       "892  2021-06-12    158    110    123  167\n",
       "893  2021-06-13    188    119    109  177\n",
       "894  2021-06-14    162    121    129  156\n",
       "895  2021-06-15    162    127    133  162\n",
       "896  2021-06-16     76     76     74   93\n",
       "\n",
       "[897 rows x 5 columns]"
      ],
      "text/html": "<div>\n<style scoped>\n    .dataframe tbody tr th:only-of-type {\n        vertical-align: middle;\n    }\n\n    .dataframe tbody tr th {\n        vertical-align: top;\n    }\n\n    .dataframe thead th {\n        text-align: right;\n    }\n</style>\n<table border=\"1\" class=\"dataframe\">\n  <thead>\n    <tr style=\"text-align: right;\">\n      <th>EDAD</th>\n      <th>FECHA</th>\n      <th>18-59</th>\n      <th>60-69</th>\n      <th>70-79</th>\n      <th>80+</th>\n    </tr>\n  </thead>\n  <tbody>\n    <tr>\n      <th>0</th>\n      <td>2019-01-02</td>\n      <td>85</td>\n      <td>44</td>\n      <td>64</td>\n      <td>103</td>\n    </tr>\n    <tr>\n      <th>1</th>\n      <td>2019-01-03</td>\n      <td>83</td>\n      <td>35</td>\n      <td>62</td>\n      <td>123</td>\n    </tr>\n    <tr>\n      <th>2</th>\n      <td>2019-01-04</td>\n      <td>69</td>\n      <td>36</td>\n      <td>66</td>\n      <td>110</td>\n    </tr>\n    <tr>\n      <th>3</th>\n      <td>2019-01-05</td>\n      <td>77</td>\n      <td>46</td>\n      <td>58</td>\n      <td>118</td>\n    </tr>\n    <tr>\n      <th>4</th>\n      <td>2019-01-06</td>\n      <td>89</td>\n      <td>52</td>\n      <td>59</td>\n      <td>100</td>\n    </tr>\n    <tr>\n      <th>...</th>\n      <td>...</td>\n      <td>...</td>\n      <td>...</td>\n      <td>...</td>\n      <td>...</td>\n    </tr>\n    <tr>\n      <th>892</th>\n      <td>2021-06-12</td>\n      <td>158</td>\n      <td>110</td>\n      <td>123</td>\n      <td>167</td>\n    </tr>\n    <tr>\n      <th>893</th>\n      <td>2021-06-13</td>\n      <td>188</td>\n      <td>119</td>\n      <td>109</td>\n      <td>177</td>\n    </tr>\n    <tr>\n      <th>894</th>\n      <td>2021-06-14</td>\n      <td>162</td>\n      <td>121</td>\n      <td>129</td>\n      <td>156</td>\n    </tr>\n    <tr>\n      <th>895</th>\n      <td>2021-06-15</td>\n      <td>162</td>\n      <td>127</td>\n      <td>133</td>\n      <td>162</td>\n    </tr>\n    <tr>\n      <th>896</th>\n      <td>2021-06-16</td>\n      <td>76</td>\n      <td>76</td>\n      <td>74</td>\n      <td>93</td>\n    </tr>\n  </tbody>\n</table>\n<p>897 rows × 5 columns</p>\n</div>"
     },
     "metadata": {},
     "execution_count": 24
    }
   ],
   "source": [
    "bins = [17, 59, 69, 79, 130]\n",
    "\n",
    "rs = pd.cut(xls_edad_anos['EDAD'], bins)\n",
    "#rs\n",
    "\n",
    "df = xls_edad_anos.groupby(['FECHA', rs]).size().unstack()\n",
    "df = df.rename(columns=str).reset_index()\n",
    "# df.drop(columns=df.columns[0], \n",
    "#         axis=1, \n",
    "#         inplace=True)\n",
    "df = df.rename(columns={'(17, 59]': '18-59', '(59, 69]': '60-69', '(69, 79]': '70-79', '(79, 130]' : '80+'})\n",
    "df"
   ]
  },
  {
   "cell_type": "code",
   "execution_count": 26,
   "metadata": {},
   "outputs": [
    {
     "output_type": "execute_result",
     "data": {
      "text/plain": [
       "EDAD      FECHA  (0, 18]  (18, 59]  (59, 69]  (69, 80]  (80, 130]\n",
       "0    2019-01-02       10        85        44        75         92\n",
       "1    2019-01-03       13        81        35        69        116\n",
       "2    2019-01-04       10        68        36        73        103\n",
       "3    2019-01-05        4        77        46        62        114\n",
       "4    2019-01-06       17        86        52        64         95\n",
       "..          ...      ...       ...       ...       ...        ...\n",
       "892  2021-06-12       11       156       110       132        158\n",
       "893  2021-06-13       15       186       119       121        165\n",
       "894  2021-06-14        9       161       121       141        144\n",
       "895  2021-06-15        6       162       127       142        153\n",
       "896  2021-06-16        3        76        76        82         85\n",
       "\n",
       "[897 rows x 6 columns]"
      ],
      "text/html": "<div>\n<style scoped>\n    .dataframe tbody tr th:only-of-type {\n        vertical-align: middle;\n    }\n\n    .dataframe tbody tr th {\n        vertical-align: top;\n    }\n\n    .dataframe thead th {\n        text-align: right;\n    }\n</style>\n<table border=\"1\" class=\"dataframe\">\n  <thead>\n    <tr style=\"text-align: right;\">\n      <th>EDAD</th>\n      <th>FECHA</th>\n      <th>(0, 18]</th>\n      <th>(18, 59]</th>\n      <th>(59, 69]</th>\n      <th>(69, 80]</th>\n      <th>(80, 130]</th>\n    </tr>\n  </thead>\n  <tbody>\n    <tr>\n      <th>0</th>\n      <td>2019-01-02</td>\n      <td>10</td>\n      <td>85</td>\n      <td>44</td>\n      <td>75</td>\n      <td>92</td>\n    </tr>\n    <tr>\n      <th>1</th>\n      <td>2019-01-03</td>\n      <td>13</td>\n      <td>81</td>\n      <td>35</td>\n      <td>69</td>\n      <td>116</td>\n    </tr>\n    <tr>\n      <th>2</th>\n      <td>2019-01-04</td>\n      <td>10</td>\n      <td>68</td>\n      <td>36</td>\n      <td>73</td>\n      <td>103</td>\n    </tr>\n    <tr>\n      <th>3</th>\n      <td>2019-01-05</td>\n      <td>4</td>\n      <td>77</td>\n      <td>46</td>\n      <td>62</td>\n      <td>114</td>\n    </tr>\n    <tr>\n      <th>4</th>\n      <td>2019-01-06</td>\n      <td>17</td>\n      <td>86</td>\n      <td>52</td>\n      <td>64</td>\n      <td>95</td>\n    </tr>\n    <tr>\n      <th>...</th>\n      <td>...</td>\n      <td>...</td>\n      <td>...</td>\n      <td>...</td>\n      <td>...</td>\n      <td>...</td>\n    </tr>\n    <tr>\n      <th>892</th>\n      <td>2021-06-12</td>\n      <td>11</td>\n      <td>156</td>\n      <td>110</td>\n      <td>132</td>\n      <td>158</td>\n    </tr>\n    <tr>\n      <th>893</th>\n      <td>2021-06-13</td>\n      <td>15</td>\n      <td>186</td>\n      <td>119</td>\n      <td>121</td>\n      <td>165</td>\n    </tr>\n    <tr>\n      <th>894</th>\n      <td>2021-06-14</td>\n      <td>9</td>\n      <td>161</td>\n      <td>121</td>\n      <td>141</td>\n      <td>144</td>\n    </tr>\n    <tr>\n      <th>895</th>\n      <td>2021-06-15</td>\n      <td>6</td>\n      <td>162</td>\n      <td>127</td>\n      <td>142</td>\n      <td>153</td>\n    </tr>\n    <tr>\n      <th>896</th>\n      <td>2021-06-16</td>\n      <td>3</td>\n      <td>76</td>\n      <td>76</td>\n      <td>82</td>\n      <td>85</td>\n    </tr>\n  </tbody>\n</table>\n<p>897 rows × 6 columns</p>\n</div>"
     },
     "metadata": {},
     "execution_count": 26
    }
   ],
   "source": [
    "bins = [0, 18, 59, 69, 80, 130]\n",
    "\n",
    "rs = pd.cut(xls_edad_anos['EDAD'], bins)\n",
    "#rs\n",
    "\n",
    "df_anos = xls_edad_anos.groupby(['FECHA',rs]).size().unstack()\n",
    "df_anos = df_anos.rename(columns=str).reset_index()\n",
    "df_anos"
   ]
  }
 ],
 "metadata": {
  "kernelspec": {
   "name": "python3",
   "display_name": "Python 3.8.5 64-bit"
  },
  "language_info": {
   "codemirror_mode": {
    "name": "ipython",
    "version": 3
   },
   "file_extension": ".py",
   "mimetype": "text/x-python",
   "name": "python",
   "nbconvert_exporter": "python",
   "pygments_lexer": "ipython3",
   "version": "3.8.5"
  },
  "interpreter": {
   "hash": "916dbcbb3f70747c44a77c7bcd40155683ae19c65e1c03b4aa3499c5328201f1"
  }
 },
 "nbformat": 4,
 "nbformat_minor": 4
}