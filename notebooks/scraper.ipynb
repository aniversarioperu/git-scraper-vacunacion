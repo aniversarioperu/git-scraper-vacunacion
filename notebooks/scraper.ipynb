{
 "cells": [
  {
   "cell_type": "code",
   "execution_count": 1,
   "id": "future-turning",
   "metadata": {},
   "outputs": [],
   "source": [
    "import pandas as pd"
   ]
  },
  {
   "cell_type": "code",
   "execution_count": 2,
   "id": "permanent-gauge",
   "metadata": {
    "tags": []
   },
   "outputs": [
    {
     "output_type": "execute_result",
     "data": {
      "text/plain": [
       "Index(['FECHA_CORTE', 'EDAD', 'SEXO', 'FECHA_VACUNACION', 'DOSIS',\n",
       "       'DEPARTAMENTO'],\n",
       "      dtype='object')"
      ]
     },
     "metadata": {},
     "execution_count": 2
    }
   ],
   "source": [
    "df=pd.read_csv('https://cloud.minsa.gob.pe/s/ZgXoXqK2KLjRLxD/download',usecols=['FECHA_CORTE', 'EDAD', 'SEXO',\n",
    "       'FECHA_VACUNACION', 'DOSIS', 'DEPARTAMENTO'],parse_dates=['FECHA_CORTE','FECHA_VACUNACION'])\n",
    "#df=pd.read_csv('vacunas_covid.csv')\n",
    "df.columns"
   ]
  },
  {
   "cell_type": "code",
   "execution_count": 9,
   "metadata": {},
   "outputs": [
    {
     "output_type": "execute_result",
     "data": {
      "text/plain": [
       "  FECHA_CORTE  EDAD       SEXO FECHA_VACUNACION  DOSIS DEPARTAMENTO\n",
       "0  2021-05-21   NaN  MASCULINO       2021-02-22      1         LIMA\n",
       "1  2021-05-21   NaN  MASCULINO       2021-03-10      1  LA LIBERTAD\n",
       "2  2021-05-21   NaN  MASCULINO       2021-02-27      1      HUANUCO\n",
       "3  2021-05-21   NaN   FEMENINO       2021-04-17      1         LIMA\n",
       "4  2021-05-21  81.0   FEMENINO       2021-04-22      1      UCAYALI"
      ],
      "text/html": "<div>\n<style scoped>\n    .dataframe tbody tr th:only-of-type {\n        vertical-align: middle;\n    }\n\n    .dataframe tbody tr th {\n        vertical-align: top;\n    }\n\n    .dataframe thead th {\n        text-align: right;\n    }\n</style>\n<table border=\"1\" class=\"dataframe\">\n  <thead>\n    <tr style=\"text-align: right;\">\n      <th></th>\n      <th>FECHA_CORTE</th>\n      <th>EDAD</th>\n      <th>SEXO</th>\n      <th>FECHA_VACUNACION</th>\n      <th>DOSIS</th>\n      <th>DEPARTAMENTO</th>\n    </tr>\n  </thead>\n  <tbody>\n    <tr>\n      <th>0</th>\n      <td>2021-05-21</td>\n      <td>NaN</td>\n      <td>MASCULINO</td>\n      <td>2021-02-22</td>\n      <td>1</td>\n      <td>LIMA</td>\n    </tr>\n    <tr>\n      <th>1</th>\n      <td>2021-05-21</td>\n      <td>NaN</td>\n      <td>MASCULINO</td>\n      <td>2021-03-10</td>\n      <td>1</td>\n      <td>LA LIBERTAD</td>\n    </tr>\n    <tr>\n      <th>2</th>\n      <td>2021-05-21</td>\n      <td>NaN</td>\n      <td>MASCULINO</td>\n      <td>2021-02-27</td>\n      <td>1</td>\n      <td>HUANUCO</td>\n    </tr>\n    <tr>\n      <th>3</th>\n      <td>2021-05-21</td>\n      <td>NaN</td>\n      <td>FEMENINO</td>\n      <td>2021-04-17</td>\n      <td>1</td>\n      <td>LIMA</td>\n    </tr>\n    <tr>\n      <th>4</th>\n      <td>2021-05-21</td>\n      <td>81.0</td>\n      <td>FEMENINO</td>\n      <td>2021-04-22</td>\n      <td>1</td>\n      <td>UCAYALI</td>\n    </tr>\n  </tbody>\n</table>\n</div>"
     },
     "metadata": {},
     "execution_count": 9
    }
   ],
   "source": [
    "df.head()"
   ]
  },
  {
   "cell_type": "code",
   "execution_count": 21,
   "id": "appointed-mattress",
   "metadata": {},
   "outputs": [
    {
     "output_type": "execute_result",
     "data": {
      "text/plain": [
       "'2021-05-21'"
      ]
     },
     "metadata": {},
     "execution_count": 21
    }
   ],
   "source": [
    "FECHA_CORTE=df['FECHA_CORTE'].unique()\n",
    "FECHA_CORTE=pd.to_datetime(FECHA_CORTE[0]).strftime('%Y-%m-%d')\n",
    "FECHA_CORTE"
   ]
  },
  {
   "cell_type": "code",
   "execution_count": 22,
   "metadata": {},
   "outputs": [
    {
     "output_type": "execute_result",
     "data": {
      "text/plain": [
       "                        FECHA_CORTE   EDAD   SEXO  DEPARTAMENTO\n",
       "FECHA_VACUNACION DOSIS                                         \n",
       "2021-02-09       1             3842   3841   3842          3842\n",
       "2021-02-10       1            16586  16578  16586         16586\n",
       "2021-02-11       1            34118  34109  34118         34118\n",
       "2021-02-12       1            32301  32283  32301         32301\n",
       "2021-02-13       1            18808  18784  18808         18808\n",
       "...                             ...    ...    ...           ...\n",
       "2021-05-19       2            14735  14426  14735         14735\n",
       "2021-05-20       1            61856  61193  61856         61856\n",
       "                 2            10394  10332  10394         10394\n",
       "2021-05-21       1            69387  68591  69387         69387\n",
       "                 2            30917  30836  30917         30917\n",
       "\n",
       "[183 rows x 4 columns]"
      ],
      "text/html": "<div>\n<style scoped>\n    .dataframe tbody tr th:only-of-type {\n        vertical-align: middle;\n    }\n\n    .dataframe tbody tr th {\n        vertical-align: top;\n    }\n\n    .dataframe thead th {\n        text-align: right;\n    }\n</style>\n<table border=\"1\" class=\"dataframe\">\n  <thead>\n    <tr style=\"text-align: right;\">\n      <th></th>\n      <th></th>\n      <th>FECHA_CORTE</th>\n      <th>EDAD</th>\n      <th>SEXO</th>\n      <th>DEPARTAMENTO</th>\n    </tr>\n    <tr>\n      <th>FECHA_VACUNACION</th>\n      <th>DOSIS</th>\n      <th></th>\n      <th></th>\n      <th></th>\n      <th></th>\n    </tr>\n  </thead>\n  <tbody>\n    <tr>\n      <th>2021-02-09</th>\n      <th>1</th>\n      <td>3842</td>\n      <td>3841</td>\n      <td>3842</td>\n      <td>3842</td>\n    </tr>\n    <tr>\n      <th>2021-02-10</th>\n      <th>1</th>\n      <td>16586</td>\n      <td>16578</td>\n      <td>16586</td>\n      <td>16586</td>\n    </tr>\n    <tr>\n      <th>2021-02-11</th>\n      <th>1</th>\n      <td>34118</td>\n      <td>34109</td>\n      <td>34118</td>\n      <td>34118</td>\n    </tr>\n    <tr>\n      <th>2021-02-12</th>\n      <th>1</th>\n      <td>32301</td>\n      <td>32283</td>\n      <td>32301</td>\n      <td>32301</td>\n    </tr>\n    <tr>\n      <th>2021-02-13</th>\n      <th>1</th>\n      <td>18808</td>\n      <td>18784</td>\n      <td>18808</td>\n      <td>18808</td>\n    </tr>\n    <tr>\n      <th>...</th>\n      <th>...</th>\n      <td>...</td>\n      <td>...</td>\n      <td>...</td>\n      <td>...</td>\n    </tr>\n    <tr>\n      <th>2021-05-19</th>\n      <th>2</th>\n      <td>14735</td>\n      <td>14426</td>\n      <td>14735</td>\n      <td>14735</td>\n    </tr>\n    <tr>\n      <th rowspan=\"2\" valign=\"top\">2021-05-20</th>\n      <th>1</th>\n      <td>61856</td>\n      <td>61193</td>\n      <td>61856</td>\n      <td>61856</td>\n    </tr>\n    <tr>\n      <th>2</th>\n      <td>10394</td>\n      <td>10332</td>\n      <td>10394</td>\n      <td>10394</td>\n    </tr>\n    <tr>\n      <th rowspan=\"2\" valign=\"top\">2021-05-21</th>\n      <th>1</th>\n      <td>69387</td>\n      <td>68591</td>\n      <td>69387</td>\n      <td>69387</td>\n    </tr>\n    <tr>\n      <th>2</th>\n      <td>30917</td>\n      <td>30836</td>\n      <td>30917</td>\n      <td>30917</td>\n    </tr>\n  </tbody>\n</table>\n<p>183 rows × 4 columns</p>\n</div>"
     },
     "metadata": {},
     "execution_count": 22
    }
   ],
   "source": [
    "df.groupby(['FECHA_VACUNACION','DOSIS']).count()"
   ]
  },
  {
   "cell_type": "code",
   "execution_count": 46,
   "metadata": {},
   "outputs": [
    {
     "output_type": "execute_result",
     "data": {
      "text/plain": [
       "FECHA_VACUNACION    2021-05-18 00:00:00\n",
       "DOSIS                                 2\n",
       "SEXO                               8171\n",
       "Name: 176, dtype: object"
      ]
     },
     "metadata": {},
     "execution_count": 46
    }
   ],
   "source": [
    "df_ambas_dosis=df[['FECHA_VACUNACION','DOSIS','SEXO']].groupby(['FECHA_VACUNACION','DOSIS']).count()\n",
    "df_ambas_dosis=df_ambas_dosis.reset_index()\n",
    "df_ambas_dosis.iloc[88*2]"
   ]
  },
  {
   "cell_type": "code",
   "execution_count": 24,
   "metadata": {},
   "outputs": [
    {
     "output_type": "execute_result",
     "data": {
      "text/plain": [
       "61856"
      ]
     },
     "metadata": {},
     "execution_count": 24
    }
   ],
   "source": [
    "ga=df_ambas_dosis.loc[((df_ambas_dosis['FECHA_VACUNACION']=='2021-05-20')&\n",
    "                            (df_ambas_dosis['DOSIS']==1))]['SEXO'].values[0]\n",
    "ga                            "
   ]
  },
  {
   "cell_type": "code",
   "execution_count": 36,
   "metadata": {},
   "outputs": [
    {
     "output_type": "execute_result",
     "data": {
      "text/plain": [
       "10394"
      ]
     },
     "metadata": {},
     "execution_count": 36
    }
   ],
   "source": [
    "df_ambas_dosis.loc[((df_ambas_dosis['FECHA_VACUNACION']=='2021-05-20')&\n",
    "                        (df_ambas_dosis['DOSIS']==2))]['SEXO'].values[0]"
   ]
  },
  {
   "cell_type": "code",
   "execution_count": 38,
   "metadata": {},
   "outputs": [
    {
     "output_type": "stream",
     "name": "stdout",
     "text": [
      "2021-02-09 index 0 is out of bounds for axis 0 with size 0\n2021-02-10 index 0 is out of bounds for axis 0 with size 0\n2021-02-11 index 0 is out of bounds for axis 0 with size 0\n2021-02-12 index 0 is out of bounds for axis 0 with size 0\n2021-02-13 index 0 is out of bounds for axis 0 with size 0\n2021-02-14 index 0 is out of bounds for axis 0 with size 0\n2021-02-15 index 0 is out of bounds for axis 0 with size 0\n2021-02-16 index 0 is out of bounds for axis 0 with size 0\n2021-02-17 index 0 is out of bounds for axis 0 with size 0\n2021-02-18 index 0 is out of bounds for axis 0 with size 0\n2021-02-19 index 0 is out of bounds for axis 0 with size 0\n2021-02-20 index 0 is out of bounds for axis 0 with size 0\n2021-02-21 index 0 is out of bounds for axis 0 with size 0\n2021-02-22 index 0 is out of bounds for axis 0 with size 0\n2021-02-23 index 0 is out of bounds for axis 0 with size 0\n2021-02-24 index 0 is out of bounds for axis 0 with size 0\n2021-02-25 index 0 is out of bounds for axis 0 with size 0\n2021-02-26 index 0 is out of bounds for axis 0 with size 0\n2021-02-27 index 0 is out of bounds for axis 0 with size 0\n2021-02-28 index 0 is out of bounds for axis 0 with size 0\n2021-03-01 index 0 is out of bounds for axis 0 with size 0\n"
     ]
    }
   ],
   "source": [
    "df_ambas_dosis_columnas=pd.DataFrame(columns=['FECHA_CORTE','FECHA_VACUNACION','DOSIS1','DOSIS2'])\n",
    "df_ambas_dosis_columnas['FECHA_VACUNACION']=df_ambas_dosis['FECHA_VACUNACION'].unique()\n",
    "\n",
    "\n",
    "for day in df_ambas_dosis_columnas['FECHA_VACUNACION']:\n",
    "\n",
    "    day_fixed=day.strftime('%Y-%m-%d')\n",
    "    try:\n",
    "        # DOSIS1\n",
    "        value=df_ambas_dosis.loc[((df_ambas_dosis['FECHA_VACUNACION']==day_fixed)&\n",
    "                                (df_ambas_dosis['DOSIS']==1))]['SEXO'].values[0]\n",
    "        df_ambas_dosis_columnas.loc[df_ambas_dosis_columnas['FECHA_VACUNACION']==day_fixed,'DOSIS1']=value\n",
    "        # DOSIS2\n",
    "        value=df_ambas_dosis.loc[((df_ambas_dosis['FECHA_VACUNACION']==day_fixed)&\n",
    "                                (df_ambas_dosis['DOSIS']==2))]['SEXO'].values[0]\n",
    "        df_ambas_dosis_columnas.loc[df_ambas_dosis_columnas['FECHA_VACUNACION']==day_fixed,'DOSIS2']=value\n",
    "    except Exception as e:\n",
    "        print(day_fixed,e)"
   ]
  },
  {
   "cell_type": "code",
   "execution_count": 39,
   "metadata": {},
   "outputs": [
    {
     "output_type": "execute_result",
     "data": {
      "text/plain": [
       "  FECHA_CORTE FECHA_VACUNACION DOSIS1 DOSIS2\n",
       "0         NaN       2021-02-09   3842    NaN"
      ],
      "text/html": "<div>\n<style scoped>\n    .dataframe tbody tr th:only-of-type {\n        vertical-align: middle;\n    }\n\n    .dataframe tbody tr th {\n        vertical-align: top;\n    }\n\n    .dataframe thead th {\n        text-align: right;\n    }\n</style>\n<table border=\"1\" class=\"dataframe\">\n  <thead>\n    <tr style=\"text-align: right;\">\n      <th></th>\n      <th>FECHA_CORTE</th>\n      <th>FECHA_VACUNACION</th>\n      <th>DOSIS1</th>\n      <th>DOSIS2</th>\n    </tr>\n  </thead>\n  <tbody>\n    <tr>\n      <th>0</th>\n      <td>NaN</td>\n      <td>2021-02-09</td>\n      <td>3842</td>\n      <td>NaN</td>\n    </tr>\n  </tbody>\n</table>\n</div>"
     },
     "metadata": {},
     "execution_count": 39
    }
   ],
   "source": [
    "df_ambas_dosis_columnas[df_ambas_dosis_columnas['FECHA_VACUNACION']=='2021-02-09']"
   ]
  },
  {
   "cell_type": "code",
   "execution_count": 44,
   "metadata": {},
   "outputs": [
    {
     "output_type": "execute_result",
     "data": {
      "text/plain": [
       "FECHA_CORTE                           0\n",
       "FECHA_VACUNACION    2021-05-08 00:00:00\n",
       "DOSIS1                            56807\n",
       "DOSIS2                            20994\n",
       "Name: 88, dtype: object"
      ]
     },
     "metadata": {},
     "execution_count": 44
    }
   ],
   "source": [
    "df_ambas_dosis_columnas=df_ambas_dosis_columnas.fillna(0)\n",
    "df_ambas_dosis_columnas.iloc[88]"
   ]
  },
  {
   "cell_type": "code",
   "execution_count": null,
   "metadata": {},
   "outputs": [],
   "source": [
    "# Please write the full query on one line\n",
    "# DOSIS 1 y 2\n",
    "query_dosis=\"\"\"select FECHA_CORTE, FECHA_VACUNACION, count (case when DOSIS = 1 then 1 end) as DOSIS1, count (case when DOSIS = 2 then 1 end) as DOSIS2 from df group by FECHA_VACUNACION \"\"\"\n",
    "result_query_dosis=pd.read_sql(query_dosis,locals())\n",
    "print(ps.sqldf(query_dosis,locals()))"
   ]
  },
  {
   "cell_type": "code",
   "execution_count": 147,
   "id": "refined-catholic",
   "metadata": {},
   "outputs": [
    {
     "output_type": "stream",
     "name": "stdout",
     "text": [
      "    FECHA_CORTE  FECHA_VACUNACION  ACUMULADO1  ACUMULADO2\n0      20210509          20210209        3842           0\n1      20210509          20210210       20437           0\n2      20210509          20210211       54285           0\n3      20210509          20210212       86626           0\n4      20210509          20210213      105525           0\n..          ...               ...         ...         ...\n85     20210509          20210505     1279294      664983\n86     20210509          20210506     1310944      666522\n87     20210509          20210507     1335308      676300\n88     20210509          20210508     1374707      688940\n89     20210509          20210509     1387718      699745\n\n[90 rows x 4 columns]\n"
     ]
    }
   ],
   "source": [
    "# Please write the full query on one line\n",
    "# ACUMULADOS DOSIS 1 Y 2\n",
    "query_acumulados=\"\"\"select FECHA_CORTE, FECHA_VACUNACION, sum(count (case when DOSIS = 1 then 1 end)) over (order by FECHA_VACUNACION) as ACUMULADO1, sum(count (case when DOSIS = 2 then 1 end)) over (order by FECHA_VACUNACION) as ACUMULADO2 from df group by FECHA_VACUNACION\"\"\"\n",
    "result_query_acumulados=ps.sqldf(query_acumulados,locals())\n",
    "print(ps.sqldf(query_acumulados,locals()))"
   ]
  },
  {
   "cell_type": "code",
   "execution_count": 148,
   "id": "interstate-michigan",
   "metadata": {},
   "outputs": [
    {
     "output_type": "stream",
     "name": "stdout",
     "text": [
      "    FECHA_CORTE   DEPARTAMENTO  DOSIS1  DOSIS2\n0      20210509       AMAZONAS   17836    5408\n1      20210509         ANCASH   31651   17966\n2      20210509       APURIMAC   32575    7443\n3      20210509       AREQUIPA   49573   32377\n4      20210509       AYACUCHO   38371    9311\n5      20210509      CAJAMARCA   24896   14556\n6      20210509         CALLAO  102207   64590\n7      20210509          CUSCO   24862   13890\n8      20210509   HUANCAVELICA   27343    6162\n9      20210509        HUANUCO   30995    9326\n10     20210509            ICA   32515   16020\n11     20210509          JUNIN   32252   18920\n12     20210509    LA LIBERTAD   56809   28028\n13     20210509     LAMBAYEQUE   31428   13614\n14     20210509           LIMA  677985  355381\n15     20210509         LORETO   26803   15870\n16     20210509  MADRE DE DIOS    5359    2379\n17     20210509       MOQUEGUA    6425    4193\n18     20210509          PASCO   12009    3598\n19     20210509          PIURA   41847   19875\n20     20210509           PUNO   20134   10375\n21     20210509     SAN MARTIN   20267   13570\n22     20210509          TACNA   12789    6599\n23     20210509         TUMBES   13741    4670\n24     20210509        UCAYALI   17046    5624\n"
     ]
    }
   ],
   "source": [
    "# Please write the full query on one line\n",
    "# ACUMULADO DEPARTAMENTOS\n",
    "query_departamentos=\"\"\"select FECHA_CORTE, DEPARTAMENTO, count (case when DOSIS = 1 then 1 end) as DOSIS1, count (case when DOSIS = 2 then 1 end) as DOSIS2 from df group by DEPARTAMENTO\"\"\"\n",
    "result_query_departamentos=ps.sqldf(query_departamentos,locals())\n",
    "print(ps.sqldf(query_departamentos,locals()))"
   ]
  },
  {
   "cell_type": "code",
   "execution_count": 149,
   "metadata": {},
   "outputs": [
    {
     "output_type": "stream",
     "name": "stdout",
     "text": [
      "    FECHA_CORTE   DEPARTAMENTO  DOSIS2_M  DOSIS2_F\n0      20210509       AMAZONAS      2182      3226\n1      20210509         ANCASH      8475      9491\n2      20210509       APURIMAC      2727      4716\n3      20210509       AREQUIPA     15648     16729\n4      20210509       AYACUCHO      3531      5780\n5      20210509      CAJAMARCA      5341      9215\n6      20210509         CALLAO     39757     24833\n7      20210509          CUSCO      4716      9174\n8      20210509   HUANCAVELICA      2456      3706\n9      20210509        HUANUCO      3422      5904\n10     20210509            ICA      6644      9376\n11     20210509          JUNIN      6953     11967\n12     20210509    LA LIBERTAD     12478     15550\n13     20210509     LAMBAYEQUE      4976      8638\n14     20210509           LIMA    176275    179106\n15     20210509         LORETO      8131      7739\n16     20210509  MADRE DE DIOS       915      1464\n17     20210509       MOQUEGUA      1393      2800\n18     20210509          PASCO      1320      2278\n19     20210509          PIURA      7846     12029\n20     20210509           PUNO      3790      6585\n21     20210509     SAN MARTIN      5640      7930\n22     20210509          TACNA      3106      3493\n23     20210509         TUMBES      2694      1976\n24     20210509        UCAYALI      2384      3240\n"
     ]
    }
   ],
   "source": [
    "# Please write the full query on one line\n",
    "# ACUMULADO DEPARTAMENTOS POR SEXO\n",
    "query_departamentos_sexo=\"\"\"select FECHA_CORTE, DEPARTAMENTO, count (case when SEXO = 'MASCULINO' and DOSIS = 2 then 1 end) as DOSIS2_M, count (case when SEXO = 'FEMENINO' and DOSIS = 2 then 1 end) as DOSIS2_F from df group by DEPARTAMENTO\"\"\"\n",
    "result_query_departamentos_sexo=ps.sqldf(query_departamentos_sexo,locals())\n",
    "print(ps.sqldf(query_departamentos_sexo,locals()))"
   ]
  },
  {
   "cell_type": "code",
   "execution_count": 150,
   "metadata": {},
   "outputs": [
    {
     "output_type": "error",
     "ename": "TypeError",
     "evalue": "'NoneType' object does not support item assignment",
     "traceback": [
      "\u001b[0;31m---------------------------------------------------------------------------\u001b[0m",
      "\u001b[0;31mTypeError\u001b[0m                                 Traceback (most recent call last)",
      "\u001b[0;32m<ipython-input-150-26ef82bc3990>\u001b[0m in \u001b[0;36m<module>\u001b[0;34m\u001b[0m\n\u001b[1;32m      4\u001b[0m \u001b[0mpoblacion_por_grupo_etario\u001b[0m \u001b[0;34m=\u001b[0m \u001b[0;34m[\u001b[0m\u001b[0;36m700000\u001b[0m\u001b[0;34m,\u001b[0m\u001b[0;36m1300000\u001b[0m\u001b[0;34m,\u001b[0m\u001b[0;36m2300000\u001b[0m\u001b[0;34m,\u001b[0m\u001b[0;36m3300000\u001b[0m\u001b[0;34m,\u001b[0m\u001b[0;36m4400000\u001b[0m\u001b[0;34m,\u001b[0m\u001b[0;36m5300000\u001b[0m\u001b[0;34m,\u001b[0m\u001b[0;36m5700000\u001b[0m\u001b[0;34m,\u001b[0m\u001b[0;36m900000\u001b[0m\u001b[0;34m]\u001b[0m\u001b[0;34m\u001b[0m\u001b[0;34m\u001b[0m\u001b[0m\n\u001b[1;32m      5\u001b[0m \u001b[0mresult_df_edades\u001b[0m \u001b[0;34m=\u001b[0m \u001b[0mdf\u001b[0m\u001b[0;34m.\u001b[0m\u001b[0mdrop\u001b[0m\u001b[0;34m(\u001b[0m\u001b[0;34m[\u001b[0m\u001b[0;34m'SEXO'\u001b[0m\u001b[0;34m,\u001b[0m \u001b[0;34m'FECHA_VACUNACION'\u001b[0m\u001b[0;34m,\u001b[0m \u001b[0;34m'DEPARTAMENTO'\u001b[0m\u001b[0;34m]\u001b[0m\u001b[0;34m,\u001b[0m \u001b[0maxis\u001b[0m\u001b[0;34m=\u001b[0m\u001b[0;36m1\u001b[0m\u001b[0;34m,\u001b[0m \u001b[0minplace\u001b[0m\u001b[0;34m=\u001b[0m\u001b[0;32mTrue\u001b[0m\u001b[0;34m)\u001b[0m\u001b[0;34m\u001b[0m\u001b[0;34m\u001b[0m\u001b[0m\n\u001b[0;32m----> 6\u001b[0;31m \u001b[0mresult_df_edades\u001b[0m\u001b[0;34m[\u001b[0m\u001b[0;34m'GRUPO_ETARIO'\u001b[0m\u001b[0;34m]\u001b[0m \u001b[0;34m=\u001b[0m \u001b[0mpd\u001b[0m\u001b[0;34m.\u001b[0m\u001b[0mcut\u001b[0m\u001b[0;34m(\u001b[0m\u001b[0mdf\u001b[0m\u001b[0;34m[\u001b[0m\u001b[0;34m'EDAD'\u001b[0m\u001b[0;34m]\u001b[0m\u001b[0;34m,\u001b[0m \u001b[0mbins\u001b[0m\u001b[0;34m=\u001b[0m\u001b[0mbins\u001b[0m\u001b[0;34m,\u001b[0m \u001b[0mlabels\u001b[0m\u001b[0;34m=\u001b[0m\u001b[0mlabels\u001b[0m\u001b[0;34m,\u001b[0m \u001b[0mright\u001b[0m\u001b[0;34m=\u001b[0m\u001b[0;32mFalse\u001b[0m\u001b[0;34m)\u001b[0m\u001b[0;34m\u001b[0m\u001b[0;34m\u001b[0m\u001b[0m\n\u001b[0m\u001b[1;32m      7\u001b[0m \u001b[0mresult_query_edades\u001b[0m \u001b[0;34m=\u001b[0m \u001b[0mresult_df_edades\u001b[0m\u001b[0;34m[\u001b[0m\u001b[0mresult_df_edades\u001b[0m\u001b[0;34m.\u001b[0m\u001b[0mDOSIS\u001b[0m \u001b[0;34m==\u001b[0m \u001b[0;36m2\u001b[0m\u001b[0;34m]\u001b[0m\u001b[0;34m.\u001b[0m\u001b[0mgroupby\u001b[0m\u001b[0;34m(\u001b[0m\u001b[0;34m[\u001b[0m\u001b[0;34m'GRUPO_ETARIO'\u001b[0m\u001b[0;34m]\u001b[0m\u001b[0;34m)\u001b[0m\u001b[0;34m[\u001b[0m\u001b[0;34m\"DOSIS\"\u001b[0m\u001b[0;34m]\u001b[0m\u001b[0;34m.\u001b[0m\u001b[0mcount\u001b[0m\u001b[0;34m(\u001b[0m\u001b[0;34m)\u001b[0m\u001b[0;34m.\u001b[0m\u001b[0mreset_index\u001b[0m\u001b[0;34m(\u001b[0m\u001b[0;34m)\u001b[0m\u001b[0;34m\u001b[0m\u001b[0;34m\u001b[0m\u001b[0m\n\u001b[1;32m      8\u001b[0m \u001b[0mresult_query_edades\u001b[0m\u001b[0;34m[\u001b[0m\u001b[0;34m'POBLACION'\u001b[0m\u001b[0;34m]\u001b[0m\u001b[0;34m=\u001b[0m\u001b[0mpoblacion_por_grupo_etario\u001b[0m\u001b[0;34m\u001b[0m\u001b[0;34m\u001b[0m\u001b[0m\n",
      "\u001b[0;31mTypeError\u001b[0m: 'NoneType' object does not support item assignment"
     ]
    }
   ],
   "source": [
    "# ACUMULADO POR GRUPO ETARIO\n",
    "bins = [18,20,30,40,50,60,70,80,df['EDAD'].max()+1]\n",
    "labels = ['18 a 19 años','20 a 29 años','30 a 39 años','40 a 49 años','50 a 59 años','60 a 69 años','70 a 79 años','80 años a más']\n",
    "poblacion_por_grupo_etario = [900000,5700000,5300000,4400000,3300000,2300000,1300000,700000] \n",
    "result_df_edades = df\n",
    "result_df_edades.drop(['SEXO', 'FECHA_VACUNACION', 'DEPARTAMENTO'], axis=1, inplace=True)\n",
    "result_df_edades['GRUPO_ETARIO'] = pd.cut(df['EDAD'], bins=bins, labels=labels, right=False)\n",
    "result_query_edades = result_df_edades[result_df_edades.DOSIS == 2].groupby(['GRUPO_ETARIO'])[\"DOSIS\"].count().reset_index()\n",
    "result_query_edades['POBLACION']=poblacion_por_grupo_etario\n",
    "result_query_edades['%']=round(result_query_edades['DOSIS']/result_query_edades['POBLACION']*100,2)\n",
    "df"
   ]
  },
  {
   "cell_type": "code",
   "execution_count": 69,
   "id": "textile-institution",
   "metadata": {},
   "outputs": [],
   "source": [
    "col_poblacion_m=[219801,\n",
    "594832,\n",
    "220370,\n",
    "735707,\n",
    "341951,\n",
    "727265,\n",
    "550046,\n",
    "686543,\n",
    "184121,\n",
    "384345,\n",
    "488836,\n",
    "678494,\n",
    "1000002,\n",
    "638228,\n",
    "5119560,\n",
    "531000,\n",
    "98215,\n",
    "102855,\n",
    "140252,\n",
    "1030975,\n",
    "611616,\n",
    "474458,\n",
    "188152,\n",
    "135675,\n",
    "307596]\n",
    "\n",
    "col_poblacion_f=[207005,\n",
    "585806,\n",
    "210366,\n",
    "761731,\n",
    "326262,\n",
    "726446,\n",
    "579808,\n",
    "670532,\n",
    "181196,\n",
    "375922,\n",
    "486346,\n",
    "682973,\n",
    "1016769,\n",
    "672557,\n",
    "5508910,\n",
    "496559,\n",
    "75596,\n",
    "89885,\n",
    "131652,\n",
    "1016979,\n",
    "626381,\n",
    "425190,\n",
    "182822,\n",
    "115846,\n",
    "281514]"
   ]
  },
  {
   "cell_type": "code",
   "execution_count": 70,
   "id": "checked-factor",
   "metadata": {},
   "outputs": [],
   "source": [
    "result_query_departamentos_sexo['POB_M']=col_poblacion_m\n",
    "result_query_departamentos_sexo['POB_F']=col_poblacion_f\n",
    "result_query_departamentos['POBLACION']=result_query_departamentos_sexo['POB_M'] + result_query_departamentos_sexo['POB_F']"
   ]
  },
  {
   "cell_type": "code",
   "execution_count": 71,
   "id": "conservative-merit",
   "metadata": {},
   "outputs": [],
   "source": [
    "result_query_departamentos['INDICE']=round(result_query_departamentos['DOSIS2']/(result_query_departamentos['POBLACION']/100000)).astype('int')\n",
    "a = result_query_departamentos_sexo['POB_M']/result_query_departamentos_sexo['POB_F']\n",
    "result_query_departamentos_sexo['INDICE_M']=round(result_query_departamentos_sexo['DOSIS2_M']/(result_query_departamentos_sexo['POB_M']/(a*100000/(a+1)))).astype('int')\n",
    "result_query_departamentos_sexo['INDICE_F']=round(result_query_departamentos_sexo['DOSIS2_F']/(result_query_departamentos_sexo['POB_F']/(100000/(a+1)))).astype('int')"
   ]
  },
  {
   "cell_type": "code",
   "execution_count": 72,
   "id": "genuine-sellers",
   "metadata": {},
   "outputs": [
    {
     "output_type": "execute_result",
     "data": {
      "text/plain": [
       "    FECHA_CORTE   DEPARTAMENTO  DOSIS1  DOSIS2  POBLACION  INDICE\n",
       "0      20210509       AMAZONAS   17836    5408     426806    1267\n",
       "1      20210509         ANCASH   31651   17966    1180638    1522\n",
       "2      20210509       APURIMAC   32575    7443     430736    1728\n",
       "3      20210509       AREQUIPA   49573   32377    1497438    2162\n",
       "4      20210509       AYACUCHO   38371    9311     668213    1393\n",
       "5      20210509      CAJAMARCA   24896   14556    1453711    1001\n",
       "6      20210509         CALLAO  102207   64590    1129854    5717\n",
       "7      20210509          CUSCO   24862   13890    1357075    1024\n",
       "8      20210509   HUANCAVELICA   27343    6162     365317    1687\n",
       "9      20210509        HUANUCO   30995    9326     760267    1227\n",
       "10     20210509            ICA   32515   16020     975182    1643\n",
       "11     20210509          JUNIN   32252   18920    1361467    1390\n",
       "12     20210509    LA LIBERTAD   56809   28028    2016771    1390\n",
       "13     20210509     LAMBAYEQUE   31428   13614    1310785    1039\n",
       "14     20210509           LIMA  677985  355381   10628470    3344\n",
       "15     20210509         LORETO   26803   15870    1027559    1544\n",
       "16     20210509  MADRE DE DIOS    5359    2379     173811    1369\n",
       "17     20210509       MOQUEGUA    6425    4193     192740    2175\n",
       "18     20210509          PASCO   12009    3598     271904    1323\n",
       "19     20210509          PIURA   41847   19875    2047954     970\n",
       "20     20210509           PUNO   20134   10375    1237997     838\n",
       "21     20210509     SAN MARTIN   20267   13570     899648    1508\n",
       "22     20210509          TACNA   12789    6599     370974    1779\n",
       "23     20210509         TUMBES   13741    4670     251521    1857\n",
       "24     20210509        UCAYALI   17046    5624     589110     955"
      ],
      "text/html": "<div>\n<style scoped>\n    .dataframe tbody tr th:only-of-type {\n        vertical-align: middle;\n    }\n\n    .dataframe tbody tr th {\n        vertical-align: top;\n    }\n\n    .dataframe thead th {\n        text-align: right;\n    }\n</style>\n<table border=\"1\" class=\"dataframe\">\n  <thead>\n    <tr style=\"text-align: right;\">\n      <th></th>\n      <th>FECHA_CORTE</th>\n      <th>DEPARTAMENTO</th>\n      <th>DOSIS1</th>\n      <th>DOSIS2</th>\n      <th>POBLACION</th>\n      <th>INDICE</th>\n    </tr>\n  </thead>\n  <tbody>\n    <tr>\n      <th>0</th>\n      <td>20210509</td>\n      <td>AMAZONAS</td>\n      <td>17836</td>\n      <td>5408</td>\n      <td>426806</td>\n      <td>1267</td>\n    </tr>\n    <tr>\n      <th>1</th>\n      <td>20210509</td>\n      <td>ANCASH</td>\n      <td>31651</td>\n      <td>17966</td>\n      <td>1180638</td>\n      <td>1522</td>\n    </tr>\n    <tr>\n      <th>2</th>\n      <td>20210509</td>\n      <td>APURIMAC</td>\n      <td>32575</td>\n      <td>7443</td>\n      <td>430736</td>\n      <td>1728</td>\n    </tr>\n    <tr>\n      <th>3</th>\n      <td>20210509</td>\n      <td>AREQUIPA</td>\n      <td>49573</td>\n      <td>32377</td>\n      <td>1497438</td>\n      <td>2162</td>\n    </tr>\n    <tr>\n      <th>4</th>\n      <td>20210509</td>\n      <td>AYACUCHO</td>\n      <td>38371</td>\n      <td>9311</td>\n      <td>668213</td>\n      <td>1393</td>\n    </tr>\n    <tr>\n      <th>5</th>\n      <td>20210509</td>\n      <td>CAJAMARCA</td>\n      <td>24896</td>\n      <td>14556</td>\n      <td>1453711</td>\n      <td>1001</td>\n    </tr>\n    <tr>\n      <th>6</th>\n      <td>20210509</td>\n      <td>CALLAO</td>\n      <td>102207</td>\n      <td>64590</td>\n      <td>1129854</td>\n      <td>5717</td>\n    </tr>\n    <tr>\n      <th>7</th>\n      <td>20210509</td>\n      <td>CUSCO</td>\n      <td>24862</td>\n      <td>13890</td>\n      <td>1357075</td>\n      <td>1024</td>\n    </tr>\n    <tr>\n      <th>8</th>\n      <td>20210509</td>\n      <td>HUANCAVELICA</td>\n      <td>27343</td>\n      <td>6162</td>\n      <td>365317</td>\n      <td>1687</td>\n    </tr>\n    <tr>\n      <th>9</th>\n      <td>20210509</td>\n      <td>HUANUCO</td>\n      <td>30995</td>\n      <td>9326</td>\n      <td>760267</td>\n      <td>1227</td>\n    </tr>\n    <tr>\n      <th>10</th>\n      <td>20210509</td>\n      <td>ICA</td>\n      <td>32515</td>\n      <td>16020</td>\n      <td>975182</td>\n      <td>1643</td>\n    </tr>\n    <tr>\n      <th>11</th>\n      <td>20210509</td>\n      <td>JUNIN</td>\n      <td>32252</td>\n      <td>18920</td>\n      <td>1361467</td>\n      <td>1390</td>\n    </tr>\n    <tr>\n      <th>12</th>\n      <td>20210509</td>\n      <td>LA LIBERTAD</td>\n      <td>56809</td>\n      <td>28028</td>\n      <td>2016771</td>\n      <td>1390</td>\n    </tr>\n    <tr>\n      <th>13</th>\n      <td>20210509</td>\n      <td>LAMBAYEQUE</td>\n      <td>31428</td>\n      <td>13614</td>\n      <td>1310785</td>\n      <td>1039</td>\n    </tr>\n    <tr>\n      <th>14</th>\n      <td>20210509</td>\n      <td>LIMA</td>\n      <td>677985</td>\n      <td>355381</td>\n      <td>10628470</td>\n      <td>3344</td>\n    </tr>\n    <tr>\n      <th>15</th>\n      <td>20210509</td>\n      <td>LORETO</td>\n      <td>26803</td>\n      <td>15870</td>\n      <td>1027559</td>\n      <td>1544</td>\n    </tr>\n    <tr>\n      <th>16</th>\n      <td>20210509</td>\n      <td>MADRE DE DIOS</td>\n      <td>5359</td>\n      <td>2379</td>\n      <td>173811</td>\n      <td>1369</td>\n    </tr>\n    <tr>\n      <th>17</th>\n      <td>20210509</td>\n      <td>MOQUEGUA</td>\n      <td>6425</td>\n      <td>4193</td>\n      <td>192740</td>\n      <td>2175</td>\n    </tr>\n    <tr>\n      <th>18</th>\n      <td>20210509</td>\n      <td>PASCO</td>\n      <td>12009</td>\n      <td>3598</td>\n      <td>271904</td>\n      <td>1323</td>\n    </tr>\n    <tr>\n      <th>19</th>\n      <td>20210509</td>\n      <td>PIURA</td>\n      <td>41847</td>\n      <td>19875</td>\n      <td>2047954</td>\n      <td>970</td>\n    </tr>\n    <tr>\n      <th>20</th>\n      <td>20210509</td>\n      <td>PUNO</td>\n      <td>20134</td>\n      <td>10375</td>\n      <td>1237997</td>\n      <td>838</td>\n    </tr>\n    <tr>\n      <th>21</th>\n      <td>20210509</td>\n      <td>SAN MARTIN</td>\n      <td>20267</td>\n      <td>13570</td>\n      <td>899648</td>\n      <td>1508</td>\n    </tr>\n    <tr>\n      <th>22</th>\n      <td>20210509</td>\n      <td>TACNA</td>\n      <td>12789</td>\n      <td>6599</td>\n      <td>370974</td>\n      <td>1779</td>\n    </tr>\n    <tr>\n      <th>23</th>\n      <td>20210509</td>\n      <td>TUMBES</td>\n      <td>13741</td>\n      <td>4670</td>\n      <td>251521</td>\n      <td>1857</td>\n    </tr>\n    <tr>\n      <th>24</th>\n      <td>20210509</td>\n      <td>UCAYALI</td>\n      <td>17046</td>\n      <td>5624</td>\n      <td>589110</td>\n      <td>955</td>\n    </tr>\n  </tbody>\n</table>\n</div>"
     },
     "metadata": {},
     "execution_count": 72
    }
   ],
   "source": [
    "result_query_departamentos"
   ]
  },
  {
   "cell_type": "code",
   "execution_count": 73,
   "metadata": {},
   "outputs": [
    {
     "output_type": "execute_result",
     "data": {
      "text/plain": [
       "    FECHA_CORTE   DEPARTAMENTO  DOSIS2_M  DOSIS2_F    POB_M    POB_F  \\\n",
       "0      20210509       AMAZONAS      2182      3226   219801   207005   \n",
       "1      20210509         ANCASH      8475      9491   594832   585806   \n",
       "2      20210509       APURIMAC      2727      4716   220370   210366   \n",
       "3      20210509       AREQUIPA     15648     16729   735707   761731   \n",
       "4      20210509       AYACUCHO      3531      5780   341951   326262   \n",
       "5      20210509      CAJAMARCA      5341      9215   727265   726446   \n",
       "6      20210509         CALLAO     39757     24833   550046   579808   \n",
       "7      20210509          CUSCO      4716      9174   686543   670532   \n",
       "8      20210509   HUANCAVELICA      2456      3706   184121   181196   \n",
       "9      20210509        HUANUCO      3422      5904   384345   375922   \n",
       "10     20210509            ICA      6644      9376   488836   486346   \n",
       "11     20210509          JUNIN      6953     11967   678494   682973   \n",
       "12     20210509    LA LIBERTAD     12478     15550  1000002  1016769   \n",
       "13     20210509     LAMBAYEQUE      4976      8638   638228   672557   \n",
       "14     20210509           LIMA    176275    179106  5119560  5508910   \n",
       "15     20210509         LORETO      8131      7739   531000   496559   \n",
       "16     20210509  MADRE DE DIOS       915      1464    98215    75596   \n",
       "17     20210509       MOQUEGUA      1393      2800   102855    89885   \n",
       "18     20210509          PASCO      1320      2278   140252   131652   \n",
       "19     20210509          PIURA      7846     12029  1030975  1016979   \n",
       "20     20210509           PUNO      3790      6585   611616   626381   \n",
       "21     20210509     SAN MARTIN      5640      7930   474458   425190   \n",
       "22     20210509          TACNA      3106      3493   188152   182822   \n",
       "23     20210509         TUMBES      2694      1976   135675   115846   \n",
       "24     20210509        UCAYALI      2384      3240   307596   281514   \n",
       "\n",
       "    INDICE_M  INDICE_F  \n",
       "0        511       756  \n",
       "1        718       804  \n",
       "2        633      1095  \n",
       "3       1045      1117  \n",
       "4        528       865  \n",
       "5        367       634  \n",
       "6       3519      2198  \n",
       "7        348       676  \n",
       "8        672      1014  \n",
       "9        450       777  \n",
       "10       681       961  \n",
       "11       511       879  \n",
       "12       619       771  \n",
       "13       380       659  \n",
       "14      1659      1685  \n",
       "15       791       753  \n",
       "16       526       842  \n",
       "17       723      1453  \n",
       "18       485       838  \n",
       "19       383       587  \n",
       "20       306       532  \n",
       "21       627       881  \n",
       "22       837       942  \n",
       "23      1071       786  \n",
       "24       405       550  "
      ],
      "text/html": "<div>\n<style scoped>\n    .dataframe tbody tr th:only-of-type {\n        vertical-align: middle;\n    }\n\n    .dataframe tbody tr th {\n        vertical-align: top;\n    }\n\n    .dataframe thead th {\n        text-align: right;\n    }\n</style>\n<table border=\"1\" class=\"dataframe\">\n  <thead>\n    <tr style=\"text-align: right;\">\n      <th></th>\n      <th>FECHA_CORTE</th>\n      <th>DEPARTAMENTO</th>\n      <th>DOSIS2_M</th>\n      <th>DOSIS2_F</th>\n      <th>POB_M</th>\n      <th>POB_F</th>\n      <th>INDICE_M</th>\n      <th>INDICE_F</th>\n    </tr>\n  </thead>\n  <tbody>\n    <tr>\n      <th>0</th>\n      <td>20210509</td>\n      <td>AMAZONAS</td>\n      <td>2182</td>\n      <td>3226</td>\n      <td>219801</td>\n      <td>207005</td>\n      <td>511</td>\n      <td>756</td>\n    </tr>\n    <tr>\n      <th>1</th>\n      <td>20210509</td>\n      <td>ANCASH</td>\n      <td>8475</td>\n      <td>9491</td>\n      <td>594832</td>\n      <td>585806</td>\n      <td>718</td>\n      <td>804</td>\n    </tr>\n    <tr>\n      <th>2</th>\n      <td>20210509</td>\n      <td>APURIMAC</td>\n      <td>2727</td>\n      <td>4716</td>\n      <td>220370</td>\n      <td>210366</td>\n      <td>633</td>\n      <td>1095</td>\n    </tr>\n    <tr>\n      <th>3</th>\n      <td>20210509</td>\n      <td>AREQUIPA</td>\n      <td>15648</td>\n      <td>16729</td>\n      <td>735707</td>\n      <td>761731</td>\n      <td>1045</td>\n      <td>1117</td>\n    </tr>\n    <tr>\n      <th>4</th>\n      <td>20210509</td>\n      <td>AYACUCHO</td>\n      <td>3531</td>\n      <td>5780</td>\n      <td>341951</td>\n      <td>326262</td>\n      <td>528</td>\n      <td>865</td>\n    </tr>\n    <tr>\n      <th>5</th>\n      <td>20210509</td>\n      <td>CAJAMARCA</td>\n      <td>5341</td>\n      <td>9215</td>\n      <td>727265</td>\n      <td>726446</td>\n      <td>367</td>\n      <td>634</td>\n    </tr>\n    <tr>\n      <th>6</th>\n      <td>20210509</td>\n      <td>CALLAO</td>\n      <td>39757</td>\n      <td>24833</td>\n      <td>550046</td>\n      <td>579808</td>\n      <td>3519</td>\n      <td>2198</td>\n    </tr>\n    <tr>\n      <th>7</th>\n      <td>20210509</td>\n      <td>CUSCO</td>\n      <td>4716</td>\n      <td>9174</td>\n      <td>686543</td>\n      <td>670532</td>\n      <td>348</td>\n      <td>676</td>\n    </tr>\n    <tr>\n      <th>8</th>\n      <td>20210509</td>\n      <td>HUANCAVELICA</td>\n      <td>2456</td>\n      <td>3706</td>\n      <td>184121</td>\n      <td>181196</td>\n      <td>672</td>\n      <td>1014</td>\n    </tr>\n    <tr>\n      <th>9</th>\n      <td>20210509</td>\n      <td>HUANUCO</td>\n      <td>3422</td>\n      <td>5904</td>\n      <td>384345</td>\n      <td>375922</td>\n      <td>450</td>\n      <td>777</td>\n    </tr>\n    <tr>\n      <th>10</th>\n      <td>20210509</td>\n      <td>ICA</td>\n      <td>6644</td>\n      <td>9376</td>\n      <td>488836</td>\n      <td>486346</td>\n      <td>681</td>\n      <td>961</td>\n    </tr>\n    <tr>\n      <th>11</th>\n      <td>20210509</td>\n      <td>JUNIN</td>\n      <td>6953</td>\n      <td>11967</td>\n      <td>678494</td>\n      <td>682973</td>\n      <td>511</td>\n      <td>879</td>\n    </tr>\n    <tr>\n      <th>12</th>\n      <td>20210509</td>\n      <td>LA LIBERTAD</td>\n      <td>12478</td>\n      <td>15550</td>\n      <td>1000002</td>\n      <td>1016769</td>\n      <td>619</td>\n      <td>771</td>\n    </tr>\n    <tr>\n      <th>13</th>\n      <td>20210509</td>\n      <td>LAMBAYEQUE</td>\n      <td>4976</td>\n      <td>8638</td>\n      <td>638228</td>\n      <td>672557</td>\n      <td>380</td>\n      <td>659</td>\n    </tr>\n    <tr>\n      <th>14</th>\n      <td>20210509</td>\n      <td>LIMA</td>\n      <td>176275</td>\n      <td>179106</td>\n      <td>5119560</td>\n      <td>5508910</td>\n      <td>1659</td>\n      <td>1685</td>\n    </tr>\n    <tr>\n      <th>15</th>\n      <td>20210509</td>\n      <td>LORETO</td>\n      <td>8131</td>\n      <td>7739</td>\n      <td>531000</td>\n      <td>496559</td>\n      <td>791</td>\n      <td>753</td>\n    </tr>\n    <tr>\n      <th>16</th>\n      <td>20210509</td>\n      <td>MADRE DE DIOS</td>\n      <td>915</td>\n      <td>1464</td>\n      <td>98215</td>\n      <td>75596</td>\n      <td>526</td>\n      <td>842</td>\n    </tr>\n    <tr>\n      <th>17</th>\n      <td>20210509</td>\n      <td>MOQUEGUA</td>\n      <td>1393</td>\n      <td>2800</td>\n      <td>102855</td>\n      <td>89885</td>\n      <td>723</td>\n      <td>1453</td>\n    </tr>\n    <tr>\n      <th>18</th>\n      <td>20210509</td>\n      <td>PASCO</td>\n      <td>1320</td>\n      <td>2278</td>\n      <td>140252</td>\n      <td>131652</td>\n      <td>485</td>\n      <td>838</td>\n    </tr>\n    <tr>\n      <th>19</th>\n      <td>20210509</td>\n      <td>PIURA</td>\n      <td>7846</td>\n      <td>12029</td>\n      <td>1030975</td>\n      <td>1016979</td>\n      <td>383</td>\n      <td>587</td>\n    </tr>\n    <tr>\n      <th>20</th>\n      <td>20210509</td>\n      <td>PUNO</td>\n      <td>3790</td>\n      <td>6585</td>\n      <td>611616</td>\n      <td>626381</td>\n      <td>306</td>\n      <td>532</td>\n    </tr>\n    <tr>\n      <th>21</th>\n      <td>20210509</td>\n      <td>SAN MARTIN</td>\n      <td>5640</td>\n      <td>7930</td>\n      <td>474458</td>\n      <td>425190</td>\n      <td>627</td>\n      <td>881</td>\n    </tr>\n    <tr>\n      <th>22</th>\n      <td>20210509</td>\n      <td>TACNA</td>\n      <td>3106</td>\n      <td>3493</td>\n      <td>188152</td>\n      <td>182822</td>\n      <td>837</td>\n      <td>942</td>\n    </tr>\n    <tr>\n      <th>23</th>\n      <td>20210509</td>\n      <td>TUMBES</td>\n      <td>2694</td>\n      <td>1976</td>\n      <td>135675</td>\n      <td>115846</td>\n      <td>1071</td>\n      <td>786</td>\n    </tr>\n    <tr>\n      <th>24</th>\n      <td>20210509</td>\n      <td>UCAYALI</td>\n      <td>2384</td>\n      <td>3240</td>\n      <td>307596</td>\n      <td>281514</td>\n      <td>405</td>\n      <td>550</td>\n    </tr>\n  </tbody>\n</table>\n</div>"
     },
     "metadata": {},
     "execution_count": 73
    }
   ],
   "source": [
    "result_query_departamentos_sexo"
   ]
  },
  {
   "cell_type": "code",
   "execution_count": 74,
   "id": "first-formation",
   "metadata": {
    "pycharm": {
     "name": "#%%\n"
    }
   },
   "outputs": [
    {
     "output_type": "error",
     "ename": "FileNotFoundError",
     "evalue": "[Errno 2] No such file or directory: 'resultados/dosis1y2.csv'",
     "traceback": [
      "\u001b[0;31m---------------------------------------------------------------------------\u001b[0m",
      "\u001b[0;31mFileNotFoundError\u001b[0m                         Traceback (most recent call last)",
      "\u001b[0;32m<ipython-input-74-c65ec193bf2e>\u001b[0m in \u001b[0;36m<module>\u001b[0;34m\u001b[0m\n\u001b[0;32m----> 1\u001b[0;31m \u001b[0mresult_query_dosis\u001b[0m\u001b[0;34m.\u001b[0m\u001b[0mto_csv\u001b[0m\u001b[0;34m(\u001b[0m\u001b[0;34m'resultados/dosis1y2.csv'\u001b[0m\u001b[0;34m)\u001b[0m\u001b[0;34m\u001b[0m\u001b[0;34m\u001b[0m\u001b[0m\n\u001b[0m\u001b[1;32m      2\u001b[0m \u001b[0mresult_query_acumulados\u001b[0m\u001b[0;34m.\u001b[0m\u001b[0mto_csv\u001b[0m\u001b[0;34m(\u001b[0m\u001b[0;34m'resultados/acumulados1y2.csv'\u001b[0m\u001b[0;34m)\u001b[0m\u001b[0;34m\u001b[0m\u001b[0;34m\u001b[0m\u001b[0m\n\u001b[1;32m      3\u001b[0m \u001b[0mresult_query_departamentos\u001b[0m\u001b[0;34m.\u001b[0m\u001b[0mto_csv\u001b[0m\u001b[0;34m(\u001b[0m\u001b[0;34m'resultados/departamentos.csv'\u001b[0m\u001b[0;34m)\u001b[0m\u001b[0;34m\u001b[0m\u001b[0;34m\u001b[0m\u001b[0m\n\u001b[1;32m      4\u001b[0m \u001b[0mresult_query_departamentos_sexo\u001b[0m\u001b[0;34m.\u001b[0m\u001b[0mto_csv\u001b[0m\u001b[0;34m(\u001b[0m\u001b[0;34m'resultados/departamentos_sexo.csv'\u001b[0m\u001b[0;34m)\u001b[0m\u001b[0;34m\u001b[0m\u001b[0;34m\u001b[0m\u001b[0m\n",
      "\u001b[0;32m~/.local/lib/python3.8/site-packages/pandas/core/generic.py\u001b[0m in \u001b[0;36mto_csv\u001b[0;34m(self, path_or_buf, sep, na_rep, float_format, columns, header, index, index_label, mode, encoding, compression, quoting, quotechar, line_terminator, chunksize, date_format, doublequote, escapechar, decimal, errors, storage_options)\u001b[0m\n\u001b[1;32m   3385\u001b[0m         )\n\u001b[1;32m   3386\u001b[0m \u001b[0;34m\u001b[0m\u001b[0m\n\u001b[0;32m-> 3387\u001b[0;31m         return DataFrameRenderer(formatter).to_csv(\n\u001b[0m\u001b[1;32m   3388\u001b[0m             \u001b[0mpath_or_buf\u001b[0m\u001b[0;34m,\u001b[0m\u001b[0;34m\u001b[0m\u001b[0;34m\u001b[0m\u001b[0m\n\u001b[1;32m   3389\u001b[0m             \u001b[0mline_terminator\u001b[0m\u001b[0;34m=\u001b[0m\u001b[0mline_terminator\u001b[0m\u001b[0;34m,\u001b[0m\u001b[0;34m\u001b[0m\u001b[0;34m\u001b[0m\u001b[0m\n",
      "\u001b[0;32m~/.local/lib/python3.8/site-packages/pandas/io/formats/format.py\u001b[0m in \u001b[0;36mto_csv\u001b[0;34m(self, path_or_buf, encoding, sep, columns, index_label, mode, compression, quoting, quotechar, line_terminator, chunksize, date_format, doublequote, escapechar, errors, storage_options)\u001b[0m\n\u001b[1;32m   1081\u001b[0m             \u001b[0mformatter\u001b[0m\u001b[0;34m=\u001b[0m\u001b[0mself\u001b[0m\u001b[0;34m.\u001b[0m\u001b[0mfmt\u001b[0m\u001b[0;34m,\u001b[0m\u001b[0;34m\u001b[0m\u001b[0;34m\u001b[0m\u001b[0m\n\u001b[1;32m   1082\u001b[0m         )\n\u001b[0;32m-> 1083\u001b[0;31m         \u001b[0mcsv_formatter\u001b[0m\u001b[0;34m.\u001b[0m\u001b[0msave\u001b[0m\u001b[0;34m(\u001b[0m\u001b[0;34m)\u001b[0m\u001b[0;34m\u001b[0m\u001b[0;34m\u001b[0m\u001b[0m\n\u001b[0m\u001b[1;32m   1084\u001b[0m \u001b[0;34m\u001b[0m\u001b[0m\n\u001b[1;32m   1085\u001b[0m         \u001b[0;32mif\u001b[0m \u001b[0mcreated_buffer\u001b[0m\u001b[0;34m:\u001b[0m\u001b[0;34m\u001b[0m\u001b[0;34m\u001b[0m\u001b[0m\n",
      "\u001b[0;32m~/.local/lib/python3.8/site-packages/pandas/io/formats/csvs.py\u001b[0m in \u001b[0;36msave\u001b[0;34m(self)\u001b[0m\n\u001b[1;32m    226\u001b[0m         \"\"\"\n\u001b[1;32m    227\u001b[0m         \u001b[0;31m# apply compression and byte/text conversion\u001b[0m\u001b[0;34m\u001b[0m\u001b[0;34m\u001b[0m\u001b[0;34m\u001b[0m\u001b[0m\n\u001b[0;32m--> 228\u001b[0;31m         with get_handle(\n\u001b[0m\u001b[1;32m    229\u001b[0m             \u001b[0mself\u001b[0m\u001b[0;34m.\u001b[0m\u001b[0mfilepath_or_buffer\u001b[0m\u001b[0;34m,\u001b[0m\u001b[0;34m\u001b[0m\u001b[0;34m\u001b[0m\u001b[0m\n\u001b[1;32m    230\u001b[0m             \u001b[0mself\u001b[0m\u001b[0;34m.\u001b[0m\u001b[0mmode\u001b[0m\u001b[0;34m,\u001b[0m\u001b[0;34m\u001b[0m\u001b[0;34m\u001b[0m\u001b[0m\n",
      "\u001b[0;32m~/.local/lib/python3.8/site-packages/pandas/io/common.py\u001b[0m in \u001b[0;36mget_handle\u001b[0;34m(path_or_buf, mode, encoding, compression, memory_map, is_text, errors, storage_options)\u001b[0m\n\u001b[1;32m    640\u001b[0m                 \u001b[0merrors\u001b[0m \u001b[0;34m=\u001b[0m \u001b[0;34m\"replace\"\u001b[0m\u001b[0;34m\u001b[0m\u001b[0;34m\u001b[0m\u001b[0m\n\u001b[1;32m    641\u001b[0m             \u001b[0;31m# Encoding\u001b[0m\u001b[0;34m\u001b[0m\u001b[0;34m\u001b[0m\u001b[0;34m\u001b[0m\u001b[0m\n\u001b[0;32m--> 642\u001b[0;31m             handle = open(\n\u001b[0m\u001b[1;32m    643\u001b[0m                 \u001b[0mhandle\u001b[0m\u001b[0;34m,\u001b[0m\u001b[0;34m\u001b[0m\u001b[0;34m\u001b[0m\u001b[0m\n\u001b[1;32m    644\u001b[0m                 \u001b[0mioargs\u001b[0m\u001b[0;34m.\u001b[0m\u001b[0mmode\u001b[0m\u001b[0;34m,\u001b[0m\u001b[0;34m\u001b[0m\u001b[0;34m\u001b[0m\u001b[0m\n",
      "\u001b[0;31mFileNotFoundError\u001b[0m: [Errno 2] No such file or directory: 'resultados/dosis1y2.csv'"
     ]
    }
   ],
   "source": [
    "result_query_dosis.to_csv('resultados/dosis1y2.csv')\n",
    "result_query_acumulados.to_csv('resultados/acumulados1y2.csv')\n",
    "result_query_departamentos.to_csv('resultados/departamentos.csv')\n",
    "result_query_departamentos_sexo.to_csv('resultados/departamentos_sexo.csv')\n",
    "result_query_edades.to_csv('resultados/dosis2_por_edades.csv')"
   ]
  },
  {
   "cell_type": "code",
   "execution_count": null,
   "metadata": {},
   "outputs": [],
   "source": []
  }
 ],
 "metadata": {
  "kernelspec": {
   "name": "python3",
   "display_name": "Python 3",
   "language": "python"
  },
  "language_info": {
   "codemirror_mode": {
    "name": "ipython",
    "version": 3
   },
   "file_extension": ".py",
   "mimetype": "text/x-python",
   "name": "python",
   "nbconvert_exporter": "python",
   "pygments_lexer": "ipython3",
   "version": "3.9.4"
  },
  "metadata": {
   "interpreter": {
    "hash": "0adcc2737ebf6a4a119f135174df96668767fca1ef1112612db5ecadf2b6d608"
   }
  }
 },
 "nbformat": 4,
 "nbformat_minor": 5
}