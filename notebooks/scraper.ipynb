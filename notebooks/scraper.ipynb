{
 "cells": [
  {
   "cell_type": "code",
   "execution_count": 22,
   "id": "permanent-gauge",
   "metadata": {
    "tags": []
   },
   "outputs": [
    {
     "output_type": "execute_result",
     "data": {
      "text/plain": [
       "fecha_corte    20210509\n",
       "Name: FECHA_CORTE, dtype: int64"
      ]
     },
     "metadata": {},
     "execution_count": 22
    }
   ],
   "source": [
    "import pandas as pd\n",
    "#df=pd.read_csv('https://cloud.minsa.gob.pe/s/ZgXoXqK2KLjRLxD/download', usecols=['FECHA_CORTE', 'EDAD', 'SEXO', 'FECHA_VACUNACION', 'DOSIS', 'DEPARTAMENTO', 'FABRICANTE'],parse_dates=['FECHA_VACUNACION'])\n",
    "df=pd.read_csv('vacunas_covid.csv', usecols=['FECHA_CORTE', 'EDAD', 'SEXO', 'FECHA_VACUNACION', 'DOSIS', 'DEPARTAMENTO', 'FABRICANTE'], parse_dates=['FECHA_VACUNACION'])\n",
    "fecha_corte=df['FECHA_CORTE'].drop_duplicates().set_axis(['fecha_corte'])\n",
    "#fecha_corte.to_json(\"../resultados/fecha_corte.json\")"
   ]
  },
  {
   "cell_type": "code",
   "execution_count": 2,
   "metadata": {},
   "outputs": [
    {
     "output_type": "execute_result",
     "data": {
      "text/plain": [
       "                  DOSIS1  DOSIS2\n",
       "FECHA_VACUNACION                \n",
       "2021-02-09          3842       0\n",
       "2021-02-10         16595       0\n",
       "2021-02-11         33848       0\n",
       "2021-02-12         32341       0\n",
       "2021-02-13         18899       0\n",
       "...                  ...     ...\n",
       "2021-05-05         17678    3609\n",
       "2021-05-06         31650    1539\n",
       "2021-05-07         24364    9778\n",
       "2021-05-08         39399   12640\n",
       "2021-05-09         13011   10805\n",
       "\n",
       "[90 rows x 2 columns]"
      ],
      "text/html": "<div>\n<style scoped>\n    .dataframe tbody tr th:only-of-type {\n        vertical-align: middle;\n    }\n\n    .dataframe tbody tr th {\n        vertical-align: top;\n    }\n\n    .dataframe thead th {\n        text-align: right;\n    }\n</style>\n<table border=\"1\" class=\"dataframe\">\n  <thead>\n    <tr style=\"text-align: right;\">\n      <th></th>\n      <th>DOSIS1</th>\n      <th>DOSIS2</th>\n    </tr>\n    <tr>\n      <th>FECHA_VACUNACION</th>\n      <th></th>\n      <th></th>\n    </tr>\n  </thead>\n  <tbody>\n    <tr>\n      <th>2021-02-09</th>\n      <td>3842</td>\n      <td>0</td>\n    </tr>\n    <tr>\n      <th>2021-02-10</th>\n      <td>16595</td>\n      <td>0</td>\n    </tr>\n    <tr>\n      <th>2021-02-11</th>\n      <td>33848</td>\n      <td>0</td>\n    </tr>\n    <tr>\n      <th>2021-02-12</th>\n      <td>32341</td>\n      <td>0</td>\n    </tr>\n    <tr>\n      <th>2021-02-13</th>\n      <td>18899</td>\n      <td>0</td>\n    </tr>\n    <tr>\n      <th>...</th>\n      <td>...</td>\n      <td>...</td>\n    </tr>\n    <tr>\n      <th>2021-05-05</th>\n      <td>17678</td>\n      <td>3609</td>\n    </tr>\n    <tr>\n      <th>2021-05-06</th>\n      <td>31650</td>\n      <td>1539</td>\n    </tr>\n    <tr>\n      <th>2021-05-07</th>\n      <td>24364</td>\n      <td>9778</td>\n    </tr>\n    <tr>\n      <th>2021-05-08</th>\n      <td>39399</td>\n      <td>12640</td>\n    </tr>\n    <tr>\n      <th>2021-05-09</th>\n      <td>13011</td>\n      <td>10805</td>\n    </tr>\n  </tbody>\n</table>\n<p>90 rows × 2 columns</p>\n</div>"
     },
     "metadata": {},
     "execution_count": 2
    }
   ],
   "source": [
    "#DIARIO DOSIS 1 Y DOSIS 2\n",
    "df_ambas_dosis=df[['FECHA_VACUNACION','DOSIS','SEXO']].groupby(['FECHA_VACUNACION','DOSIS']).count()\n",
    "df_ambas_dosis=df_ambas_dosis.reset_index()\n",
    "df_ambas_dosis=df_ambas_dosis.pivot(index='FECHA_VACUNACION', columns='DOSIS', values='SEXO')\n",
    "df_ambas_dosis=df_ambas_dosis.rename_axis(None, axis=1)\n",
    "df_ambas_dosis.columns=['DOSIS1','DOSIS2']\n",
    "df_ambas_dosis=df_ambas_dosis.fillna(0).astype('int')\n",
    "df_ambas_dosis"
   ]
  },
  {
   "cell_type": "code",
   "execution_count": 3,
   "metadata": {},
   "outputs": [
    {
     "output_type": "execute_result",
     "data": {
      "text/plain": [
       "                   DOSIS1  DOSIS2\n",
       "FECHA_VACUNACION                 \n",
       "2021-02-09           3842       0\n",
       "2021-02-10          20437       0\n",
       "2021-02-11          54285       0\n",
       "2021-02-12          86626       0\n",
       "2021-02-13         105525       0\n",
       "...                   ...     ...\n",
       "2021-05-05        1279294  664983\n",
       "2021-05-06        1310944  666522\n",
       "2021-05-07        1335308  676300\n",
       "2021-05-08        1374707  688940\n",
       "2021-05-09        1387718  699745\n",
       "\n",
       "[90 rows x 2 columns]"
      ],
      "text/html": "<div>\n<style scoped>\n    .dataframe tbody tr th:only-of-type {\n        vertical-align: middle;\n    }\n\n    .dataframe tbody tr th {\n        vertical-align: top;\n    }\n\n    .dataframe thead th {\n        text-align: right;\n    }\n</style>\n<table border=\"1\" class=\"dataframe\">\n  <thead>\n    <tr style=\"text-align: right;\">\n      <th></th>\n      <th>DOSIS1</th>\n      <th>DOSIS2</th>\n    </tr>\n    <tr>\n      <th>FECHA_VACUNACION</th>\n      <th></th>\n      <th></th>\n    </tr>\n  </thead>\n  <tbody>\n    <tr>\n      <th>2021-02-09</th>\n      <td>3842</td>\n      <td>0</td>\n    </tr>\n    <tr>\n      <th>2021-02-10</th>\n      <td>20437</td>\n      <td>0</td>\n    </tr>\n    <tr>\n      <th>2021-02-11</th>\n      <td>54285</td>\n      <td>0</td>\n    </tr>\n    <tr>\n      <th>2021-02-12</th>\n      <td>86626</td>\n      <td>0</td>\n    </tr>\n    <tr>\n      <th>2021-02-13</th>\n      <td>105525</td>\n      <td>0</td>\n    </tr>\n    <tr>\n      <th>...</th>\n      <td>...</td>\n      <td>...</td>\n    </tr>\n    <tr>\n      <th>2021-05-05</th>\n      <td>1279294</td>\n      <td>664983</td>\n    </tr>\n    <tr>\n      <th>2021-05-06</th>\n      <td>1310944</td>\n      <td>666522</td>\n    </tr>\n    <tr>\n      <th>2021-05-07</th>\n      <td>1335308</td>\n      <td>676300</td>\n    </tr>\n    <tr>\n      <th>2021-05-08</th>\n      <td>1374707</td>\n      <td>688940</td>\n    </tr>\n    <tr>\n      <th>2021-05-09</th>\n      <td>1387718</td>\n      <td>699745</td>\n    </tr>\n  </tbody>\n</table>\n<p>90 rows × 2 columns</p>\n</div>"
     },
     "metadata": {},
     "execution_count": 3
    }
   ],
   "source": [
    "#ACUMULADO DOSIS 1 Y DOSIS 2\n",
    "df_ambas_dosis_cum=df_ambas_dosis.cumsum()\n",
    "df_ambas_dosis_cum"
   ]
  },
  {
   "cell_type": "code",
   "execution_count": 4,
   "id": "textile-institution",
   "metadata": {},
   "outputs": [],
   "source": [
    "col_poblacion=[426806,\n",
    "1180638,\n",
    "430736,\n",
    "1497438,\n",
    "668213,\n",
    "1453711,\n",
    "1129854,\n",
    "1357075,\n",
    "365317,\n",
    "760267,\n",
    "975182,\n",
    "1361467,\n",
    "2016771,\n",
    "1310785,\n",
    "10628470,\n",
    "1027559,\n",
    "173811,\n",
    "192740,\n",
    "271904,\n",
    "2047954,\n",
    "1237997,\n",
    "899648,\n",
    "370974,\n",
    "251521,\n",
    "589110]\n"
   ]
  },
  {
   "cell_type": "code",
   "execution_count": 5,
   "metadata": {},
   "outputs": [
    {
     "output_type": "execute_result",
     "data": {
      "text/plain": [
       "               DOSIS1  DOSIS2  POBLACION  INDICE\n",
       "DEPARTAMENTO                                    \n",
       "AMAZONAS        17836    5408     426806    1267\n",
       "ANCASH          31651   17966    1180638    1522\n",
       "APURIMAC        32575    7443     430736    1728\n",
       "AREQUIPA        49573   32377    1497438    2162\n",
       "AYACUCHO        38371    9311     668213    1393\n",
       "CAJAMARCA       24896   14556    1453711    1001\n",
       "CALLAO         102207   64590    1129854    5717\n",
       "CUSCO           24862   13890    1357075    1024\n",
       "HUANCAVELICA    27343    6162     365317    1687\n",
       "HUANUCO         30995    9326     760267    1227\n",
       "ICA             32515   16020     975182    1643\n",
       "JUNIN           32252   18920    1361467    1390\n",
       "LA LIBERTAD     56809   28028    2016771    1390\n",
       "LAMBAYEQUE      31428   13614    1310785    1039\n",
       "LIMA           677985  355381   10628470    3344\n",
       "LORETO          26803   15870    1027559    1544\n",
       "MADRE DE DIOS    5359    2379     173811    1369\n",
       "MOQUEGUA         6425    4193     192740    2175\n",
       "PASCO           12009    3598     271904    1323\n",
       "PIURA           41847   19875    2047954     970\n",
       "PUNO            20134   10375    1237997     838\n",
       "SAN MARTIN      20267   13570     899648    1508\n",
       "TACNA           12789    6599     370974    1779\n",
       "TUMBES          13741    4670     251521    1857\n",
       "UCAYALI         17046    5624     589110     955"
      ],
      "text/html": "<div>\n<style scoped>\n    .dataframe tbody tr th:only-of-type {\n        vertical-align: middle;\n    }\n\n    .dataframe tbody tr th {\n        vertical-align: top;\n    }\n\n    .dataframe thead th {\n        text-align: right;\n    }\n</style>\n<table border=\"1\" class=\"dataframe\">\n  <thead>\n    <tr style=\"text-align: right;\">\n      <th></th>\n      <th>DOSIS1</th>\n      <th>DOSIS2</th>\n      <th>POBLACION</th>\n      <th>INDICE</th>\n    </tr>\n    <tr>\n      <th>DEPARTAMENTO</th>\n      <th></th>\n      <th></th>\n      <th></th>\n      <th></th>\n    </tr>\n  </thead>\n  <tbody>\n    <tr>\n      <th>AMAZONAS</th>\n      <td>17836</td>\n      <td>5408</td>\n      <td>426806</td>\n      <td>1267</td>\n    </tr>\n    <tr>\n      <th>ANCASH</th>\n      <td>31651</td>\n      <td>17966</td>\n      <td>1180638</td>\n      <td>1522</td>\n    </tr>\n    <tr>\n      <th>APURIMAC</th>\n      <td>32575</td>\n      <td>7443</td>\n      <td>430736</td>\n      <td>1728</td>\n    </tr>\n    <tr>\n      <th>AREQUIPA</th>\n      <td>49573</td>\n      <td>32377</td>\n      <td>1497438</td>\n      <td>2162</td>\n    </tr>\n    <tr>\n      <th>AYACUCHO</th>\n      <td>38371</td>\n      <td>9311</td>\n      <td>668213</td>\n      <td>1393</td>\n    </tr>\n    <tr>\n      <th>CAJAMARCA</th>\n      <td>24896</td>\n      <td>14556</td>\n      <td>1453711</td>\n      <td>1001</td>\n    </tr>\n    <tr>\n      <th>CALLAO</th>\n      <td>102207</td>\n      <td>64590</td>\n      <td>1129854</td>\n      <td>5717</td>\n    </tr>\n    <tr>\n      <th>CUSCO</th>\n      <td>24862</td>\n      <td>13890</td>\n      <td>1357075</td>\n      <td>1024</td>\n    </tr>\n    <tr>\n      <th>HUANCAVELICA</th>\n      <td>27343</td>\n      <td>6162</td>\n      <td>365317</td>\n      <td>1687</td>\n    </tr>\n    <tr>\n      <th>HUANUCO</th>\n      <td>30995</td>\n      <td>9326</td>\n      <td>760267</td>\n      <td>1227</td>\n    </tr>\n    <tr>\n      <th>ICA</th>\n      <td>32515</td>\n      <td>16020</td>\n      <td>975182</td>\n      <td>1643</td>\n    </tr>\n    <tr>\n      <th>JUNIN</th>\n      <td>32252</td>\n      <td>18920</td>\n      <td>1361467</td>\n      <td>1390</td>\n    </tr>\n    <tr>\n      <th>LA LIBERTAD</th>\n      <td>56809</td>\n      <td>28028</td>\n      <td>2016771</td>\n      <td>1390</td>\n    </tr>\n    <tr>\n      <th>LAMBAYEQUE</th>\n      <td>31428</td>\n      <td>13614</td>\n      <td>1310785</td>\n      <td>1039</td>\n    </tr>\n    <tr>\n      <th>LIMA</th>\n      <td>677985</td>\n      <td>355381</td>\n      <td>10628470</td>\n      <td>3344</td>\n    </tr>\n    <tr>\n      <th>LORETO</th>\n      <td>26803</td>\n      <td>15870</td>\n      <td>1027559</td>\n      <td>1544</td>\n    </tr>\n    <tr>\n      <th>MADRE DE DIOS</th>\n      <td>5359</td>\n      <td>2379</td>\n      <td>173811</td>\n      <td>1369</td>\n    </tr>\n    <tr>\n      <th>MOQUEGUA</th>\n      <td>6425</td>\n      <td>4193</td>\n      <td>192740</td>\n      <td>2175</td>\n    </tr>\n    <tr>\n      <th>PASCO</th>\n      <td>12009</td>\n      <td>3598</td>\n      <td>271904</td>\n      <td>1323</td>\n    </tr>\n    <tr>\n      <th>PIURA</th>\n      <td>41847</td>\n      <td>19875</td>\n      <td>2047954</td>\n      <td>970</td>\n    </tr>\n    <tr>\n      <th>PUNO</th>\n      <td>20134</td>\n      <td>10375</td>\n      <td>1237997</td>\n      <td>838</td>\n    </tr>\n    <tr>\n      <th>SAN MARTIN</th>\n      <td>20267</td>\n      <td>13570</td>\n      <td>899648</td>\n      <td>1508</td>\n    </tr>\n    <tr>\n      <th>TACNA</th>\n      <td>12789</td>\n      <td>6599</td>\n      <td>370974</td>\n      <td>1779</td>\n    </tr>\n    <tr>\n      <th>TUMBES</th>\n      <td>13741</td>\n      <td>4670</td>\n      <td>251521</td>\n      <td>1857</td>\n    </tr>\n    <tr>\n      <th>UCAYALI</th>\n      <td>17046</td>\n      <td>5624</td>\n      <td>589110</td>\n      <td>955</td>\n    </tr>\n  </tbody>\n</table>\n</div>"
     },
     "metadata": {},
     "execution_count": 5
    }
   ],
   "source": [
    "# ACUMULADO POR DEPARTAMENTO (DOSIS 2 - VACUNACION COMPLETA)\n",
    "df_ambas_dosis_departamento=df[['DEPARTAMENTO','DOSIS','SEXO']].groupby(['DEPARTAMENTO', 'DOSIS']).count()\n",
    "df_ambas_dosis_departamento=df_ambas_dosis_departamento.reset_index()\n",
    "df_ambas_dosis_departamento=df_ambas_dosis_departamento.pivot(index='DEPARTAMENTO', columns='DOSIS', values='SEXO')\n",
    "df_ambas_dosis_departamento.columns=['DOSIS1','DOSIS2']\n",
    "df_ambas_dosis_departamento['POBLACION']=col_poblacion\n",
    "df_ambas_dosis_departamento['INDICE']=round(df_ambas_dosis_departamento['DOSIS2']/(df_ambas_dosis_departamento['POBLACION']/100000)).astype('int')\n",
    "df_ambas_dosis_departamento"
   ]
  },
  {
   "cell_type": "code",
   "execution_count": 6,
   "metadata": {},
   "outputs": [
    {
     "output_type": "execute_result",
     "data": {
      "text/plain": [
       "               DOSIS2  POBLACION  PORCENTAJE\n",
       "GRUPO_ETARIO                                \n",
       "18 a 19 años    10063     900000        1.12\n",
       "20 a 29 años   126416    5700000        2.22\n",
       "30 a 39 años   160768    5300000        3.03\n",
       "40 a 49 años   119122    4400000        2.71\n",
       "50 a 59 años    88114    3300000        2.67\n",
       "60 a 69 años    55009    2300000        2.39\n",
       "70 a 79 años    24225    1300000        1.86\n",
       "80 años a más   59186     700000        8.46"
      ],
      "text/html": "<div>\n<style scoped>\n    .dataframe tbody tr th:only-of-type {\n        vertical-align: middle;\n    }\n\n    .dataframe tbody tr th {\n        vertical-align: top;\n    }\n\n    .dataframe thead th {\n        text-align: right;\n    }\n</style>\n<table border=\"1\" class=\"dataframe\">\n  <thead>\n    <tr style=\"text-align: right;\">\n      <th></th>\n      <th>DOSIS2</th>\n      <th>POBLACION</th>\n      <th>PORCENTAJE</th>\n    </tr>\n    <tr>\n      <th>GRUPO_ETARIO</th>\n      <th></th>\n      <th></th>\n      <th></th>\n    </tr>\n  </thead>\n  <tbody>\n    <tr>\n      <th>18 a 19 años</th>\n      <td>10063</td>\n      <td>900000</td>\n      <td>1.12</td>\n    </tr>\n    <tr>\n      <th>20 a 29 años</th>\n      <td>126416</td>\n      <td>5700000</td>\n      <td>2.22</td>\n    </tr>\n    <tr>\n      <th>30 a 39 años</th>\n      <td>160768</td>\n      <td>5300000</td>\n      <td>3.03</td>\n    </tr>\n    <tr>\n      <th>40 a 49 años</th>\n      <td>119122</td>\n      <td>4400000</td>\n      <td>2.71</td>\n    </tr>\n    <tr>\n      <th>50 a 59 años</th>\n      <td>88114</td>\n      <td>3300000</td>\n      <td>2.67</td>\n    </tr>\n    <tr>\n      <th>60 a 69 años</th>\n      <td>55009</td>\n      <td>2300000</td>\n      <td>2.39</td>\n    </tr>\n    <tr>\n      <th>70 a 79 años</th>\n      <td>24225</td>\n      <td>1300000</td>\n      <td>1.86</td>\n    </tr>\n    <tr>\n      <th>80 años a más</th>\n      <td>59186</td>\n      <td>700000</td>\n      <td>8.46</td>\n    </tr>\n  </tbody>\n</table>\n</div>"
     },
     "metadata": {},
     "execution_count": 6
    }
   ],
   "source": [
    "# ACUMULADO POR GRUPO ETARIO (DOSIS 2 - VACUNACION COMPLETA)\n",
    "bins = [18,30,40,50,60,70,80,df['EDAD'].max()+1]\n",
    "labels = ['18 a 29 años','30 a 39 años','40 a 49 años','50 a 59 años','60 a 69 años','70 a 79 años','80 años a más']\n",
    "poblacion_por_grupo_etario = [6303670,5031117,4183174,3277134,2221241,1271842,647355] \n",
    "df_edades = df\n",
    "df_edades['GRUPO_ETARIO'] = pd.cut(df['EDAD'], bins=bins, labels=labels, right=False)\n",
    "df_edades = df_edades[df_edades.DOSIS == 2].groupby(['GRUPO_ETARIO'])[\"DOSIS\"].count().reset_index()\n",
    "df_edades.rename(columns = {'DOSIS':'DOSIS2'}, inplace = True)\n",
    "df_edades['POBLACION']=poblacion_por_grupo_etario\n",
    "df_edades['PORCENTAJE']=round(df_edades['DOSIS2']/df_edades['POBLACION']*100,2)\n",
    "df_edades=df_edades.set_index('GRUPO_ETARIO')\n",
    "df_edades"
   ]
  },
  {
   "cell_type": "code",
   "execution_count": 7,
   "metadata": {},
   "outputs": [
    {
     "output_type": "execute_result",
     "data": {
      "text/plain": [
       "                  ASTRAZENECA  PFIZER  SINOPHARM\n",
       "FECHA_VACUNACION                                \n",
       "2021-02-09                  0       0       3842\n",
       "2021-02-10                  0       0      16595\n",
       "2021-02-11                  0       0      33848\n",
       "2021-02-12                  0       0      32341\n",
       "2021-02-13                  0       0      18899\n",
       "...                       ...     ...        ...\n",
       "2021-05-05               8551   10216       2520\n",
       "2021-05-06               7852   24932        405\n",
       "2021-05-07               6770   26918        454\n",
       "2021-05-08               2983   49026         30\n",
       "2021-05-09                345   23471          0\n",
       "\n",
       "[90 rows x 3 columns]"
      ],
      "text/html": "<div>\n<style scoped>\n    .dataframe tbody tr th:only-of-type {\n        vertical-align: middle;\n    }\n\n    .dataframe tbody tr th {\n        vertical-align: top;\n    }\n\n    .dataframe thead th {\n        text-align: right;\n    }\n</style>\n<table border=\"1\" class=\"dataframe\">\n  <thead>\n    <tr style=\"text-align: right;\">\n      <th></th>\n      <th>ASTRAZENECA</th>\n      <th>PFIZER</th>\n      <th>SINOPHARM</th>\n    </tr>\n    <tr>\n      <th>FECHA_VACUNACION</th>\n      <th></th>\n      <th></th>\n      <th></th>\n    </tr>\n  </thead>\n  <tbody>\n    <tr>\n      <th>2021-02-09</th>\n      <td>0</td>\n      <td>0</td>\n      <td>3842</td>\n    </tr>\n    <tr>\n      <th>2021-02-10</th>\n      <td>0</td>\n      <td>0</td>\n      <td>16595</td>\n    </tr>\n    <tr>\n      <th>2021-02-11</th>\n      <td>0</td>\n      <td>0</td>\n      <td>33848</td>\n    </tr>\n    <tr>\n      <th>2021-02-12</th>\n      <td>0</td>\n      <td>0</td>\n      <td>32341</td>\n    </tr>\n    <tr>\n      <th>2021-02-13</th>\n      <td>0</td>\n      <td>0</td>\n      <td>18899</td>\n    </tr>\n    <tr>\n      <th>...</th>\n      <td>...</td>\n      <td>...</td>\n      <td>...</td>\n    </tr>\n    <tr>\n      <th>2021-05-05</th>\n      <td>8551</td>\n      <td>10216</td>\n      <td>2520</td>\n    </tr>\n    <tr>\n      <th>2021-05-06</th>\n      <td>7852</td>\n      <td>24932</td>\n      <td>405</td>\n    </tr>\n    <tr>\n      <th>2021-05-07</th>\n      <td>6770</td>\n      <td>26918</td>\n      <td>454</td>\n    </tr>\n    <tr>\n      <th>2021-05-08</th>\n      <td>2983</td>\n      <td>49026</td>\n      <td>30</td>\n    </tr>\n    <tr>\n      <th>2021-05-09</th>\n      <td>345</td>\n      <td>23471</td>\n      <td>0</td>\n    </tr>\n  </tbody>\n</table>\n<p>90 rows × 3 columns</p>\n</div>"
     },
     "metadata": {},
     "execution_count": 7
    }
   ],
   "source": [
    "#DIARIO POR FABRICANTE\n",
    "df_fabricante=df[['FECHA_VACUNACION','FABRICANTE','SEXO']].groupby(['FECHA_VACUNACION','FABRICANTE']).count()\n",
    "df_fabricante=df_fabricante.reset_index()\n",
    "df_fabricante=df_fabricante.pivot(index='FECHA_VACUNACION', columns='FABRICANTE', values='SEXO')\n",
    "df_fabricante=df_fabricante.rename_axis(None, axis=1)\n",
    "df_fabricante=df_fabricante.fillna(0).astype('int')\n",
    "df_fabricante"
   ]
  },
  {
   "cell_type": "code",
   "execution_count": 8,
   "metadata": {},
   "outputs": [
    {
     "output_type": "execute_result",
     "data": {
      "text/plain": [
       "                  ASTRAZENECA   PFIZER  SINOPHARM\n",
       "FECHA_VACUNACION                                 \n",
       "2021-02-09                  0        0       3842\n",
       "2021-02-10                  0        0      20437\n",
       "2021-02-11                  0        0      54285\n",
       "2021-02-12                  0        0      86626\n",
       "2021-02-13                  0        0     105525\n",
       "...                       ...      ...        ...\n",
       "2021-05-05             115246   933316     895715\n",
       "2021-05-06             123098   958248     896120\n",
       "2021-05-07             129868   985166     896574\n",
       "2021-05-08             132851  1034192     896604\n",
       "2021-05-09             133196  1057663     896604\n",
       "\n",
       "[90 rows x 3 columns]"
      ],
      "text/html": "<div>\n<style scoped>\n    .dataframe tbody tr th:only-of-type {\n        vertical-align: middle;\n    }\n\n    .dataframe tbody tr th {\n        vertical-align: top;\n    }\n\n    .dataframe thead th {\n        text-align: right;\n    }\n</style>\n<table border=\"1\" class=\"dataframe\">\n  <thead>\n    <tr style=\"text-align: right;\">\n      <th></th>\n      <th>ASTRAZENECA</th>\n      <th>PFIZER</th>\n      <th>SINOPHARM</th>\n    </tr>\n    <tr>\n      <th>FECHA_VACUNACION</th>\n      <th></th>\n      <th></th>\n      <th></th>\n    </tr>\n  </thead>\n  <tbody>\n    <tr>\n      <th>2021-02-09</th>\n      <td>0</td>\n      <td>0</td>\n      <td>3842</td>\n    </tr>\n    <tr>\n      <th>2021-02-10</th>\n      <td>0</td>\n      <td>0</td>\n      <td>20437</td>\n    </tr>\n    <tr>\n      <th>2021-02-11</th>\n      <td>0</td>\n      <td>0</td>\n      <td>54285</td>\n    </tr>\n    <tr>\n      <th>2021-02-12</th>\n      <td>0</td>\n      <td>0</td>\n      <td>86626</td>\n    </tr>\n    <tr>\n      <th>2021-02-13</th>\n      <td>0</td>\n      <td>0</td>\n      <td>105525</td>\n    </tr>\n    <tr>\n      <th>...</th>\n      <td>...</td>\n      <td>...</td>\n      <td>...</td>\n    </tr>\n    <tr>\n      <th>2021-05-05</th>\n      <td>115246</td>\n      <td>933316</td>\n      <td>895715</td>\n    </tr>\n    <tr>\n      <th>2021-05-06</th>\n      <td>123098</td>\n      <td>958248</td>\n      <td>896120</td>\n    </tr>\n    <tr>\n      <th>2021-05-07</th>\n      <td>129868</td>\n      <td>985166</td>\n      <td>896574</td>\n    </tr>\n    <tr>\n      <th>2021-05-08</th>\n      <td>132851</td>\n      <td>1034192</td>\n      <td>896604</td>\n    </tr>\n    <tr>\n      <th>2021-05-09</th>\n      <td>133196</td>\n      <td>1057663</td>\n      <td>896604</td>\n    </tr>\n  </tbody>\n</table>\n<p>90 rows × 3 columns</p>\n</div>"
     },
     "metadata": {},
     "execution_count": 8
    }
   ],
   "source": [
    "#ACUMULADO POR FABRICANTE\n",
    "df_fabricante_cum=df_fabricante.cumsum()\n",
    "df_fabricante_cum"
   ]
  },
  {
   "cell_type": "code",
   "execution_count": 30,
   "metadata": {},
   "outputs": [],
   "source": [
    "from requests_html import HTMLSession\n",
    "session = HTMLSession()\n",
    "r = session.get('https://www.gob.pe/pongoelhombro#contador-de-vacunados')\n",
    "scrap_contador_vacunados = r.html.find('.font-bold.text-3xl')\n",
    "d = []\n",
    "for number in scrap_contador_vacunados:\n",
    "    d.append(number.text)\n",
    "contador_vacunados = pd.Series(d,index=['total_dosis1', 'total_dosis2','ayer_dosis1','ayer_dosis2','total_dosis','ayer_total_dosis','vacunacion_completa'])\n",
    "#contador_vacunados.to_json('../resultados/pongo_el_hombro.json')"
   ]
  },
  {
   "cell_type": "code",
   "execution_count": null,
   "metadata": {},
   "outputs": [],
   "source": []
  }
 ],
 "metadata": {
  "kernelspec": {
   "name": "python3",
   "display_name": "Python 3.8.5 64-bit"
  },
  "language_info": {
   "codemirror_mode": {
    "name": "ipython",
    "version": 3
   },
   "file_extension": ".py",
   "mimetype": "text/x-python",
   "name": "python",
   "nbconvert_exporter": "python",
   "pygments_lexer": "ipython3",
   "version": "3.8.5"
  },
  "metadata": {
   "interpreter": {
    "hash": "0adcc2737ebf6a4a119f135174df96668767fca1ef1112612db5ecadf2b6d608"
   }
  },
  "interpreter": {
   "hash": "916dbcbb3f70747c44a77c7bcd40155683ae19c65e1c03b4aa3499c5328201f1"
  }
 },
 "nbformat": 4,
 "nbformat_minor": 5
}