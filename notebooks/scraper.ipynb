{
 "cells": [
  {
   "cell_type": "code",
   "execution_count": 1,
   "id": "permanent-gauge",
   "metadata": {
    "tags": []
   },
   "outputs": [],
   "source": [
    "import pandas as pd\n",
    "#df=pd.read_csv('https://cloud.minsa.gob.pe/s/ZgXoXqK2KLjRLxD/download', usecols=['FECHA_CORTE', 'EDAD', 'SEXO', 'FECHA_VACUNACION', 'DOSIS', 'DEPARTAMENTO'],parse_dates=['FECHA_CORTE', 'FECHA_VACUNACION'])\n",
    "df=pd.read_csv('vacunas_covid.csv', usecols=['FECHA_CORTE', 'EDAD', 'SEXO', 'FECHA_VACUNACION', 'DOSIS', 'DEPARTAMENTO'], parse_dates=['FECHA_CORTE', 'FECHA_VACUNACION'])\n",
    "FECHA_CORTE=df['FECHA_CORTE'].unique()\n",
    "FECHA_CORTE=pd.to_datetime(FECHA_CORTE[0]).strftime('%Y-%m-%d')"
   ]
  },
  {
   "cell_type": "code",
   "execution_count": 2,
   "metadata": {},
   "outputs": [
    {
     "output_type": "execute_result",
     "data": {
      "text/plain": [
       "                  DOSIS1  DOSIS2\n",
       "FECHA_VACUNACION                \n",
       "2021-02-09          3842       0\n",
       "2021-02-10         16595       0\n",
       "2021-02-11         33848       0\n",
       "2021-02-12         32341       0\n",
       "2021-02-13         18899       0\n",
       "...                  ...     ...\n",
       "2021-05-05         17678    3609\n",
       "2021-05-06         31650    1539\n",
       "2021-05-07         24364    9778\n",
       "2021-05-08         39399   12640\n",
       "2021-05-09         13011   10805\n",
       "\n",
       "[90 rows x 2 columns]"
      ],
      "text/html": "<div>\n<style scoped>\n    .dataframe tbody tr th:only-of-type {\n        vertical-align: middle;\n    }\n\n    .dataframe tbody tr th {\n        vertical-align: top;\n    }\n\n    .dataframe thead th {\n        text-align: right;\n    }\n</style>\n<table border=\"1\" class=\"dataframe\">\n  <thead>\n    <tr style=\"text-align: right;\">\n      <th></th>\n      <th>DOSIS1</th>\n      <th>DOSIS2</th>\n    </tr>\n    <tr>\n      <th>FECHA_VACUNACION</th>\n      <th></th>\n      <th></th>\n    </tr>\n  </thead>\n  <tbody>\n    <tr>\n      <th>2021-02-09</th>\n      <td>3842</td>\n      <td>0</td>\n    </tr>\n    <tr>\n      <th>2021-02-10</th>\n      <td>16595</td>\n      <td>0</td>\n    </tr>\n    <tr>\n      <th>2021-02-11</th>\n      <td>33848</td>\n      <td>0</td>\n    </tr>\n    <tr>\n      <th>2021-02-12</th>\n      <td>32341</td>\n      <td>0</td>\n    </tr>\n    <tr>\n      <th>2021-02-13</th>\n      <td>18899</td>\n      <td>0</td>\n    </tr>\n    <tr>\n      <th>...</th>\n      <td>...</td>\n      <td>...</td>\n    </tr>\n    <tr>\n      <th>2021-05-05</th>\n      <td>17678</td>\n      <td>3609</td>\n    </tr>\n    <tr>\n      <th>2021-05-06</th>\n      <td>31650</td>\n      <td>1539</td>\n    </tr>\n    <tr>\n      <th>2021-05-07</th>\n      <td>24364</td>\n      <td>9778</td>\n    </tr>\n    <tr>\n      <th>2021-05-08</th>\n      <td>39399</td>\n      <td>12640</td>\n    </tr>\n    <tr>\n      <th>2021-05-09</th>\n      <td>13011</td>\n      <td>10805</td>\n    </tr>\n  </tbody>\n</table>\n<p>90 rows × 2 columns</p>\n</div>"
     },
     "metadata": {},
     "execution_count": 2
    }
   ],
   "source": [
    "#DIARIO DOSIS 1 Y DOSIS 2\n",
    "df_ambas_dosis=df[['FECHA_VACUNACION','DOSIS','SEXO']].groupby(['FECHA_VACUNACION','DOSIS']).count()\n",
    "df_ambas_dosis=df_ambas_dosis.reset_index()\n",
    "df_ambas_dosis=df_ambas_dosis.pivot(index='FECHA_VACUNACION', columns='DOSIS', values='SEXO')\n",
    "df_ambas_dosis=df_ambas_dosis.rename_axis(None, axis=1)\n",
    "df_ambas_dosis.columns=['DOSIS1','DOSIS2']\n",
    "df_ambas_dosis=df_ambas_dosis.fillna(0).astype('int')\n",
    "df_ambas_dosis"
   ]
  },
  {
   "cell_type": "code",
   "execution_count": 3,
   "metadata": {},
   "outputs": [
    {
     "output_type": "execute_result",
     "data": {
      "text/plain": [
       "                   DOSIS1  DOSIS2\n",
       "FECHA_VACUNACION                 \n",
       "2021-02-09           3842       0\n",
       "2021-02-10          20437       0\n",
       "2021-02-11          54285       0\n",
       "2021-02-12          86626       0\n",
       "2021-02-13         105525       0\n",
       "...                   ...     ...\n",
       "2021-05-05        1279294  664983\n",
       "2021-05-06        1310944  666522\n",
       "2021-05-07        1335308  676300\n",
       "2021-05-08        1374707  688940\n",
       "2021-05-09        1387718  699745\n",
       "\n",
       "[90 rows x 2 columns]"
      ],
      "text/html": "<div>\n<style scoped>\n    .dataframe tbody tr th:only-of-type {\n        vertical-align: middle;\n    }\n\n    .dataframe tbody tr th {\n        vertical-align: top;\n    }\n\n    .dataframe thead th {\n        text-align: right;\n    }\n</style>\n<table border=\"1\" class=\"dataframe\">\n  <thead>\n    <tr style=\"text-align: right;\">\n      <th></th>\n      <th>DOSIS1</th>\n      <th>DOSIS2</th>\n    </tr>\n    <tr>\n      <th>FECHA_VACUNACION</th>\n      <th></th>\n      <th></th>\n    </tr>\n  </thead>\n  <tbody>\n    <tr>\n      <th>2021-02-09</th>\n      <td>3842</td>\n      <td>0</td>\n    </tr>\n    <tr>\n      <th>2021-02-10</th>\n      <td>20437</td>\n      <td>0</td>\n    </tr>\n    <tr>\n      <th>2021-02-11</th>\n      <td>54285</td>\n      <td>0</td>\n    </tr>\n    <tr>\n      <th>2021-02-12</th>\n      <td>86626</td>\n      <td>0</td>\n    </tr>\n    <tr>\n      <th>2021-02-13</th>\n      <td>105525</td>\n      <td>0</td>\n    </tr>\n    <tr>\n      <th>...</th>\n      <td>...</td>\n      <td>...</td>\n    </tr>\n    <tr>\n      <th>2021-05-05</th>\n      <td>1279294</td>\n      <td>664983</td>\n    </tr>\n    <tr>\n      <th>2021-05-06</th>\n      <td>1310944</td>\n      <td>666522</td>\n    </tr>\n    <tr>\n      <th>2021-05-07</th>\n      <td>1335308</td>\n      <td>676300</td>\n    </tr>\n    <tr>\n      <th>2021-05-08</th>\n      <td>1374707</td>\n      <td>688940</td>\n    </tr>\n    <tr>\n      <th>2021-05-09</th>\n      <td>1387718</td>\n      <td>699745</td>\n    </tr>\n  </tbody>\n</table>\n<p>90 rows × 2 columns</p>\n</div>"
     },
     "metadata": {},
     "execution_count": 3
    }
   ],
   "source": [
    "#ACUMULADO DOSIS 1 Y DOSIS 2\n",
    "df_ambas_dosis_cum=df_ambas_dosis.cumsum()\n",
    "df_ambas_dosis_cum"
   ]
  },
  {
   "cell_type": "code",
   "execution_count": 4,
   "id": "textile-institution",
   "metadata": {},
   "outputs": [],
   "source": [
    "col_poblacion=[426806,\n",
    "1180638,\n",
    "430736,\n",
    "1497438,\n",
    "668213,\n",
    "1453711,\n",
    "1129854,\n",
    "1357075,\n",
    "365317,\n",
    "760267,\n",
    "975182,\n",
    "1361467,\n",
    "2016771,\n",
    "1310785,\n",
    "10628470,\n",
    "1027559,\n",
    "173811,\n",
    "192740,\n",
    "271904,\n",
    "2047954,\n",
    "1237997,\n",
    "899648,\n",
    "370974,\n",
    "251521,\n",
    "589110]\n"
   ]
  },
  {
   "cell_type": "code",
   "execution_count": 8,
   "metadata": {},
   "outputs": [
    {
     "output_type": "execute_result",
     "data": {
      "text/plain": [
       "                DOSIS2  POBLACION  INDICE\n",
       "DEPARTAMENTO                             \n",
       "AMAZONAS         23244     426806    5446\n",
       "ANCASH           49617    1180638    4203\n",
       "APURIMAC         40018     430736    9291\n",
       "AREQUIPA         81950    1497438    5473\n",
       "AYACUCHO         47682     668213    7136\n",
       "CAJAMARCA        39452    1453711    2714\n",
       "CALLAO          166797    1129854   14763\n",
       "CUSCO            38752    1357075    2856\n",
       "HUANCAVELICA     33505     365317    9171\n",
       "HUANUCO          40321     760267    5304\n",
       "ICA              48535     975182    4977\n",
       "JUNIN            51172    1361467    3759\n",
       "LA LIBERTAD      84837    2016771    4207\n",
       "LAMBAYEQUE       45042    1310785    3436\n",
       "LIMA           1033366   10628470    9723\n",
       "LORETO           42673    1027559    4153\n",
       "MADRE DE DIOS     7738     173811    4452\n",
       "MOQUEGUA         10618     192740    5509\n",
       "PASCO            15607     271904    5740\n",
       "PIURA            61722    2047954    3014\n",
       "PUNO             30509    1237997    2464\n",
       "SAN MARTIN       33837     899648    3761\n",
       "TACNA            19388     370974    5226\n",
       "TUMBES           18411     251521    7320\n",
       "UCAYALI          22670     589110    3848"
      ],
      "text/html": "<div>\n<style scoped>\n    .dataframe tbody tr th:only-of-type {\n        vertical-align: middle;\n    }\n\n    .dataframe tbody tr th {\n        vertical-align: top;\n    }\n\n    .dataframe thead th {\n        text-align: right;\n    }\n</style>\n<table border=\"1\" class=\"dataframe\">\n  <thead>\n    <tr style=\"text-align: right;\">\n      <th></th>\n      <th>DOSIS2</th>\n      <th>POBLACION</th>\n      <th>INDICE</th>\n    </tr>\n    <tr>\n      <th>DEPARTAMENTO</th>\n      <th></th>\n      <th></th>\n      <th></th>\n    </tr>\n  </thead>\n  <tbody>\n    <tr>\n      <th>AMAZONAS</th>\n      <td>23244</td>\n      <td>426806</td>\n      <td>5446</td>\n    </tr>\n    <tr>\n      <th>ANCASH</th>\n      <td>49617</td>\n      <td>1180638</td>\n      <td>4203</td>\n    </tr>\n    <tr>\n      <th>APURIMAC</th>\n      <td>40018</td>\n      <td>430736</td>\n      <td>9291</td>\n    </tr>\n    <tr>\n      <th>AREQUIPA</th>\n      <td>81950</td>\n      <td>1497438</td>\n      <td>5473</td>\n    </tr>\n    <tr>\n      <th>AYACUCHO</th>\n      <td>47682</td>\n      <td>668213</td>\n      <td>7136</td>\n    </tr>\n    <tr>\n      <th>CAJAMARCA</th>\n      <td>39452</td>\n      <td>1453711</td>\n      <td>2714</td>\n    </tr>\n    <tr>\n      <th>CALLAO</th>\n      <td>166797</td>\n      <td>1129854</td>\n      <td>14763</td>\n    </tr>\n    <tr>\n      <th>CUSCO</th>\n      <td>38752</td>\n      <td>1357075</td>\n      <td>2856</td>\n    </tr>\n    <tr>\n      <th>HUANCAVELICA</th>\n      <td>33505</td>\n      <td>365317</td>\n      <td>9171</td>\n    </tr>\n    <tr>\n      <th>HUANUCO</th>\n      <td>40321</td>\n      <td>760267</td>\n      <td>5304</td>\n    </tr>\n    <tr>\n      <th>ICA</th>\n      <td>48535</td>\n      <td>975182</td>\n      <td>4977</td>\n    </tr>\n    <tr>\n      <th>JUNIN</th>\n      <td>51172</td>\n      <td>1361467</td>\n      <td>3759</td>\n    </tr>\n    <tr>\n      <th>LA LIBERTAD</th>\n      <td>84837</td>\n      <td>2016771</td>\n      <td>4207</td>\n    </tr>\n    <tr>\n      <th>LAMBAYEQUE</th>\n      <td>45042</td>\n      <td>1310785</td>\n      <td>3436</td>\n    </tr>\n    <tr>\n      <th>LIMA</th>\n      <td>1033366</td>\n      <td>10628470</td>\n      <td>9723</td>\n    </tr>\n    <tr>\n      <th>LORETO</th>\n      <td>42673</td>\n      <td>1027559</td>\n      <td>4153</td>\n    </tr>\n    <tr>\n      <th>MADRE DE DIOS</th>\n      <td>7738</td>\n      <td>173811</td>\n      <td>4452</td>\n    </tr>\n    <tr>\n      <th>MOQUEGUA</th>\n      <td>10618</td>\n      <td>192740</td>\n      <td>5509</td>\n    </tr>\n    <tr>\n      <th>PASCO</th>\n      <td>15607</td>\n      <td>271904</td>\n      <td>5740</td>\n    </tr>\n    <tr>\n      <th>PIURA</th>\n      <td>61722</td>\n      <td>2047954</td>\n      <td>3014</td>\n    </tr>\n    <tr>\n      <th>PUNO</th>\n      <td>30509</td>\n      <td>1237997</td>\n      <td>2464</td>\n    </tr>\n    <tr>\n      <th>SAN MARTIN</th>\n      <td>33837</td>\n      <td>899648</td>\n      <td>3761</td>\n    </tr>\n    <tr>\n      <th>TACNA</th>\n      <td>19388</td>\n      <td>370974</td>\n      <td>5226</td>\n    </tr>\n    <tr>\n      <th>TUMBES</th>\n      <td>18411</td>\n      <td>251521</td>\n      <td>7320</td>\n    </tr>\n    <tr>\n      <th>UCAYALI</th>\n      <td>22670</td>\n      <td>589110</td>\n      <td>3848</td>\n    </tr>\n  </tbody>\n</table>\n</div>"
     },
     "metadata": {},
     "execution_count": 8
    }
   ],
   "source": [
    "# ACUMULADO POR DEPARTAMENTO (DOSIS 2 - VACUNACION COMPLETA)\n",
    "df_ambas_dosis_departamento=df[['DEPARTAMENTO', 'SEXO']].groupby(['DEPARTAMENTO']).count()\n",
    "df_ambas_dosis_departamento=df_ambas_dosis_departamento.reset_index()\n",
    "df_ambas_dosis_departamento.rename(columns = {'SEXO':'DOSIS2'}, inplace = True)\n",
    "df_ambas_dosis_departamento_dosis2=df_ambas_dosis_departamento[['DEPARTAMENTO','DOSIS2']]\n",
    "df_ambas_dosis_departamento_dosis2=df_ambas_dosis_departamento_dosis2.reset_index(drop=True)\n",
    "df_ambas_dosis_departamento_dosis2['POBLACION']=col_poblacion\n",
    "df_ambas_dosis_departamento_dosis2['INDICE']=round(df_ambas_dosis_departamento_dosis2['DOSIS2']/(df_ambas_dosis_departamento_dosis2['POBLACION']/100000)).astype('int')\n",
    "df_ambas_dosis_departamento_dosis2=df_ambas_dosis_departamento_dosis2.set_index('DEPARTAMENTO')\n",
    "df_ambas_dosis_departamento_dosis2"
   ]
  },
  {
   "cell_type": "code",
   "execution_count": 13,
   "metadata": {},
   "outputs": [
    {
     "output_type": "execute_result",
     "data": {
      "text/plain": [
       "               DOSIS2  POBLACION  PORCENTAJE\n",
       "GRUPO_ETARIO                                \n",
       "18 a 19 años    10063     900000        1.12\n",
       "20 a 29 años   126416    5700000        2.22\n",
       "30 a 39 años   160768    5300000        3.03\n",
       "40 a 49 años   119122    4400000        2.71\n",
       "50 a 59 años    88114    3300000        2.67\n",
       "60 a 69 años    55009    2300000        2.39\n",
       "70 a 79 años    24225    1300000        1.86\n",
       "80 años a más   59186     700000        8.46"
      ],
      "text/html": "<div>\n<style scoped>\n    .dataframe tbody tr th:only-of-type {\n        vertical-align: middle;\n    }\n\n    .dataframe tbody tr th {\n        vertical-align: top;\n    }\n\n    .dataframe thead th {\n        text-align: right;\n    }\n</style>\n<table border=\"1\" class=\"dataframe\">\n  <thead>\n    <tr style=\"text-align: right;\">\n      <th></th>\n      <th>DOSIS2</th>\n      <th>POBLACION</th>\n      <th>PORCENTAJE</th>\n    </tr>\n    <tr>\n      <th>GRUPO_ETARIO</th>\n      <th></th>\n      <th></th>\n      <th></th>\n    </tr>\n  </thead>\n  <tbody>\n    <tr>\n      <th>18 a 19 años</th>\n      <td>10063</td>\n      <td>900000</td>\n      <td>1.12</td>\n    </tr>\n    <tr>\n      <th>20 a 29 años</th>\n      <td>126416</td>\n      <td>5700000</td>\n      <td>2.22</td>\n    </tr>\n    <tr>\n      <th>30 a 39 años</th>\n      <td>160768</td>\n      <td>5300000</td>\n      <td>3.03</td>\n    </tr>\n    <tr>\n      <th>40 a 49 años</th>\n      <td>119122</td>\n      <td>4400000</td>\n      <td>2.71</td>\n    </tr>\n    <tr>\n      <th>50 a 59 años</th>\n      <td>88114</td>\n      <td>3300000</td>\n      <td>2.67</td>\n    </tr>\n    <tr>\n      <th>60 a 69 años</th>\n      <td>55009</td>\n      <td>2300000</td>\n      <td>2.39</td>\n    </tr>\n    <tr>\n      <th>70 a 79 años</th>\n      <td>24225</td>\n      <td>1300000</td>\n      <td>1.86</td>\n    </tr>\n    <tr>\n      <th>80 años a más</th>\n      <td>59186</td>\n      <td>700000</td>\n      <td>8.46</td>\n    </tr>\n  </tbody>\n</table>\n</div>"
     },
     "metadata": {},
     "execution_count": 13
    }
   ],
   "source": [
    "# ACUMULADO POR GRUPO ETARIO (DOSIS 2 - VACUNACION COMPLETA)\n",
    "bins = [18,20,30,40,50,60,70,80,df['EDAD'].max()+1]\n",
    "labels = ['18 a 19 años','20 a 29 años','30 a 39 años','40 a 49 años','50 a 59 años','60 a 69 años','70 a 79 años','80 años a más']\n",
    "poblacion_por_grupo_etario = [900000,5700000,5300000,4400000,3300000,2300000,1300000,700000] \n",
    "df_edades = df\n",
    "df_edades['GRUPO_ETARIO'] = pd.cut(df['EDAD'], bins=bins, labels=labels, right=False)\n",
    "df_edades = df_edades[df_edades.DOSIS == 2].groupby(['GRUPO_ETARIO'])[\"DOSIS\"].count().reset_index()\n",
    "df_edades.rename(columns = {'DOSIS':'DOSIS2'}, inplace = True)\n",
    "df_edades['POBLACION']=poblacion_por_grupo_etario\n",
    "df_edades['PORCENTAJE']=round(df_edades['DOSIS2']/df_edades['POBLACION']*100,2)\n",
    "df_edades=df_edades.set_index('GRUPO_ETARIO')\n",
    "df_edades"
   ]
  },
  {
   "cell_type": "code",
   "execution_count": 14,
   "id": "first-formation",
   "metadata": {
    "pycharm": {
     "name": "#%%\n"
    }
   },
   "outputs": [],
   "source": [
    "df_ambas_dosis.to_csv('../resultados/dosis1y2.csv')\n",
    "df_ambas_dosis_cum.to_csv('../resultados/acumulados1y2.csv')\n",
    "df_ambas_dosis_departamento_dosis2.to_csv('../resultados/departamentos.csv')\n",
    "df_edades.to_csv('../resultados/dosis2_por_edades.csv')"
   ]
  }
 ],
 "metadata": {
  "kernelspec": {
   "name": "python3",
   "display_name": "Python 3",
   "language": "python"
  },
  "language_info": {
   "codemirror_mode": {
    "name": "ipython",
    "version": 3
   },
   "file_extension": ".py",
   "mimetype": "text/x-python",
   "name": "python",
   "nbconvert_exporter": "python",
   "pygments_lexer": "ipython3",
   "version": "3.8.5"
  },
  "metadata": {
   "interpreter": {
    "hash": "0adcc2737ebf6a4a119f135174df96668767fca1ef1112612db5ecadf2b6d608"
   }
  }
 },
 "nbformat": 4,
 "nbformat_minor": 5
}